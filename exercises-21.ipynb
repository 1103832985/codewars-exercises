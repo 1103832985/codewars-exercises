{
 "cells": [
  {
   "cell_type": "markdown",
   "metadata": {},
   "source": [
    "# Reverse polish notation calculator"
   ]
  },
  {
   "cell_type": "code",
   "execution_count": null,
   "metadata": {},
   "outputs": [],
   "source": [
    "'''\n",
    "Your job is to create a calculator which evaluates expressions in Reverse Polish notation.\n",
    "For example expression 5 1 2 + 4 * + 3 - (which is equivalent to 5 + ((1 + 2) * 4) - 3 in normal notation) should evaluate to 14.\n",
    "For your convenience, the input is formatted such that a space is provided between every token.\n",
    "Empty expression should evaluate to 0.\n",
    "Valid operations are +, -, *, /.\n",
    "You may assume that there won't be exceptional situations (like stack underflow or division by zero).\n",
    "'''"
   ]
  },
  {
   "cell_type": "code",
   "execution_count": 23,
   "metadata": {},
   "outputs": [
    {
     "data": {
      "text/plain": [
       "14"
      ]
     },
     "execution_count": 23,
     "metadata": {},
     "output_type": "execute_result"
    }
   ],
   "source": [
    "def calc(expr):\n",
    "    if len(expr) == 0:\n",
    "        return 0\n",
    "    a = ['+','-','*','/']\n",
    "    b = []\n",
    "    for i in expr.split():\n",
    "        if i not in a:\n",
    "            b.append(i)\n",
    "        else:\n",
    "            if i == '+':\n",
    "                c = int(b[len(b)-2]) + int(b[len(b)-1])\n",
    "            elif i == '-':\n",
    "                c = int(b[len(b)-2]) - int(b[len(b)-1])\n",
    "            elif i == '*':\n",
    "                c = int(b[len(b)-2]) * int(b[len(b)-1])\n",
    "            elif i == '/':\n",
    "                c = int(b[len(b)-2]) / int(b[len(b)-1])\n",
    "            b.pop(len(b)-1)\n",
    "            b.pop(len(b)-1)\n",
    "            b.append(str(c))\n",
    "    return eval(b[0])\n",
    "            \n",
    "calc(\"5 1 2 + 4 * + 3 - \")"
   ]
  },
  {
   "cell_type": "code",
   "execution_count": 28,
   "metadata": {},
   "outputs": [
    {
     "data": {
      "text/plain": [
       "14"
      ]
     },
     "execution_count": 28,
     "metadata": {},
     "output_type": "execute_result"
    }
   ],
   "source": [
    "def calc(expr):\n",
    "    if len(expr)>0:\n",
    "        a,b = ['+','-','*','/'],[]\n",
    "        for i in expr.split():\n",
    "            if i not in a:\n",
    "                b.append(i)\n",
    "            else:\n",
    "                n = int(b.pop())\n",
    "                m = int(b.pop())\n",
    "                if i == '+':\n",
    "                    c = m + n\n",
    "                elif i == '-':\n",
    "                    c = m - n\n",
    "                elif i == '*':\n",
    "                    c = m * n\n",
    "                elif i == '/':\n",
    "                    c = m / n\n",
    "                b.append(str(c))\n",
    "        return eval(b[0])\n",
    "    return 0\n",
    "calc(\"5 1 2 + 4 * + 3 - \")"
   ]
  },
  {
   "cell_type": "code",
   "execution_count": 20,
   "metadata": {},
   "outputs": [
    {
     "data": {
      "text/plain": [
       "14.0"
      ]
     },
     "execution_count": 20,
     "metadata": {},
     "output_type": "execute_result"
    }
   ],
   "source": [
    "from operator import add, sub, mul, truediv\n",
    "operators = { \"+\": add, \"-\": sub, \"*\": mul, \"/\": truediv}\n",
    "def calc(expr):\n",
    "    stack = []\n",
    "    for term in expr.split():\n",
    "        if term in operators:\n",
    "            nr2 = stack.pop()\n",
    "            nr1 = stack.pop()\n",
    "            term = operators[term](nr1, nr2)\n",
    "        stack.append(float(term))\n",
    "    return stack[0] if stack else 0\n",
    "calc(\"5 1 2 + 4 * + 3 - \")"
   ]
  },
  {
   "cell_type": "markdown",
   "metadata": {},
   "source": [
    "# Split Strings"
   ]
  },
  {
   "cell_type": "code",
   "execution_count": null,
   "metadata": {},
   "outputs": [],
   "source": [
    "'''\n",
    "Complete the solution so that it splits the string into pairs of two characters. If the string contains\n",
    "an odd number of characters then it should replace the missing second character of the final pair with an underscore ('_').\n",
    "\n",
    "Examples:\n",
    "solution('abc') # should return ['ab', 'c_']\n",
    "solution('abcdef') # should return ['ab', 'cd', 'ef']\n",
    "'''"
   ]
  },
  {
   "cell_type": "code",
   "execution_count": 5,
   "metadata": {},
   "outputs": [
    {
     "data": {
      "text/plain": [
       "['ab', 'cd', 'e_']"
      ]
     },
     "execution_count": 5,
     "metadata": {},
     "output_type": "execute_result"
    }
   ],
   "source": [
    "def solution(s):\n",
    "    n,i = [],0\n",
    "    if len(s)%2 == 0:\n",
    "        while i < len(s):\n",
    "            n.append(s[i:i+2])\n",
    "            i += 2\n",
    "    else:\n",
    "        while i < len(s)-1:\n",
    "            n.append(s[i:i+2])\n",
    "            i += 2\n",
    "        n.append(s[-1]+'_')\n",
    "    return n\n",
    "\n",
    "solution('abcde')"
   ]
  },
  {
   "cell_type": "code",
   "execution_count": 6,
   "metadata": {},
   "outputs": [
    {
     "data": {
      "text/plain": [
       "['ab', 'cd', 'e_']"
      ]
     },
     "execution_count": 6,
     "metadata": {},
     "output_type": "execute_result"
    }
   ],
   "source": [
    "import re\n",
    "def solution(s):\n",
    "    return re.findall(\".{2}\", s + \"_\")\n",
    "solution('abcde')"
   ]
  },
  {
   "cell_type": "code",
   "execution_count": 7,
   "metadata": {},
   "outputs": [
    {
     "data": {
      "text/plain": [
       "['ab', 'cd', 'e_']"
      ]
     },
     "execution_count": 7,
     "metadata": {},
     "output_type": "execute_result"
    }
   ],
   "source": [
    "def solution(s):\n",
    "    result = []\n",
    "    if len(s) % 2:\n",
    "        s += '_'\n",
    "    for i in range(0, len(s), 2):\n",
    "        result.append(s[i:i+2])\n",
    "    return result\n",
    "solution('abcde')"
   ]
  },
  {
   "cell_type": "markdown",
   "metadata": {},
   "source": [
    "# Find the missing term in an Arithmetic Progression"
   ]
  },
  {
   "cell_type": "code",
   "execution_count": null,
   "metadata": {},
   "outputs": [],
   "source": [
    "'''\n",
    "  An Arithmetic Progression is defined as one in which there is a constant difference between the consecutive terms\n",
    "of a given series of numbers. You are provided with consecutive elements of an Arithmetic Progression. \n",
    "There is however one hitch: exactly one term from the original series is missing from the set of numbers which have been given to you. \n",
    "The rest of the given series is the same as the original AP. Find the missing term.\n",
    "  You have to write the function findMissing(list), list will always be at least 3 numbers.\n",
    "The missing term will never be the first or last one.\n",
    "Example\n",
    "find_missing([1, 3, 5, 9, 11]) == 7\n",
    "PS: This is a sample question of the facebook engineer challenge on interviewstreet. \n",
    "I found it quite fun to solve on paper using math, derive the algo that way. Have fun!\n",
    "'''"
   ]
  },
  {
   "cell_type": "code",
   "execution_count": 4,
   "metadata": {},
   "outputs": [
    {
     "data": {
      "text/plain": [
       "3"
      ]
     },
     "execution_count": 4,
     "metadata": {},
     "output_type": "execute_result"
    }
   ],
   "source": [
    "def find_missing(a):\n",
    "    for i in range(len(a))[1:-1]:\n",
    "        m = a[i] - a[i-1]\n",
    "        n = a[i+1] - a[i]\n",
    "        if m > n:\n",
    "            return a[i-1] + n\n",
    "        elif m < n:\n",
    "            return a[i] + m\n",
    "\n",
    "find_missing([1,2,4]) "
   ]
  },
  {
   "cell_type": "code",
   "execution_count": 7,
   "metadata": {},
   "outputs": [
    {
     "data": {
      "text/plain": [
       "7.0"
      ]
     },
     "execution_count": 7,
     "metadata": {},
     "output_type": "execute_result"
    }
   ],
   "source": [
    "def find_missing(t):\n",
    "    return (t[0] + t[-1]) * (len(t) + 1) / 2 - sum(t)\n",
    "find_missing([1, 3, 5, 9, 11])"
   ]
  }
 ],
 "metadata": {
  "kernelspec": {
   "display_name": "Python 3",
   "language": "python",
   "name": "python3"
  },
  "language_info": {
   "codemirror_mode": {
    "name": "ipython",
    "version": 3
   },
   "file_extension": ".py",
   "mimetype": "text/x-python",
   "name": "python",
   "nbconvert_exporter": "python",
   "pygments_lexer": "ipython3",
   "version": "3.7.1"
  }
 },
 "nbformat": 4,
 "nbformat_minor": 2
}
