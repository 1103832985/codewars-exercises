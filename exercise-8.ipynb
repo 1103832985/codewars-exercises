{
 "cells": [
  {
   "cell_type": "markdown",
   "metadata": {},
   "source": [
    "# Find The Parity Outlier"
   ]
  },
  {
   "cell_type": "code",
   "execution_count": null,
   "metadata": {},
   "outputs": [],
   "source": [
    "'''\n",
    "You are given an array (which will have a length of at least 3, but could be very large) containing integers. \n",
    "The array is either entirely comprised of odd integers or entirely comprised of even integers except for a single integer N. \n",
    "Write a method that takes the array as an argument and returns this \"outlier\" N.\n",
    "Examples\n",
    "[2, 4, 0, 100, 4, 11, 2602, 36]\n",
    "Should return: 11 (the only odd number)\n",
    "[160, 3, 1719, 19, 11, 13, -21]\n",
    "Should return: 160 (the only even number)\n",
    "'''"
   ]
  },
  {
   "cell_type": "code",
   "execution_count": 15,
   "metadata": {},
   "outputs": [
    {
     "data": {
      "text/plain": [
       "160"
      ]
     },
     "execution_count": 15,
     "metadata": {},
     "output_type": "execute_result"
    }
   ],
   "source": [
    "def find_outlier(integers):\n",
    "    a = integers[0] % 2\n",
    "    b = integers[1] % 2\n",
    "    if a == b:\n",
    "        for i in integers[2:]:\n",
    "            if i % 2 != a:\n",
    "                return i\n",
    "    elif a != b:\n",
    "        c = integers[2] % 2\n",
    "        if c == a:\n",
    "            return integers[1]\n",
    "        elif c == b:\n",
    "            return integers[0]\n",
    "\n",
    "find_outlier([160, 3, 1719, 19, 11, 13, -21])"
   ]
  },
  {
   "cell_type": "code",
   "execution_count": 16,
   "metadata": {},
   "outputs": [
    {
     "data": {
      "text/plain": [
       "160"
      ]
     },
     "execution_count": 16,
     "metadata": {},
     "output_type": "execute_result"
    }
   ],
   "source": [
    "def find_outlier(int):\n",
    "    odds = [x for x in int if x%2!=0]\n",
    "    evens= [x for x in int if x%2==0]\n",
    "    return odds[0] if len(odds)<len(evens) else evens[0]\n",
    "find_outlier([160, 3, 1719, 19, 11, 13, -21])"
   ]
  },
  {
   "cell_type": "code",
   "execution_count": 18,
   "metadata": {},
   "outputs": [
    {
     "name": "stdout",
     "output_type": "stream",
     "text": [
      "[3, 1719, 19, 11, 13, -21]\n",
      "[160]\n"
     ]
    }
   ],
   "source": [
    "int = [160, 3, 1719, 19, 11, 13, -21]\n",
    "odds = [x for x in int if x%2!=0]\n",
    "evens= [x for x in int if x%2==0]\n",
    "print(odds)\n",
    "print(evens)"
   ]
  },
  {
   "cell_type": "markdown",
   "metadata": {},
   "source": [
    "# Sum of Digits / Digital Root"
   ]
  },
  {
   "cell_type": "code",
   "execution_count": null,
   "metadata": {},
   "outputs": [],
   "source": [
    "'''\n",
    "In this kata, you must create a digital root function.\n",
    "A digital root is the recursive sum of all the digits in a number. Given n, take the sum of the digits of n. \n",
    "If that value has more than one digit, continue reducing in this way until a single-digit number is produced.\n",
    "This is only applicable to the natural numbers.\n",
    "Here's how it works:\n",
    "digital_root(16)\n",
    "=> 1 + 6\n",
    "=> 7\n",
    "digital_root(942)\n",
    "=> 9 + 4 + 2\n",
    "=> 15 ...\n",
    "=> 1 + 5\n",
    "=> 6\n",
    "digital_root(132189)\n",
    "=> 1 + 3 + 2 + 1 + 8 + 9\n",
    "=> 24 ...\n",
    "=> 2 + 4\n",
    "=> 6\n",
    "'''"
   ]
  },
  {
   "cell_type": "code",
   "execution_count": 1,
   "metadata": {},
   "outputs": [
    {
     "data": {
      "text/plain": [
       "6"
      ]
     },
     "execution_count": 1,
     "metadata": {},
     "output_type": "execute_result"
    }
   ],
   "source": [
    "def xx(n):\n",
    "    a = 0\n",
    "    for i in str(n):\n",
    "        a += int(i)\n",
    "    return a\n",
    "def digital_root(n):\n",
    "    while len(str(n)) > 1:\n",
    "        n = xx(n)\n",
    "    return n\n",
    "digital_root(132189)"
   ]
  },
  {
   "cell_type": "code",
   "execution_count": 2,
   "metadata": {},
   "outputs": [
    {
     "data": {
      "text/plain": [
       "6"
      ]
     },
     "execution_count": 2,
     "metadata": {},
     "output_type": "execute_result"
    }
   ],
   "source": [
    "def digital_root(n):\n",
    "    return n if n < 10 else digital_root(sum(map(int,str(n))))\n",
    "digital_root(132189)"
   ]
  },
  {
   "cell_type": "code",
   "execution_count": 3,
   "metadata": {},
   "outputs": [
    {
     "data": {
      "text/plain": [
       "6"
      ]
     },
     "execution_count": 3,
     "metadata": {},
     "output_type": "execute_result"
    }
   ],
   "source": [
    "def digital_root(n):\n",
    "    return n%9 or n and 9 \n",
    "digital_root(132189)"
   ]
  },
  {
   "cell_type": "code",
   "execution_count": 18,
   "metadata": {},
   "outputs": [
    {
     "data": {
      "text/plain": [
       "15"
      ]
     },
     "execution_count": 18,
     "metadata": {},
     "output_type": "execute_result"
    }
   ],
   "source": [
    "n = 12345\n",
    "n = list(str(n))\n",
    "n = [int(i) for i in n]\n",
    "a = sum(n)\n",
    "a"
   ]
  },
  {
   "cell_type": "markdown",
   "metadata": {},
   "source": [
    "# Tribonacci Sequence"
   ]
  },
  {
   "cell_type": "code",
   "execution_count": null,
   "metadata": {},
   "outputs": [],
   "source": [
    "'''\n",
    "Well met with Fibonacci bigger brother, AKA Tribonacci.\n",
    "As the name may already reveal, it works basically like a Fibonacci, \n",
    "but summing the last 3 (instead of 2) numbers of the sequence to generate the next. \n",
    "And, worse part of it, regrettably I won't get to hear non-native Italian speakers trying to pronounce it :(\n",
    "So, if we are to start our Tribonacci sequence with [1, 1, 1] as a starting input (AKA signature), we have this sequence:\n",
    "[1, 1 ,1, 3, 5, 9, 17, 31, ...]\n",
    "But what if we started with [0, 0, 1] as a signature? As starting with [0, 1] \n",
    "instead of [1, 1] basically shifts the common Fibonacci sequence by once place, \n",
    "you may be tempted to think that we would get the same sequence shifted by 2 places, but that is not the case and we would get:\n",
    "[0, 0, 1, 1, 2, 4, 7, 13, 24, ...]\n",
    "Well, you may have guessed it by now, but to be clear: you need to create a fibonacci function that given a signature array/list, \n",
    "returns the first n elements - signature included of the so seeded sequence.\n",
    "Signature will always contain 3 numbers; n will always be a non-negative number; \n",
    "if n == 0, then return an empty array (except in C return NULL) and be ready for anything else which is not clearly specified ;)\n",
    "\n",
    "Test.assert_equals(tribonacci([1, 1, 1], 10), [1, 1, 1, 3, 5, 9, 17, 31, 57, 105])\n",
    "Test.assert_equals(tribonacci([0, 0, 1], 10), [0, 0, 1, 1, 2, 4, 7, 13, 24, 44])\n",
    "Test.assert_equals(tribonacci([0, 1, 1], 10), [0, 1, 1, 2, 4, 7, 13, 24, 44, 81])\n",
    "Test.assert_equals(tribonacci([1, 0, 0], 10), [1, 0, 0, 1, 1, 2, 4, 7, 13, 24])\n",
    "Test.assert_equals(tribonacci([0, 0, 0], 10), [0, 0, 0, 0, 0, 0, 0, 0, 0, 0])\n",
    "Test.assert_equals(tribonacci([1, 2, 3], 10), [1, 2, 3, 6, 11, 20, 37, 68, 125, 230])\n",
    "Test.assert_equals(tribonacci([3, 2, 1], 10), [3, 2, 1, 6, 9, 16, 31, 56, 103, 190])\n",
    "Test.assert_equals(tribonacci([1, 1, 1], 1), [1])\n",
    "Test.assert_equals(tribonacci([300, 200, 100], 0), [])\n",
    "'''"
   ]
  },
  {
   "cell_type": "code",
   "execution_count": 2,
   "metadata": {},
   "outputs": [
    {
     "data": {
      "text/plain": [
       "[3, 2, 1, 6, 9, 16, 31, 56, 103, 190]"
      ]
     },
     "execution_count": 2,
     "metadata": {},
     "output_type": "execute_result"
    }
   ],
   "source": [
    "def tribonacci(signature, n):\n",
    "    m = []\n",
    "    if n==0:\n",
    "        return m\n",
    "    elif n==1:\n",
    "        return signature[:1]\n",
    "    elif n==2:\n",
    "        return signature[:2]\n",
    "    elif n==3:\n",
    "        return signature\n",
    "    else:\n",
    "        a = signature[0]\n",
    "        b = signature[1]\n",
    "        c = signature[2]\n",
    "        m = signature\n",
    "        while n>3:\n",
    "            a,b,c = b,c,a+b+c\n",
    "            m.append(c)\n",
    "            n -= 1\n",
    "        return m\n",
    "tribonacci([3, 2, 1], 10)     "
   ]
  },
  {
   "cell_type": "code",
   "execution_count": 12,
   "metadata": {},
   "outputs": [
    {
     "data": {
      "text/plain": [
       "[3, 2, 1, 6, 9, 16, 31, 56, 103, 190]"
      ]
     },
     "execution_count": 12,
     "metadata": {},
     "output_type": "execute_result"
    }
   ],
   "source": [
    "#经过上述化简得：\n",
    "def tribonacci(signature, n):\n",
    "    if n<=3:\n",
    "        return signature[:n]\n",
    "    else:\n",
    "        a = signature[0]\n",
    "        b = signature[1]\n",
    "        c = signature[2]\n",
    "        m = signature\n",
    "        while n>3:\n",
    "            a,b,c = b,c,a+b+c\n",
    "            m.append(c)\n",
    "            n -= 1\n",
    "        return m\n",
    "tribonacci([3, 2, 1],10) "
   ]
  },
  {
   "cell_type": "code",
   "execution_count": 13,
   "metadata": {},
   "outputs": [
    {
     "data": {
      "text/plain": [
       "[3, 2, 1, 6, 9, 16, 31, 56, 103, 190]"
      ]
     },
     "execution_count": 13,
     "metadata": {},
     "output_type": "execute_result"
    }
   ],
   "source": [
    "def tribonacci(signature, n):\n",
    "    res = signature[:n]\n",
    "    for i in range(n - 3): res.append(sum(res[-3:]))\n",
    "    return res\n",
    "tribonacci([3, 2, 1],10) "
   ]
  },
  {
   "cell_type": "code",
   "execution_count": null,
   "metadata": {},
   "outputs": [],
   "source": []
  }
 ],
 "metadata": {
  "kernelspec": {
   "display_name": "Python 3",
   "language": "python",
   "name": "python3"
  },
  "language_info": {
   "codemirror_mode": {
    "name": "ipython",
    "version": 3
   },
   "file_extension": ".py",
   "mimetype": "text/x-python",
   "name": "python",
   "nbconvert_exporter": "python",
   "pygments_lexer": "ipython3",
   "version": "3.7.1"
  }
 },
 "nbformat": 4,
 "nbformat_minor": 2
}
