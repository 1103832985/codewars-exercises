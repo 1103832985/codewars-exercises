{
 "cells": [
  {
   "cell_type": "code",
   "execution_count": null,
   "metadata": {},
   "outputs": [],
   "source": [
    "'''\n",
    "完成方法/功能，以便将短划线/下划线分隔的单词转换为驼峰套管。输出中的第一个单词只有在原始单词大写时才应大写。\n",
    "例子\n",
    "to_camel_case(\"the-stealth-warrior\") # returns \"theStealthWarrior\"\n",
    "to_camel_case(\"The_Stealth_Warrior\") # returns \"TheStealthWarrior\"\n",
    "'''"
   ]
  },
  {
   "cell_type": "code",
   "execution_count": 17,
   "metadata": {},
   "outputs": [
    {
     "data": {
      "text/plain": [
       "'TheStealthWarrior'"
      ]
     },
     "execution_count": 17,
     "metadata": {},
     "output_type": "execute_result"
    }
   ],
   "source": [
    "def to_camel_case(text):\n",
    "    text = text.split('-')\n",
    "    text = ' '.join(text)\n",
    "    text = text.split('_')\n",
    "    text = ' '.join(text)\n",
    "    text = text.split()\n",
    "    n = []\n",
    "    for i,m in enumerate(text):\n",
    "        if i == 0:\n",
    "            n.append(m)\n",
    "        else:\n",
    "            n.append(m.title())\n",
    "    return ''.join(n)\n",
    "    \n",
    "to_camel_case(\"The-Stealth_Warrior\")"
   ]
  },
  {
   "cell_type": "code",
   "execution_count": 13,
   "metadata": {},
   "outputs": [
    {
     "data": {
      "text/plain": [
       "['The', 'StealthWarrior']"
      ]
     },
     "execution_count": 13,
     "metadata": {},
     "output_type": "execute_result"
    }
   ],
   "source": [
    "text =\"The_Stealth-Warrior\"\n",
    "text = text.split('-')\n",
    "text = ''.join(text)\n",
    "text = text.split('_')\n",
    "text\n"
   ]
  },
  {
   "cell_type": "code",
   "execution_count": null,
   "metadata": {},
   "outputs": [],
   "source": [
    "'''\n",
    "编写一个接受10个整数（0到9之间）数组的函数，它以电话号码的形式返回这些数字的字符串。\n",
    "例：\n",
    "create_phone_number([1, 2, 3, 4, 5, 6, 7, 8, 9, 0]) # => returns \"(123) 456-7890\"\n",
    "返回的格式必须正确才能完成此挑战。\n",
    "在结束括号后不要忘记空格！\n",
    "'''"
   ]
  },
  {
   "cell_type": "code",
   "execution_count": 25,
   "metadata": {},
   "outputs": [
    {
     "data": {
      "text/plain": [
       "'(123) 456-7890'"
      ]
     },
     "execution_count": 25,
     "metadata": {},
     "output_type": "execute_result"
    }
   ],
   "source": [
    "def create_phone_number(n):\n",
    "    #先把数字列表转化为字符列表\n",
    "    n = [ str(i) for i in n]\n",
    "    n = ''.join(n)\n",
    "    m = ''\n",
    "    m += '(' + n[:3] + ')' + ' ' + n[3:6] + '-' + n[6:]\n",
    "    return m\n",
    "\n",
    "create_phone_number([1, 2, 3, 4, 5, 6, 7, 8, 9, 0])  "
   ]
  },
  {
   "cell_type": "code",
   "execution_count": 26,
   "metadata": {},
   "outputs": [
    {
     "data": {
      "text/plain": [
       "'(123) 456-7890'"
      ]
     },
     "execution_count": 26,
     "metadata": {},
     "output_type": "execute_result"
    }
   ],
   "source": [
    "def create_phone_number(n):\n",
    "    return \"({}{}{}) {}{}{}-{}{}{}{}\".format(*n)\n",
    "\n",
    "create_phone_number([1, 2, 3, 4, 5, 6, 7, 8, 9, 0]) "
   ]
  },
  {
   "cell_type": "code",
   "execution_count": 27,
   "metadata": {},
   "outputs": [
    {
     "data": {
      "text/plain": [
       "'(123) 456-7890'"
      ]
     },
     "execution_count": 27,
     "metadata": {},
     "output_type": "execute_result"
    }
   ],
   "source": [
    "def create_phone_number(n):\n",
    "    n = ''.join(str(x) for x in n)\n",
    "    return '(%s) %s-%s' % (n[:3], n[3:6], n[6:])\n",
    "\n",
    "create_phone_number([1, 2, 3, 4, 5, 6, 7, 8, 9, 0]) "
   ]
  },
  {
   "cell_type": "code",
   "execution_count": 24,
   "metadata": {},
   "outputs": [
    {
     "data": {
      "text/plain": [
       "'(123) 456-7890'"
      ]
     },
     "execution_count": 24,
     "metadata": {},
     "output_type": "execute_result"
    }
   ],
   "source": [
    "n = [1, 2, 3, 4, 5, 6, 7, 8, 9, 0]\n",
    "n = [ str(i) for i in n]\n",
    "n = ''.join(n)\n",
    "m = ''\n",
    "m += '(' + n[:3] + ')' + ' ' + n[3:6] + '-' + n[6:]\n",
    "m"
   ]
  },
  {
   "cell_type": "code",
   "execution_count": null,
   "metadata": {},
   "outputs": [],
   "source": [
    "'''\n",
    "Vasvas可以向每个人出售一张票，如果他最初没有钱就给出改变，并严格按照人们在线下的顺序出售门票吗？\n",
    "回来YES，如果Vasya可以向每个人出售一张票，并在那一刻用他手边的账单进行更改。否则返回NO。\n",
    "例子：\n",
    "tickets([25, 25, 50]) # => YES \n",
    "tickets([25, 100]) # => NO. Vasya will not have enough money to give change to 100 dollars\n",
    "tickets([25, 25, 50, 50, 100]) # => NO. Vasya will not have the right bills to give 75 dollars of change\n",
    "(you can't make two bills of 25 from one of 50)\n",
    "'''"
   ]
  },
  {
   "cell_type": "code",
   "execution_count": 38,
   "metadata": {},
   "outputs": [
    {
     "data": {
      "text/plain": [
       "'YES'"
      ]
     },
     "execution_count": 38,
     "metadata": {},
     "output_type": "execute_result"
    }
   ],
   "source": [
    "def tickets(people):\n",
    "    a,b = 0,0\n",
    "    for i in people:\n",
    "        if i == 25:\n",
    "            a += 1\n",
    "        elif i == 50:\n",
    "            b += 1\n",
    "            a -= 1\n",
    "            if a < 0 or b < 0:\n",
    "                return 'NO'\n",
    "        elif i == 100:\n",
    "            if b == 0:\n",
    "                a -= 3\n",
    "                if a < 0:\n",
    "                    return 'NO'\n",
    "            elif b > 0:                \n",
    "                a -= 1\n",
    "                b -= 1\n",
    "                if a < 0 or b < 0:\n",
    "                    return 'NO'\n",
    "    else:\n",
    "        return 'YES'\n",
    "    \n",
    "tickets([25,50,25 ,100])"
   ]
  },
  {
   "cell_type": "code",
   "execution_count": 39,
   "metadata": {},
   "outputs": [
    {
     "data": {
      "text/plain": [
       "'YES'"
      ]
     },
     "execution_count": 39,
     "metadata": {},
     "output_type": "execute_result"
    }
   ],
   "source": [
    "def tickets(a):\n",
    "    n25 = n50 = n100 = 0\n",
    "    for e in a:\n",
    "        if   e==25            : n25+=1\n",
    "        elif e==50            : n25-=1; n50+=1\n",
    "        elif e==100 and n50>0 : n25-=1; n50-=1\n",
    "        elif e==100 and n50==0: n25-=3\n",
    "        if n25<0 or n50<0:\n",
    "            return 'NO'\n",
    "    return 'YES'\n",
    "\n",
    "tickets([25,50,25 ,100])"
   ]
  },
  {
   "cell_type": "code",
   "execution_count": null,
   "metadata": {},
   "outputs": [],
   "source": []
  }
 ],
 "metadata": {
  "kernelspec": {
   "display_name": "Python 3",
   "language": "python",
   "name": "python3"
  },
  "language_info": {
   "codemirror_mode": {
    "name": "ipython",
    "version": 3
   },
   "file_extension": ".py",
   "mimetype": "text/x-python",
   "name": "python",
   "nbconvert_exporter": "python",
   "pygments_lexer": "ipython3",
   "version": "3.7.1"
  }
 },
 "nbformat": 4,
 "nbformat_minor": 2
}
