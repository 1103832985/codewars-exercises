{
 "cells": [
  {
   "cell_type": "code",
   "execution_count": 28,
   "metadata": {},
   "outputs": [
    {
     "data": {
      "text/plain": [
       "18"
      ]
     },
     "execution_count": 28,
     "metadata": {},
     "output_type": "execute_result"
    }
   ],
   "source": [
    "# random 加seed(int)能产生一个定值\n",
    "from random import randint,seed\n",
    "seed(1)\n",
    "guess = randint(1,100)\n",
    "seed(1)\n",
    "guess"
   ]
  },
  {
   "cell_type": "markdown",
   "metadata": {},
   "source": [
    "# Moving Zeros To The End"
   ]
  },
  {
   "cell_type": "code",
   "execution_count": null,
   "metadata": {},
   "outputs": [],
   "source": [
    "'''\n",
    "Write an algorithm that takes an array and moves all of the zeros to the end, preserving the order of the other elements.\n",
    "move_zeros([False,1,0,1,2,0,1,3,\"a\"]) # returns[false,1,1,2,1,3,\"a\",0,0]\n",
    "Test.assert_equals(move_zeros([0,1,None,2,False,1,0]),[1,None,2,False,1,0,0])\n",
    "Test.assert_equals(move_zeros([\"a\",0,0,\"b\",None,\"c\",\"d\",0,1,False,0,1,0,3,[],0,1,9,0,0,{},0,0,9]),\n",
    "  [\"a\",\"b\",None,\"c\",\"d\",1,False,1,3,[],1,9,{},9,0,0,0,0,0,0,0,0,0,0])\n",
    "'''"
   ]
  },
  {
   "cell_type": "code",
   "execution_count": 53,
   "metadata": {},
   "outputs": [
    {
     "data": {
      "text/plain": [
       "['a', 'b', None, 'c', 'd', 1, False, 3, [], 1, 9, {}, 9, 0, 0, 0, 0, 0, 0]"
      ]
     },
     "execution_count": 53,
     "metadata": {},
     "output_type": "execute_result"
    }
   ],
   "source": [
    "def move_zeros(array):\n",
    "    m = [str(x) for x in array]\n",
    "    n = [x for x in array if x != 0]\n",
    "    b = array.count(0)\n",
    "    try:\n",
    "        a = m.index('False')\n",
    "        b -= 1\n",
    "    except:\n",
    "        a = None\n",
    "    if a != None:\n",
    "        c = array[:a].count(0)\n",
    "        n.insert(a-c,False)     \n",
    "    for _ in range(b):\n",
    "        n.append(0)\n",
    "    return n\n",
    "\n",
    "move_zeros([\"a\",0,\"b\",None,\"c\",\"d\",0,1,False,0,3,[],0,1,9,0,{},0,9])"
   ]
  },
  {
   "cell_type": "code",
   "execution_count": 54,
   "metadata": {},
   "outputs": [
    {
     "data": {
      "text/plain": [
       "['a', 'b', None, 'c', 'd', 1, False, 3, [], 1, 9, {}, 9, 0, 0, 0, 0, 0, 0]"
      ]
     },
     "execution_count": 54,
     "metadata": {},
     "output_type": "execute_result"
    }
   ],
   "source": [
    "def move_zeros(arr):\n",
    "    l = [i for i in arr if isinstance(i, bool) or i!=0]\n",
    "    return l+[0]*(len(arr)-len(l))\n",
    "move_zeros([\"a\",0,\"b\",None,\"c\",\"d\",0,1,False,0,3,[],0,1,9,0,{},0,9])"
   ]
  },
  {
   "cell_type": "code",
   "execution_count": 55,
   "metadata": {},
   "outputs": [
    {
     "data": {
      "text/plain": [
       "['a', 'b', None, 'c', 'd', 1, False, 3, [], 1, 9, {}, 9, 0, 0, 0, 0, 0, 0]"
      ]
     },
     "execution_count": 55,
     "metadata": {},
     "output_type": "execute_result"
    }
   ],
   "source": [
    "def move_zeros(array):\n",
    "    return sorted(array, key=lambda x: x == 0 and x is not False)\n",
    "move_zeros([\"a\",0,\"b\",None,\"c\",\"d\",0,1,False,0,3,[],0,1,9,0,{},0,9])"
   ]
  },
  {
   "cell_type": "code",
   "execution_count": 59,
   "metadata": {},
   "outputs": [
    {
     "data": {
      "text/plain": [
       "['a', 'b', None, 'c', 'd', 1, False, 3, [], 1, 9, {}, 9, 0, 0, 0, 0, 0, 0]"
      ]
     },
     "execution_count": 59,
     "metadata": {},
     "output_type": "execute_result"
    }
   ],
   "source": [
    "def move_zeros(array):   \n",
    "    w,d = [],0\n",
    "    for i in array:\n",
    "        # 注意下面用的是: is\n",
    "        if i is False:\n",
    "            w.append(False)\n",
    "        elif i == 0:\n",
    "            d += 1\n",
    "        else:\n",
    "            w.append(i)\n",
    "    for i in range(d):\n",
    "        w.append(0)\n",
    "    return w\n",
    "move_zeros([\"a\",0,\"b\",None,\"c\",\"d\",0,1,False,0,3,[],0,1,9,0,{},0,9])"
   ]
  },
  {
   "cell_type": "markdown",
   "metadata": {},
   "source": [
    "# Build a pile of Cubes"
   ]
  },
  {
   "cell_type": "code",
   "execution_count": null,
   "metadata": {},
   "outputs": [],
   "source": [
    "'''\n",
    "Your task is to construct a building which will be a pile of n cubes. The cube at the bottom will have a volume of n^3, \n",
    "the cube above will have volume of (n-1)^3 and so on until the top which will have a volume of 1^3.\n",
    "You are given the total volume m of the building. Being given m can you find the number n of cubes you will have to build?\n",
    "The parameter of the function findNb (find_nb, find-nb, findNb) will be an integer m and you have to return the integer n \n",
    "such as n^3 + (n-1)^3 + ... + 1^3 = m if such a n exists or -1 if there is no such n.\n",
    "Examples:\n",
    "findNb(1071225) --> 45\n",
    "findNb(91716553919377) --> -1\n",
    "  mov rdi, 1071225\n",
    "call find_nb            ; rax <-- 45\n",
    "  mov rdi, 91716553919377\n",
    "call find_nb            ; rax <-- -1\n",
    "'''"
   ]
  },
  {
   "cell_type": "code",
   "execution_count": 3,
   "metadata": {},
   "outputs": [
    {
     "data": {
      "text/plain": [
       "2022"
      ]
     },
     "execution_count": 3,
     "metadata": {},
     "output_type": "execute_result"
    }
   ],
   "source": [
    "def find_nb(m):\n",
    "    s,n = 0,1\n",
    "    while s < m:\n",
    "        s += n**3\n",
    "        if s == m:\n",
    "            return n\n",
    "        n += 1\n",
    "    return -1\n",
    "\n",
    "find_nb(4183059834009)"
   ]
  },
  {
   "cell_type": "markdown",
   "metadata": {},
   "source": [
    "# Sum of Pairs"
   ]
  },
  {
   "cell_type": "code",
   "execution_count": null,
   "metadata": {},
   "outputs": [],
   "source": [
    "'''\n",
    "Given a list of integers and a single sum value, return the first two values (parse from the left please) in order of appearance \n",
    "that add up to form the sum.\n",
    "sum_pairs([11, 3, 7, 5],         10)\n",
    "#              ^--^      3 + 7 = 10\n",
    "== [3, 7]\n",
    "sum_pairs([4, 3, 2, 3, 4],         6)\n",
    "#          ^-----^         4 + 2 = 6, indices: 0, 2 *\n",
    "#             ^-----^      3 + 3 = 6, indices: 1, 3\n",
    "#                ^-----^   2 + 4 = 6, indices: 2, 4\n",
    "#  * entire pair is earlier, and therefore is the correct answer\n",
    "== [4, 2]\n",
    "sum_pairs([0, 0, -2, 3], 2)\n",
    "#  there are no pairs of values that can be added to produce 2.\n",
    "== None/nil/undefined (Based on the language)\n",
    "sum_pairs([10, 5, 2, 3, 7, 5],         10)\n",
    "#              ^-----------^   5 + 5 = 10, indices: 1, 5\n",
    "#                    ^--^      3 + 7 = 10, indices: 3, 4 *\n",
    "#  * entire pair is earlier, and therefore is the correct answer\n",
    "== [3, 7]\n",
    "Negative numbers and duplicate numbers can and will appear.\n",
    "NOTE: There will also be lists tested of lengths upwards of 10,000,000 elements. Be sure your code doesn't time out.\n",
    "'''"
   ]
  },
  {
   "cell_type": "code",
   "execution_count": 32,
   "metadata": {},
   "outputs": [
    {
     "data": {
      "text/plain": [
       "[3, 7]"
      ]
     },
     "execution_count": 32,
     "metadata": {},
     "output_type": "execute_result"
    }
   ],
   "source": [
    "def sum_pairs(lst, s):\n",
    "    cache = set()\n",
    "    for i in lst:\n",
    "        if s - i in cache:\n",
    "            return [s - i, i]\n",
    "        cache.add(i)\n",
    "\n",
    "sum_pairs([10, 5, 2, 3, 7, 5],         10)"
   ]
  }
 ],
 "metadata": {
  "kernelspec": {
   "display_name": "Python 3",
   "language": "python",
   "name": "python3"
  },
  "language_info": {
   "codemirror_mode": {
    "name": "ipython",
    "version": 3
   },
   "file_extension": ".py",
   "mimetype": "text/x-python",
   "name": "python",
   "nbconvert_exporter": "python",
   "pygments_lexer": "ipython3",
   "version": "3.7.1"
  }
 },
 "nbformat": 4,
 "nbformat_minor": 2
}
