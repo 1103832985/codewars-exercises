{
 "cells": [
  {
   "cell_type": "markdown",
   "metadata": {},
   "source": [
    "# Weight for weight"
   ]
  },
  {
   "cell_type": "code",
   "execution_count": null,
   "metadata": {},
   "outputs": [],
   "source": [
    "'''\n",
    "  My friend John and I are members of the \"Fat to Fit Club (FFC)\". John is worried because each month a list with the weights of \n",
    "members is published and each month he is the last on the list which means he is the heaviest.\n",
    "  I am the one who establishes the list so I told him: \"Don't worry any more, I will modify the order of the list\".\n",
    "It was decided to attribute a \"weight\" to numbers. The weight of a number will be from now on the sum of its digits.\n",
    "  For example 99 will have \"weight\" 18, 100 will have \"weight\" 1 so in the list 100 will come before 99.\n",
    "Given a string with the weights of FFC members in normal order can you give this string ordered by \"weights\" of these numbers?\n",
    "Example:\n",
    "\"56 65 74 100 99 68 86 180 90\" ordered by numbers weights becomes: \"100 180 90 56 65 74 68 86 99\"\n",
    "  When two numbers have the same \"weight\", let us class them as if they were strings and not numbers: 100 is before 180 \n",
    "because its \"weight\" (1) is less than the one of 180 (9) and 180 is before 90 since, having the same \"weight\" (9), \n",
    "it comes before as a string.\n",
    "  All numbers in the list are positive numbers and the list can be empty.\n",
    "Notes\n",
    "it may happen that the input string have leading, trailing whitespaces and more than a unique whitespace between two consecutive numbers\n",
    "Don't modify the input\n",
    "For C: The result is freed.\n",
    "'''"
   ]
  },
  {
   "cell_type": "code",
   "execution_count": 9,
   "metadata": {},
   "outputs": [
    {
     "data": {
      "text/plain": [
       "'100 180 90 56 65 74 68 86 99'"
      ]
     },
     "execution_count": 9,
     "metadata": {},
     "output_type": "execute_result"
    }
   ],
   "source": [
    "'''sorted 中的 key 对排序很重要！！！'''\n",
    "def sum_string(s):\n",
    "    m = 0\n",
    "    for i in s:\n",
    "        m += int(i)\n",
    "    return m\n",
    "\n",
    "def order_weight(strng):\n",
    "    initial_list = sorted(strng.split())\n",
    "    result = \" \".join(sorted(initial_list, key=sum_string))    \n",
    "    return result\n",
    "order_weight(\"56 65 74 100 99 68 86 180 90\" )"
   ]
  },
  {
   "cell_type": "code",
   "execution_count": 17,
   "metadata": {},
   "outputs": [
    {
     "data": {
      "text/plain": [
       "'100 180 90 56 65 74 68 86 99'"
      ]
     },
     "execution_count": 17,
     "metadata": {},
     "output_type": "execute_result"
    }
   ],
   "source": [
    "def weight_key(s):\n",
    "    return (sum(int(c) for c in s), s)\n",
    "def order_weight(s):\n",
    "    return ' '.join(sorted(s.split(), key=weight_key))\n",
    "order_weight(\"56 65 74 100 99 68 86 180 90\" )"
   ]
  },
  {
   "cell_type": "code",
   "execution_count": 2,
   "metadata": {},
   "outputs": [
    {
     "data": {
      "text/plain": [
       "'100 180 90 56 65 74 68 86 99'"
      ]
     },
     "execution_count": 2,
     "metadata": {},
     "output_type": "execute_result"
    }
   ],
   "source": [
    "def order_weight(_str):\n",
    "    return ' '.join(sorted(sorted(_str.split(' ')), key=lambda x: sum(int(c) for c in x)))\n",
    "order_weight(\"56 65 74 100 99 68 86 180 90\" )"
   ]
  },
  {
   "cell_type": "markdown",
   "metadata": {},
   "source": [
    "# Simple Simple Simple String Expansion"
   ]
  },
  {
   "cell_type": "code",
   "execution_count": null,
   "metadata": {},
   "outputs": [],
   "source": [
    "'''\n",
    "test.assert_equals(string_expansion('3abc'),'aaabbbccc')\n",
    "test.assert_equals(string_expansion('3D2a5d2f'),'DDDaadddddff')\n",
    "test.assert_equals(string_expansion('0d0a0v0t0y'),'')\n",
    "test.assert_equals(string_expansion('3d332f2a'),'dddffaa')\n",
    "test.assert_equals(string_expansion('abcde'),'abcde')\n",
    "'''"
   ]
  },
  {
   "cell_type": "code",
   "execution_count": 14,
   "metadata": {},
   "outputs": [
    {
     "data": {
      "text/plain": [
       "'dddffaa'"
      ]
     },
     "execution_count": 14,
     "metadata": {},
     "output_type": "execute_result"
    }
   ],
   "source": [
    "def string_expansion(s):\n",
    "    m,n = '',1\n",
    "    for j in s:\n",
    "        if j.isdigit():\n",
    "            n = int(j)\n",
    "        else:\n",
    "            m += j*n\n",
    "    return m\n",
    "\n",
    "string_expansion('3d332f2a')"
   ]
  },
  {
   "cell_type": "markdown",
   "metadata": {},
   "source": [
    "# Roman Numerals Encoder"
   ]
  },
  {
   "cell_type": "code",
   "execution_count": null,
   "metadata": {},
   "outputs": [],
   "source": [
    "'''\n",
    "test.assert_equals(solution(1),'I', \"solution(1),'I'\")\n",
    "test.assert_equals(solution(4),'IV', \"solution(4),'IV'\")\n",
    "test.assert_equals(solution(6),'VI', \"solution(6),'VI'\")\n",
    "test.assert_equals(solution(14),'XIV', \"solution(14),'XIV\")\n",
    "test.assert_equals(solution(21),'XXI', \"solution(21),'XXI'\")\n",
    "test.assert_equals(solution(89),'LXXXIX', \"solution(89),'LXXXIX'\")\n",
    "test.assert_equals(solution(91),'XCI', \"solution(91),'XCI'\")\n",
    "test.assert_equals(solution(984),'CMLXXXIV', \"solution(984),'CMLXXXIV'\")\n",
    "test.assert_equals(solution(1000), 'M', 'solution(1000), M')\n",
    "test.assert_equals(solution(1889),'MDCCCLXXXIX', \"solution(1889),'MDCCCLXXXIX'\")\n",
    "test.assert_equals(solution(1989),'MCMLXXXIX', \"solution(1989),'MCMLXXXIX'\")\n",
    "'''"
   ]
  },
  {
   "cell_type": "code",
   "execution_count": 80,
   "metadata": {},
   "outputs": [
    {
     "data": {
      "text/plain": [
       "'MCCCXIV'"
      ]
     },
     "execution_count": 80,
     "metadata": {},
     "output_type": "execute_result"
    }
   ],
   "source": [
    "def solution(n):\n",
    "    w = ''\n",
    "    if n>=1000:\n",
    "        m,n = divmod(n,1000)\n",
    "        w += 'M'*m    \n",
    "    if n>=500:\n",
    "        c,v = divmod(n,100)\n",
    "        if c == 9:\n",
    "            w += 'CM'\n",
    "            n = v\n",
    "        else:\n",
    "            d,n = divmod(n,500)\n",
    "            w += 'D'\n",
    "    if n>=100:\n",
    "        c,n = divmod(n,100)\n",
    "        if c==4:\n",
    "            w += 'CD'\n",
    "        else:\n",
    "            w += 'C'*c\n",
    "    if n >= 50:\n",
    "        x,v = divmod(n,10)\n",
    "        if x==9:\n",
    "            w += 'XC'\n",
    "            n = v\n",
    "        else:\n",
    "            l,n = divmod(n,50)\n",
    "            w += 'L'\n",
    "    if n>=10:\n",
    "        x,n = divmod(n,10)\n",
    "        if x==4:\n",
    "            w += 'XL'\n",
    "        else:\n",
    "            w += 'X'*x\n",
    "    if n >= 5:\n",
    "        if n == 9:\n",
    "            return w + 'IX'\n",
    "        else:\n",
    "            i,n = divmod(n,5)\n",
    "            w += 'V'\n",
    "    if n == 4:\n",
    "        return w + 'IV'  \n",
    "    w += 'I'*n\n",
    "    return w\n",
    "\n",
    "solution(1314)"
   ]
  },
  {
   "cell_type": "code",
   "execution_count": 84,
   "metadata": {},
   "outputs": [
    {
     "data": {
      "text/plain": [
       "'MCCCXIV'"
      ]
     },
     "execution_count": 84,
     "metadata": {},
     "output_type": "execute_result"
    }
   ],
   "source": [
    "def solution(n):\n",
    "    '''递归，并逐渐减小'''\n",
    "    if n == 0: return \"\"\n",
    "    if n >= 1000: return \"M\" + solution(n-1000)\n",
    "    if n >= 900: return \"CM\" + solution(n-900)\n",
    "    if n >= 500: return \"D\" + solution(n-500)\n",
    "    if n >= 400: return \"CD\" + solution(n-400)\n",
    "    if n >= 100: return \"C\" + solution(n-100)\n",
    "    if n >= 90: return \"XC\" + solution(n-90)\n",
    "    if n >= 50: return \"L\" + solution(n-50)\n",
    "    if n >= 40: return \"XL\" + solution(n-40)\n",
    "    if n >= 10: return \"X\" + solution(n-10)\n",
    "    if n >= 9: return \"IX\" + solution(n-9)\n",
    "    if n >= 5: return \"V\" + solution(n-5)\n",
    "    if n >= 4: return \"IV\" + solution(n-4)\n",
    "    else: return \"I\" + solution(n-1)\n",
    "solution(1314)"
   ]
  },
  {
   "cell_type": "code",
   "execution_count": 82,
   "metadata": {},
   "outputs": [
    {
     "data": {
      "text/plain": [
       "'MCCCXIV'"
      ]
     },
     "execution_count": 82,
     "metadata": {},
     "output_type": "execute_result"
    }
   ],
   "source": [
    "def solution(n):\n",
    "    roman_numerals = {1000:'M',\n",
    "                      900: 'CM',\n",
    "                      500: 'D',\n",
    "                      400: 'CD',\n",
    "                      100: 'C',\n",
    "                      90: 'XC',\n",
    "                      50: 'L',\n",
    "                      40: 'XL',\n",
    "                      10: 'X',\n",
    "                      9: 'IX',\n",
    "                      5: 'V',\n",
    "                      4: 'IV',\n",
    "                      1: 'I'\n",
    "    }\n",
    "    roman_string = ''\n",
    "    for key in sorted(roman_numerals.keys(),reverse=True):\n",
    "        while n >= key:\n",
    "            roman_string += roman_numerals[key]\n",
    "            n -= key\n",
    "    return roman_string\n",
    "solution(1314)"
   ]
  },
  {
   "cell_type": "code",
   "execution_count": 83,
   "metadata": {},
   "outputs": [
    {
     "data": {
      "text/plain": [
       "'MCCCXIV'"
      ]
     },
     "execution_count": 83,
     "metadata": {},
     "output_type": "execute_result"
    }
   ],
   "source": [
    "ROMAN = ((1000, 'M'), (900, 'CM'), (500, 'D'), (400, 'CD'),\n",
    "         (100, 'C'), (90, 'XC'), (50, 'L'), (40, 'XL'), (10, 'X'),\n",
    "         (9, 'IX'), (5, 'V'), (4, 'IV'), (1, 'I'))\n",
    "def solution(n):\n",
    "    result = []\n",
    "    for num, char in ROMAN:\n",
    "        q, n = divmod(n, num)\n",
    "        result.append(q * char)\n",
    "    return ''.join(result)\n",
    "solution(1314)"
   ]
  },
  {
   "cell_type": "code",
   "execution_count": 1,
   "metadata": {},
   "outputs": [
    {
     "data": {
      "text/plain": [
       "'MCCCXIV'"
      ]
     },
     "execution_count": 1,
     "metadata": {},
     "output_type": "execute_result"
    }
   ],
   "source": [
    "def solution(arabic):\n",
    "    roman = ''\n",
    "    for ara, rom in [(1000, 'M'), (900, 'CM'), (500, 'D'), (400, 'CD'), (100, 'C'), (90, 'XC'), (50, 'L'), (40, 'XL'), \n",
    "                     (10, 'X'), (9, 'IX'), (5, 'V'), (4, 'IV'),  (1, 'I')]:\n",
    "        roman, arabic = roman + arabic // ara * rom, arabic % ara\n",
    "    return roman\n",
    "solution(1314)"
   ]
  }
 ],
 "metadata": {
  "kernelspec": {
   "display_name": "Python 3",
   "language": "python",
   "name": "python3"
  },
  "language_info": {
   "codemirror_mode": {
    "name": "ipython",
    "version": 3
   },
   "file_extension": ".py",
   "mimetype": "text/x-python",
   "name": "python",
   "nbconvert_exporter": "python",
   "pygments_lexer": "ipython3",
   "version": "3.7.3"
  }
 },
 "nbformat": 4,
 "nbformat_minor": 2
}
