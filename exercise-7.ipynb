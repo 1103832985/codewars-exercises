{
 "cells": [
  {
   "cell_type": "markdown",
   "metadata": {},
   "source": [
    "# Multiples of 3 or 5"
   ]
  },
  {
   "cell_type": "code",
   "execution_count": null,
   "metadata": {},
   "outputs": [],
   "source": [
    "'''\n",
    "If we list all the natural numbers below 10 that are multiples of 3 or 5, we get 3, 5, 6 and 9. The sum of these multiples is 23.\n",
    "Finish the solution so that it returns the sum of all the multiples of 3 or 5 below the number passed in.\n",
    "Note: If the number is a multiple of both 3 and 5, only count it once.\n",
    "test.assert_equals(solution(10), 23)\n",
    "'''"
   ]
  },
  {
   "cell_type": "code",
   "execution_count": 6,
   "metadata": {},
   "outputs": [
    {
     "data": {
      "text/plain": [
       "23"
      ]
     },
     "execution_count": 6,
     "metadata": {},
     "output_type": "execute_result"
    }
   ],
   "source": [
    "def solution(number):\n",
    "    n = 0\n",
    "    for i in range(number):\n",
    "        if i % 3 == 0 or i % 5 == 0:\n",
    "            n += i\n",
    "    return n\n",
    "solution(10)"
   ]
  },
  {
   "cell_type": "code",
   "execution_count": 7,
   "metadata": {},
   "outputs": [
    {
     "data": {
      "text/plain": [
       "23"
      ]
     },
     "execution_count": 7,
     "metadata": {},
     "output_type": "execute_result"
    }
   ],
   "source": [
    "def solution(number):\n",
    "    return sum(x for x in range(number) if x % 3 == 0 or x % 5 == 0)\n",
    "solution(10)"
   ]
  },
  {
   "cell_type": "markdown",
   "metadata": {},
   "source": [
    "# Linked Lists - Sorted Insert"
   ]
  },
  {
   "cell_type": "code",
   "execution_count": null,
   "metadata": {},
   "outputs": [],
   "source": [
    "'''\n",
    "Linked Lists - Sorted Insert\n",
    "Write a SortedInsert() function which inserts a node into the correct location of a pre-sorted linked list\n",
    "which is sorted in ascending order. SortedInsert takes the head of a linked list and data used to create a node as arguments. \n",
    "SortedInsert() should also return the head of the list.\n",
    "sortedInsert(1 -> 2 -> 3 -> null, 4) === 1 -> 2 -> 3 -> 4 -> null)\n",
    "sortedInsert(1 -> 7 -> 8 -> null, 5) === 1 -> 5 -> 7 -> 8 -> null)\n",
    "sortedInsert(3 -> 5 -> 9 -> null, 7) === 3 -> 5 -> 7 -> 9 -> null)\n",
    "'''"
   ]
  },
  {
   "cell_type": "code",
   "execution_count": null,
   "metadata": {},
   "outputs": [],
   "source": [
    "def sorted_insert(head, data):\n",
    "    for i,m in enumerate(head):\n",
    "        if m != '-' or m != '>':\n",
    "            if m > date:\n",
    "                head.insert(i-1,date)\n",
    "    return head\n",
    "sortedInsert(3 -> 5 -> 9 -> null, 7)"
   ]
  },
  {
   "cell_type": "code",
   "execution_count": 5,
   "metadata": {},
   "outputs": [
    {
     "data": {
      "text/plain": [
       "8"
      ]
     },
     "execution_count": 5,
     "metadata": {},
     "output_type": "execute_result"
    }
   ],
   "source": [
    "a = [1,[2,21,22,23],3,4,5,6,7,8,9]\n",
    "a.index(9)"
   ]
  },
  {
   "cell_type": "markdown",
   "metadata": {},
   "source": [
    "# Persistent Bugger."
   ]
  },
  {
   "cell_type": "code",
   "execution_count": null,
   "metadata": {},
   "outputs": [],
   "source": [
    "'''\n",
    "Write a function, persistence, that takes in a positive parameter num and returns its multiplicative persistence,\n",
    "which is the number of times you must multiply the digits in num until you reach a single digit.\n",
    "For example:\n",
    " persistence(39) => 3  # Because 3*9 = 27, 2*7 = 14, 1*4=4\n",
    "                       # and 4 has only one digit.\n",
    " persistence(999) => 4 # Because 9*9*9 = 729, 7*2*9 = 126,\n",
    "                     # 1*2*6 = 12, and finally 1*2 = 2.\n",
    " persistence(4) => 0   # Because 4 is already a one-digit number.\n",
    "'''"
   ]
  },
  {
   "cell_type": "code",
   "execution_count": 25,
   "metadata": {},
   "outputs": [
    {
     "data": {
      "text/plain": [
       "4"
      ]
     },
     "execution_count": 25,
     "metadata": {},
     "output_type": "execute_result"
    }
   ],
   "source": [
    "def xx(n):\n",
    "    a = 1\n",
    "    for i in str(n):\n",
    "        a *= int(i)\n",
    "    return a\n",
    "def persistence(n):\n",
    "    a = 0\n",
    "    while len(str(n)) > 1:\n",
    "        n = xx(n)\n",
    "        a += 1\n",
    "    return a\n",
    "persistence(999)          "
   ]
  },
  {
   "cell_type": "code",
   "execution_count": 28,
   "metadata": {},
   "outputs": [
    {
     "data": {
      "text/plain": [
       "4"
      ]
     },
     "execution_count": 28,
     "metadata": {},
     "output_type": "execute_result"
    }
   ],
   "source": [
    "import operator\n",
    "from functools import reduce\n",
    "def persistence(n):\n",
    "    i = 0\n",
    "    while n>=10:\n",
    "        n = reduce(operator.mul,[int(x) for x in str(n)],1)\n",
    "        i+=1\n",
    "    return i\n",
    "persistence(999)   "
   ]
  },
  {
   "cell_type": "code",
   "execution_count": 29,
   "metadata": {},
   "outputs": [
    {
     "data": {
      "text/plain": [
       "4"
      ]
     },
     "execution_count": 29,
     "metadata": {},
     "output_type": "execute_result"
    }
   ],
   "source": [
    "def persistence(n):\n",
    "    if str(n) == 1:\n",
    "        return 0\n",
    "    count = 0\n",
    "    while len(str(n)) > 1:\n",
    "        total = 1\n",
    "        for i in str(n):\n",
    "            total *= int(i)\n",
    "        n = total\n",
    "        count += 1\n",
    "    return count\n",
    "persistence(999) "
   ]
  },
  {
   "cell_type": "code",
   "execution_count": 9,
   "metadata": {},
   "outputs": [
    {
     "data": {
      "text/plain": [
       "120"
      ]
     },
     "execution_count": 9,
     "metadata": {},
     "output_type": "execute_result"
    }
   ],
   "source": [
    "n = 12345\n",
    "a = 1\n",
    "for i in str(n):\n",
    "    a *= int(i)\n",
    "a"
   ]
  },
  {
   "cell_type": "code",
   "execution_count": null,
   "metadata": {},
   "outputs": [],
   "source": []
  }
 ],
 "metadata": {
  "kernelspec": {
   "display_name": "Python 3",
   "language": "python",
   "name": "python3"
  },
  "language_info": {
   "codemirror_mode": {
    "name": "ipython",
    "version": 3
   },
   "file_extension": ".py",
   "mimetype": "text/x-python",
   "name": "python",
   "nbconvert_exporter": "python",
   "pygments_lexer": "ipython3",
   "version": "3.7.1"
  }
 },
 "nbformat": 4,
 "nbformat_minor": 2
}
