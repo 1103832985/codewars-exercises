{
 "cells": [
  {
   "cell_type": "markdown",
   "metadata": {},
   "source": [
    "# Format a string of names like 'Bart, Lisa & Maggie'."
   ]
  },
  {
   "cell_type": "code",
   "execution_count": null,
   "metadata": {},
   "outputs": [],
   "source": [
    "'''\n",
    "Given: an array containing hashes of names\n",
    "Return: a string formatted as a list of names separated by commas except for the last two names, \n",
    "which should be separated by an ampersand.\n",
    "Example:\n",
    "namelist([ {'name': 'Bart'}, {'name': 'Lisa'}, {'name': 'Maggie'} ])\n",
    "# returns 'Bart, Lisa & Maggie'\n",
    "namelist([ {'name': 'Bart'}, {'name': 'Lisa'} ])\n",
    "# returns 'Bart & Lisa'\n",
    "namelist([ {'name': 'Bart'} ])\n",
    "# returns 'Bart'\n",
    "namelist([])\n",
    "# returns ''\n",
    "Note: all the hashes are pre-validated and will only contain A-Z, a-z, '-' and '.'.\n",
    "'''"
   ]
  },
  {
   "cell_type": "code",
   "execution_count": 21,
   "metadata": {},
   "outputs": [
    {
     "name": "stdout",
     "output_type": "stream",
     "text": [
      "Bart, Lisa & Maggie\n"
     ]
    }
   ],
   "source": [
    "names = [ {'name': 'Bart'}, {'name': 'Lisa'}, {'name': 'Maggie'} ]\n",
    "n = []\n",
    "for i in range(len(names)):\n",
    "    n.append(names[i]['name'])\n",
    "n = ', '.join(n[:-1]) + ' & ' + n[-1]\n",
    "print(n)"
   ]
  },
  {
   "cell_type": "code",
   "execution_count": 28,
   "metadata": {},
   "outputs": [
    {
     "data": {
      "text/plain": [
       "'Bart, Lisa & Maggie'"
      ]
     },
     "execution_count": 28,
     "metadata": {},
     "output_type": "execute_result"
    }
   ],
   "source": [
    "def namelist(names):\n",
    "    n = []\n",
    "    for i in range(len(names)):\n",
    "        n.append(names[i]['name'])\n",
    "    if len(n) == 1:\n",
    "        n = ''.join(n)\n",
    "    elif len(n) == 2:\n",
    "        n = ' & '.join(n)\n",
    "    elif len(n) > 2:\n",
    "        n = ', '.join(n[:-1]) + ' & ' + n[-1]\n",
    "    else:\n",
    "        n = ''\n",
    "    return n\n",
    "        \n",
    "namelist([{'name': 'Bart'}, {'name': 'Lisa'}, {'name': 'Maggie'}])    "
   ]
  },
  {
   "cell_type": "code",
   "execution_count": 30,
   "metadata": {},
   "outputs": [
    {
     "data": {
      "text/plain": [
       "'Bart, Lisa & Maggie'"
      ]
     },
     "execution_count": 30,
     "metadata": {},
     "output_type": "execute_result"
    }
   ],
   "source": [
    "def namelist(names):\n",
    "    if len(names) > 1:\n",
    "        return '{} & {}'.format(', '.join(name['name'] for name in names[:-1]), \n",
    "                                names[-1]['name'])\n",
    "    elif names:\n",
    "        return names[0]['name']\n",
    "    else:\n",
    "        return ''\n",
    "\n",
    "namelist([{'name': 'Bart'}, {'name': 'Lisa'}, {'name': 'Maggie'}])  "
   ]
  },
  {
   "cell_type": "code",
   "execution_count": 29,
   "metadata": {},
   "outputs": [
    {
     "data": {
      "text/plain": [
       "'Bart, Lisa & Maggie'"
      ]
     },
     "execution_count": 29,
     "metadata": {},
     "output_type": "execute_result"
    }
   ],
   "source": [
    "def namelist(names):\n",
    "    l = len(names)\n",
    "    abc = [names[x]['name'] for x in range(0, l)]\n",
    "    dic = {\n",
    "        0: '',\n",
    "        1: '{}',\n",
    "        2: '{} & {}',\n",
    "        3: '{}, {} & {}',\n",
    "        4: '{}, ' * (l - 2) + '{} & {}'\n",
    "    }\n",
    "    return dic[min(4, l)].format(*abc[:1000])\n",
    "\n",
    "namelist([{'name': 'Bart'}, {'name': 'Lisa'}, {'name': 'Maggie'}])  "
   ]
  },
  {
   "cell_type": "code",
   "execution_count": 31,
   "metadata": {},
   "outputs": [
    {
     "data": {
      "text/plain": [
       "'Bart, Lisa & Maggie'"
      ]
     },
     "execution_count": 31,
     "metadata": {},
     "output_type": "execute_result"
    }
   ],
   "source": [
    "def namelist(names):\n",
    "    return \", \".join([name[\"name\"] for name in names])[::-1].replace(\",\", \"& \",1)[::-1]\n",
    "\n",
    "namelist([{'name': 'Bart'}, {'name': 'Lisa'}, {'name': 'Maggie'}])"
   ]
  },
  {
   "cell_type": "markdown",
   "metadata": {},
   "source": [
    "# Build Tower"
   ]
  },
  {
   "cell_type": "code",
   "execution_count": null,
   "metadata": {},
   "outputs": [],
   "source": [
    "'''\n",
    "Build Tower by the following given argument:\n",
    "number of floors (integer and always greater than 0).\n",
    "Tower block is represented as *\n",
    "Python: return a list;\n",
    "\n",
    "for example, a tower of 3 floors looks like below\n",
    "[\n",
    "  '  *  ', \n",
    "  ' *** ', \n",
    "  '*****'\n",
    "]\n",
    "test.assert_equals(tower_builder(1), ['*'])\n",
    "test.assert_equals(tower_builder(2), [' * ', '***'])\n",
    "test.assert_equals(tower_builder(3), ['  *  ', ' *** ', '*****'])\n",
    "]\n",
    "'''"
   ]
  },
  {
   "cell_type": "code",
   "execution_count": 36,
   "metadata": {},
   "outputs": [
    {
     "data": {
      "text/plain": [
       "['    *    ', '   ***   ', '  *****  ', ' ******* ', '*********']"
      ]
     },
     "execution_count": 36,
     "metadata": {},
     "output_type": "execute_result"
    }
   ],
   "source": [
    "a = 5\n",
    "n = []\n",
    "b = 1\n",
    "for i in range(a):\n",
    "    m = ' '*(a-1) + '*'* b + ' '*(a-1)\n",
    "    b += 2\n",
    "    a -= 1\n",
    "    n.append(m)\n",
    "n"
   ]
  },
  {
   "cell_type": "code",
   "execution_count": 42,
   "metadata": {},
   "outputs": [
    {
     "data": {
      "text/plain": [
       "['    *    ', '   ***   ', '  *****  ', ' ******* ', '*********']"
      ]
     },
     "execution_count": 42,
     "metadata": {},
     "output_type": "execute_result"
    }
   ],
   "source": [
    "def tower_builder(n_floors):\n",
    "    n,b = [],1\n",
    "    for i in range(n_floors):\n",
    "        m = ' '*(n_floors-1) + '*'* b + ' '*(n_floors-1)\n",
    "        b += 2\n",
    "        n_floors -= 1\n",
    "        n.append(m)\n",
    "    return n\n",
    "\n",
    "tower_builder(5)  "
   ]
  },
  {
   "cell_type": "code",
   "execution_count": 45,
   "metadata": {},
   "outputs": [
    {
     "data": {
      "text/plain": [
       "['    *    ', '   ***   ', '  *****  ', ' ******* ', '*********']"
      ]
     },
     "execution_count": 45,
     "metadata": {},
     "output_type": "execute_result"
    }
   ],
   "source": [
    "def tower_builder(n):\n",
    "    return [(\"*\" * (i*2-1)).center(n*2-1) for i in range(1, n+1)]\n",
    "\n",
    "tower_builder(5)  "
   ]
  },
  {
   "cell_type": "code",
   "execution_count": null,
   "metadata": {},
   "outputs": [],
   "source": []
  }
 ],
 "metadata": {
  "kernelspec": {
   "display_name": "Python 3",
   "language": "python",
   "name": "python3"
  },
  "language_info": {
   "codemirror_mode": {
    "name": "ipython",
    "version": 3
   },
   "file_extension": ".py",
   "mimetype": "text/x-python",
   "name": "python",
   "nbconvert_exporter": "python",
   "pygments_lexer": "ipython3",
   "version": "3.7.1"
  }
 },
 "nbformat": 4,
 "nbformat_minor": 2
}
