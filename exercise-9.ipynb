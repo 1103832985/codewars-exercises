{
 "cells": [
  {
   "cell_type": "markdown",
   "metadata": {},
   "source": [
    "# Stop gninnipS My sdroW!"
   ]
  },
  {
   "cell_type": "code",
   "execution_count": null,
   "metadata": {},
   "outputs": [],
   "source": [
    "'''\n",
    "Write a function that takes in a string of one or more words, and returns the same string, \n",
    "but with all five or more letter words reversed (Just like the name of this Kata). \n",
    "Strings passed in will consist of only letters and spaces. Spaces will be included only when more than one word is present.\n",
    "Examples:\n",
    "spinWords( \"Hey fellow warriors\" ) => returns \"Hey wollef sroirraw\" \n",
    "spinWords( \"This is a test\") => returns \"This is a test\" \n",
    "spinWords( \"This is another test\" )=> returns \"This is rehtona test\"\n",
    "'''"
   ]
  },
  {
   "cell_type": "code",
   "execution_count": 7,
   "metadata": {},
   "outputs": [
    {
     "data": {
      "text/plain": [
       "'This is rehtona test'"
      ]
     },
     "execution_count": 7,
     "metadata": {},
     "output_type": "execute_result"
    }
   ],
   "source": [
    "def spin_words(sentence):\n",
    "    n = []\n",
    "    sentence = sentence.split()\n",
    "    for i in sentence:\n",
    "        if len(i)>=5:\n",
    "            n.append(i[::-1])\n",
    "        else:\n",
    "            n.append(i)\n",
    "    return ' '.join(n)\n",
    "spin_words(\"This is another test\")"
   ]
  },
  {
   "cell_type": "code",
   "execution_count": 8,
   "metadata": {},
   "outputs": [
    {
     "data": {
      "text/plain": [
       "'This is rehtona test'"
      ]
     },
     "execution_count": 8,
     "metadata": {},
     "output_type": "execute_result"
    }
   ],
   "source": [
    "def spin_words(sentence):\n",
    "    return \" \".join([x[::-1] if len(x) >= 5 else x for x in sentence.split(\" \")])\n",
    "spin_words(\"This is another test\")"
   ]
  },
  {
   "cell_type": "code",
   "execution_count": 2,
   "metadata": {},
   "outputs": [
    {
     "data": {
      "text/plain": [
       "'dcba'"
      ]
     },
     "execution_count": 2,
     "metadata": {},
     "output_type": "execute_result"
    }
   ],
   "source": [
    "i = 'abcd'\n",
    "i[::-1]"
   ]
  },
  {
   "cell_type": "markdown",
   "metadata": {},
   "source": [
    "# Your order, please"
   ]
  },
  {
   "cell_type": "code",
   "execution_count": null,
   "metadata": {},
   "outputs": [],
   "source": [
    "'''\n",
    "our task is to sort a given string. Each word in the string will contain a single number. \n",
    "This number is the position the word should have in the result.\n",
    "Note: Numbers can be from 1 to 9. So 1 will be the first word (not 0).\n",
    "If the input string is empty, return an empty string. The words in the input String will only contain valid consecutive numbers.\n",
    "Examples\n",
    "\"is2 Thi1s T4est 3a\"  -->  \"Thi1s is2 3a T4est\"\n",
    "\"4of Fo1r pe6ople g3ood th5e the2\"  -->  \"Fo1r the2 g3ood 4of th5e pe6ople\"\n",
    "\"\"  -->  \"\"\n",
    "'''"
   ]
  },
  {
   "cell_type": "code",
   "execution_count": 24,
   "metadata": {},
   "outputs": [
    {
     "data": {
      "text/plain": [
       "'Fo1r the2 g3ood 4of th5e pe6ople'"
      ]
     },
     "execution_count": 24,
     "metadata": {},
     "output_type": "execute_result"
    }
   ],
   "source": [
    "def xx(sentence,n):\n",
    "    for i in sentence.split():\n",
    "        if str(n) in i:\n",
    "            return i\n",
    "def order(sentence):\n",
    "    n,m = 1,[]\n",
    "    l = len(sentence.split())\n",
    "    while l > 0:\n",
    "        m.append(xx(sentence,n))\n",
    "        n += 1\n",
    "        l -= 1\n",
    "    return ' '.join(m)\n",
    "  \n",
    "order(\"4of Fo1r pe6ople g3ood th5e the2\")                "
   ]
  },
  {
   "cell_type": "code",
   "execution_count": 22,
   "metadata": {},
   "outputs": [
    {
     "data": {
      "text/plain": [
       "'Fo1r the2 g3ood 4of th5e pe6ople'"
      ]
     },
     "execution_count": 22,
     "metadata": {},
     "output_type": "execute_result"
    }
   ],
   "source": [
    "def order(words):\n",
    "    return ' '.join(sorted(words.split(), key=lambda w:sorted(w)))\n",
    "\n",
    "order(\"4of Fo1r pe6ople g3ood th5e the2\") "
   ]
  },
  {
   "cell_type": "code",
   "execution_count": 23,
   "metadata": {},
   "outputs": [
    {
     "data": {
      "text/plain": [
       "'Fo1r the2 g3ood 4of th5e pe6ople'"
      ]
     },
     "execution_count": 23,
     "metadata": {},
     "output_type": "execute_result"
    }
   ],
   "source": [
    "def order(s):\n",
    "    z = []\n",
    "    for i in range(1,10):\n",
    "        for j in list(s.split()):\n",
    "            if str(i) in j:\n",
    "                z.append(j)\n",
    "    return \" \".join(z)\n",
    "\n",
    "order(\"4of Fo1r pe6ople g3ood th5e the2\") "
   ]
  },
  {
   "cell_type": "code",
   "execution_count": 10,
   "metadata": {},
   "outputs": [
    {
     "data": {
      "text/plain": [
       "True"
      ]
     },
     "execution_count": 10,
     "metadata": {},
     "output_type": "execute_result"
    }
   ],
   "source": [
    "n = 'tex3t'\n",
    "b = 3\n",
    "str(b) in n"
   ]
  },
  {
   "cell_type": "markdown",
   "metadata": {},
   "source": [
    "# Duplicate Encoder"
   ]
  },
  {
   "cell_type": "code",
   "execution_count": null,
   "metadata": {},
   "outputs": [],
   "source": [
    "'''\n",
    "The goal of this exercise is to convert a string to a new string where each character \n",
    "in the new string is \"(\" if that character appears only once in the original string, or \")\" \n",
    "if that character appears more than once in the original string. \n",
    "Ignore capitalization when determining if a character is a duplicate.\n",
    "Examples\n",
    "\"din\"      =>  \"(((\"\n",
    "\"recede\"   =>  \"()()()\"\n",
    "\"Success\"  =>  \")())())\"\n",
    "\"(( @\"     =>  \"))((\" \n",
    "Notes\n",
    "Assertion messages may be unclear about what they display in some languages. \n",
    "If you read \"...It Should encode XXX\", the \"XXX\" is the expected result, not the input!\n",
    "'''"
   ]
  },
  {
   "cell_type": "code",
   "execution_count": 35,
   "metadata": {},
   "outputs": [
    {
     "data": {
      "text/plain": [
       "')))((()())()(()('"
      ]
     },
     "execution_count": 35,
     "metadata": {},
     "output_type": "execute_result"
    }
   ],
   "source": [
    "def duplicate_encode(word):\n",
    "    n = []\n",
    "    word = word.lower()\n",
    "    for i in word:\n",
    "        if word.count(i) > 1:\n",
    "            n.append(')')\n",
    "        else:\n",
    "            n.append('(')\n",
    "    return ''.join(n)\n",
    "\n",
    "duplicate_encode(\"Oclzx@k)clmOw kQ\")"
   ]
  },
  {
   "cell_type": "code",
   "execution_count": 37,
   "metadata": {},
   "outputs": [
    {
     "data": {
      "text/plain": [
       "')))((()())()(()('"
      ]
     },
     "execution_count": 37,
     "metadata": {},
     "output_type": "execute_result"
    }
   ],
   "source": [
    "def duplicate_encode(word):\n",
    "    return \"\".join([\"(\" if word.lower().count(c) == 1 else \")\" for c in word.lower()])\n",
    "\n",
    "duplicate_encode(\"Oclzx@k)clmOw kQ\")"
   ]
  },
  {
   "cell_type": "code",
   "execution_count": 39,
   "metadata": {},
   "outputs": [
    {
     "data": {
      "text/plain": [
       "')))((()())()(()('"
      ]
     },
     "execution_count": 39,
     "metadata": {},
     "output_type": "execute_result"
    }
   ],
   "source": [
    "def duplicate_encode(word):\n",
    "    word = word.upper()\n",
    "    result = \"\"\n",
    "    for char in word:\n",
    "        if word.count(char) > 1:\n",
    "            result += \")\"\n",
    "        else:\n",
    "            result += \"(\"        \n",
    "    return result\n",
    "\n",
    "duplicate_encode(\"Oclzx@k)clmOw kQ\")"
   ]
  },
  {
   "cell_type": "code",
   "execution_count": 34,
   "metadata": {},
   "outputs": [
    {
     "data": {
      "text/plain": [
       "'oclzx@k)clmow kq'"
      ]
     },
     "execution_count": 34,
     "metadata": {},
     "output_type": "execute_result"
    }
   ],
   "source": [
    "word = \"Oclzx@k)clmOw kQ\"\n",
    "word.lower()"
   ]
  },
  {
   "cell_type": "code",
   "execution_count": null,
   "metadata": {},
   "outputs": [],
   "source": []
  }
 ],
 "metadata": {
  "kernelspec": {
   "display_name": "Python 3",
   "language": "python",
   "name": "python3"
  },
  "language_info": {
   "codemirror_mode": {
    "name": "ipython",
    "version": 3
   },
   "file_extension": ".py",
   "mimetype": "text/x-python",
   "name": "python",
   "nbconvert_exporter": "python",
   "pygments_lexer": "ipython3",
   "version": "3.7.1"
  }
 },
 "nbformat": 4,
 "nbformat_minor": 2
}
