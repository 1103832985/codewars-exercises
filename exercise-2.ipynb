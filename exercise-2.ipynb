{
 "cells": [
  {
   "cell_type": "markdown",
   "metadata": {},
   "source": [
    "# Going to the cinema"
   ]
  },
  {
   "cell_type": "code",
   "execution_count": null,
   "metadata": {},
   "outputs": [],
   "source": [
    "'''\n",
    "Sstem A : buy a ticket (15 dollars) every time\n",
    "System B : buy a card (500 dollars) and every time \n",
    "    buy a ticket the price of which is 0.90 times the price he paid for the previous one.\n",
    ",,,\n",
    "\n",
    "https://www.codewars.com/kata/going-to-the-cinema/train/python"
   ]
  },
  {
   "cell_type": "code",
   "execution_count": null,
   "metadata": {},
   "outputs": [],
   "source": [
    "'''\n",
    "ceil() 函数返回数字的上入整数。\n",
    "例如：\n",
    "math.ceil.(4.2) = 5\n",
    "math.ceil.(-4.6) = -4\n",
    "'''"
   ]
  },
  {
   "cell_type": "code",
   "execution_count": 2,
   "metadata": {},
   "outputs": [
    {
     "data": {
      "text/plain": [
       "24"
      ]
     },
     "execution_count": 2,
     "metadata": {},
     "output_type": "execute_result"
    }
   ],
   "source": [
    "def movie(card, ticket, perc):\n",
    "    a,b,n = 0,card,0\n",
    "    while a < b:\n",
    "        n += 1\n",
    "        a += ticket\n",
    "        b += float(ticket * perc ** n) \n",
    "    return n\n",
    "movie(100, 10, 0.95)"
   ]
  },
  {
   "cell_type": "code",
   "execution_count": 13,
   "metadata": {},
   "outputs": [
    {
     "data": {
      "text/plain": [
       "2"
      ]
     },
     "execution_count": 13,
     "metadata": {},
     "output_type": "execute_result"
    }
   ],
   "source": [
    "import math\n",
    "def movie(card, ticket, perc):\n",
    "    a,b,n = 0,card,0\n",
    "    while math.ceil(b) >= a:\n",
    "        n += 1\n",
    "        a += ticket\n",
    "        b += ticket * (perc ** n) \n",
    "    return n\n",
    "movie(0, 10, 0.95)"
   ]
  },
  {
   "cell_type": "code",
   "execution_count": 8,
   "metadata": {},
   "outputs": [
    {
     "data": {
      "text/plain": [
       "24"
      ]
     },
     "execution_count": 8,
     "metadata": {},
     "output_type": "execute_result"
    }
   ],
   "source": [
    "import math \n",
    "def movie(card, ticket, perc):\n",
    "    num = 0\n",
    "    priceA = 0\n",
    "    priceB = card \n",
    "    while math.ceil(priceB) >= priceA:\n",
    "        num    += 1\n",
    "        priceA += ticket\n",
    "        priceB += ticket * (perc ** num)\n",
    "    return num\n",
    "movie(100, 10, 0.95)"
   ]
  },
  {
   "cell_type": "code",
   "execution_count": 9,
   "metadata": {},
   "outputs": [
    {
     "data": {
      "text/plain": [
       "2"
      ]
     },
     "execution_count": 9,
     "metadata": {},
     "output_type": "execute_result"
    }
   ],
   "source": [
    "movie(0, 10, 0.95)"
   ]
  },
  {
   "cell_type": "code",
   "execution_count": 18,
   "metadata": {},
   "outputs": [],
   "source": [
    "def movie(card, ticket, perc):\n",
    "    a = ticket * n\n",
    "    s,b = card,ticket\n",
    "    for i in range(n):\n",
    "        b = b * perc\n",
    "        s += b\n",
    "        if a > b:\n",
    "            return n\n"
   ]
  },
  {
   "cell_type": "code",
   "execution_count": 23,
   "metadata": {},
   "outputs": [
    {
     "data": {
      "text/plain": [
       "43"
      ]
     },
     "execution_count": 23,
     "metadata": {},
     "output_type": "execute_result"
    }
   ],
   "source": [
    "def movie(card, ticket, perc):\n",
    "    a,s,n,b = 0,card,0,ticket\n",
    "    while a < s:\n",
    "        n += 1\n",
    "        a = ticket * n\n",
    "        for i in range(n):\n",
    "            b = b * perc\n",
    "            s += b        \n",
    "    return n\n",
    "movie(500, 15, 0.9)"
   ]
  },
  {
   "cell_type": "code",
   "execution_count": null,
   "metadata": {},
   "outputs": [],
   "source": [
    "'''\n",
    "在这个简单的Kata中，您的任务是创建一个将字符串转换为墨西哥波浪的函数。\n",
    "您将传递一个字符串，您必须在数组中返回该字符串，其中大写字母是站起来的人。\n",
    "规则:\n",
    "1.输入字符串将始终为小写但可能为空。\n",
    "2.如果字符串中的字符是空格，则将其作为空座位传递。\n",
    "例:\n",
    "wave(\"hello\") => [\"Hello\", \"hEllo\", \"heLlo\", \"helLo\", \"hellO\"]\n",
    "'''"
   ]
  },
  {
   "cell_type": "code",
   "execution_count": 9,
   "metadata": {},
   "outputs": [
    {
     "data": {
      "text/plain": [
       "['Hello', 'hEllo', 'heLlo', 'helLo', 'hellO']"
      ]
     },
     "execution_count": 9,
     "metadata": {},
     "output_type": "execute_result"
    }
   ],
   "source": [
    "\"\"\"\n",
    "还是用到了加号分割!\n",
    " numerate() 函数用于将一个可遍历的数据对象(如列表、元组或字符串)组合为一个索引序列，\n",
    " 同时列出数据和数据下标，一般用在 for 循环当中\n",
    "\"\"\"\n",
    "def wave(st):\n",
    "    ls = []\n",
    "    for i,l in enumerate(st):\n",
    "        if l != ' ':\n",
    "            ls.append(st[:i]+st[i].upper()+st[i+1:])\n",
    "    return ls\n",
    "wave(\"hello\")"
   ]
  },
  {
   "cell_type": "code",
   "execution_count": 10,
   "metadata": {},
   "outputs": [
    {
     "data": {
      "text/plain": [
       "['Hello', 'hEllo', 'heLlo', 'helLo', 'hellO']"
      ]
     },
     "execution_count": 10,
     "metadata": {},
     "output_type": "execute_result"
    }
   ],
   "source": [
    "def wave(words):\n",
    "    result = []\n",
    "    chars = list(words)\n",
    "    for index, char in enumerate(chars):\n",
    "        if char.isalpha():\n",
    "            copy = chars[:]\n",
    "            #关键\n",
    "            copy[index] = copy[index].upper()\n",
    "            result.append(''.join(copy))\n",
    "    return result\n",
    "wave(\"hello\")"
   ]
  },
  {
   "cell_type": "code",
   "execution_count": 9,
   "metadata": {},
   "outputs": [
    {
     "data": {
      "text/plain": [
       "['Hello w', 'hEllo w', 'heLlo w', 'helLo w', 'hellO w', 'hello W']"
      ]
     },
     "execution_count": 9,
     "metadata": {},
     "output_type": "execute_result"
    }
   ],
   "source": [
    "def wave(string):\n",
    "    s = []\n",
    "    for i in range(len(string)):\n",
    "        if string[i] != ' ':\n",
    "            s.append(string[:i] + string[i].upper() + string[i+1:])\n",
    "    return s\n",
    "wave(\"hello w\")"
   ]
  },
  {
   "cell_type": "code",
   "execution_count": null,
   "metadata": {},
   "outputs": [],
   "source": [
    "'''\n",
    "你得到一个任意的整数n。以二进制表示形式交换每对相邻位，并将结果作为十进制数返回。\n",
    "例:\n",
    "对于n = 13，输出应为 14\n",
    "13 (10) = 1101 (2) ~> 1110 (2) = 14 (10)\n",
    "对于n = 74，输出应为 133\n",
    "74 (10) = 01001010 (2) ~> 10000101 (2) = 133 (10)\n",
    "'''"
   ]
  },
  {
   "cell_type": "code",
   "execution_count": 23,
   "metadata": {},
   "outputs": [
    {
     "data": {
      "text/plain": [
       "14"
      ]
     },
     "execution_count": 23,
     "metadata": {},
     "output_type": "execute_result"
    }
   ],
   "source": [
    "def swap_adjacent_bits(n):\n",
    "    a = bin(n)\n",
    "    a = str(a)\n",
    "    a = a[2:]\n",
    "    b = 4 - len(a) % 4\n",
    "    a = '0' * b + a\n",
    "    a = list(a)\n",
    "    n = 0\n",
    "    while n < len(a):\n",
    "        a[n],a[n+1] = a[n+1],a[n]\n",
    "        n += 2            \n",
    "    a = ''.join(a)\n",
    "    s = int(a,2)\n",
    "    return s\n",
    "swap_adjacent_bits(13)"
   ]
  },
  {
   "cell_type": "code",
   "execution_count": 24,
   "metadata": {},
   "outputs": [
    {
     "data": {
      "text/plain": [
       "14"
      ]
     },
     "execution_count": 24,
     "metadata": {},
     "output_type": "execute_result"
    }
   ],
   "source": [
    "def swap_adjacent_bits(n):\n",
    "    return (n & 0x55555555) << 1 | (n & 0xaaaaaaaa) >> 1\n",
    "swap_adjacent_bits(13)"
   ]
  },
  {
   "cell_type": "code",
   "execution_count": 25,
   "metadata": {},
   "outputs": [
    {
     "data": {
      "text/plain": [
       "14"
      ]
     },
     "execution_count": 25,
     "metadata": {},
     "output_type": "execute_result"
    }
   ],
   "source": [
    "def swap_adjacent_bits(n):\n",
    "    n = bin(n)[2:]\n",
    "    if len(n) % 2:\n",
    "        n = '0' + n\n",
    "    result = []\n",
    "    for i in range(len(n) // 2):\n",
    "        result.append(n[2 * i + 1])\n",
    "        result.append(n[2 * i])\n",
    "    return int(\"\".join(result), 2)\n",
    "swap_adjacent_bits(13)"
   ]
  },
  {
   "cell_type": "code",
   "execution_count": 20,
   "metadata": {},
   "outputs": [
    {
     "name": "stdout",
     "output_type": "stream",
     "text": [
      "148\n"
     ]
    }
   ],
   "source": [
    "x = 74\n",
    "a = bin(x)\n",
    "a = str(a)\n",
    "a = a[2:]\n",
    "b = 4 - len(a) % 4\n",
    "a = '0' * b + a\n",
    "a = a[1:] + a[0]\n",
    "a\n",
    "print(int(a,2))"
   ]
  },
  {
   "cell_type": "code",
   "execution_count": null,
   "metadata": {},
   "outputs": [],
   "source": [
    "'''\n",
    "编写一个解析并运行Deadfish的简单解析器。\n",
    "Deadfish有4个命令，每个命令长1个字符：\n",
    "i递增值（最初0）\n",
    "d 递减值\n",
    "s 平方值\n",
    "o 将值输出到返回数组中\n",
    "应忽略无效字符。\n",
    "例如：\n",
    "parse(\"iiisdoso\")  ==>  [8, 64]\n",
    "'''"
   ]
  },
  {
   "cell_type": "code",
   "execution_count": 26,
   "metadata": {},
   "outputs": [
    {
     "data": {
      "text/plain": [
       "[8, 64]"
      ]
     },
     "execution_count": 26,
     "metadata": {},
     "output_type": "execute_result"
    }
   ],
   "source": [
    "def parse(data):\n",
    "    a = 0\n",
    "    n = []\n",
    "    for i in data:\n",
    "        if i == 'i':\n",
    "            a += 1\n",
    "        elif i == 'd':\n",
    "            a -= 1\n",
    "        elif i == 's':\n",
    "            a = a ** 2\n",
    "        elif i == 'o':\n",
    "            n.append(a)\n",
    "    return n\n",
    "parse(\"iiisdoso\")"
   ]
  },
  {
   "cell_type": "code",
   "execution_count": 27,
   "metadata": {},
   "outputs": [
    {
     "data": {
      "text/plain": [
       "[8, 64]"
      ]
     },
     "execution_count": 27,
     "metadata": {},
     "output_type": "execute_result"
    }
   ],
   "source": [
    "def parse(s,v=0):\n",
    "    Z=[]\n",
    "    for x in s:\n",
    "        v={'i':v+1,'d':v-1,'s':v**2}.get(x,v)\n",
    "        Z+=[v]*(x=='o')\n",
    "    return Z\n",
    "parse(\"iiisdoso\")"
   ]
  },
  {
   "cell_type": "code",
   "execution_count": null,
   "metadata": {},
   "outputs": [],
   "source": []
  }
 ],
 "metadata": {
  "kernelspec": {
   "display_name": "Python 3",
   "language": "python",
   "name": "python3"
  },
  "language_info": {
   "codemirror_mode": {
    "name": "ipython",
    "version": 3
   },
   "file_extension": ".py",
   "mimetype": "text/x-python",
   "name": "python",
   "nbconvert_exporter": "python",
   "pygments_lexer": "ipython3",
   "version": "3.7.1"
  }
 },
 "nbformat": 4,
 "nbformat_minor": 2
}
