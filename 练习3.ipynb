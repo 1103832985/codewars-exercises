{
 "cells": [
  {
   "cell_type": "code",
   "execution_count": null,
   "metadata": {},
   "outputs": [],
   "source": [
    "'''\n",
    "以下是条件：\n",
    "您的消息是一个包含空格分隔单词的字符串。\n",
    "您需要使用以下规则加密消息中的每个单词：\n",
    "第一个字母需要转换为ASCII码。\n",
    "第二个字母需要用最后一个字母切换\n",
    "保持简单：输入中没有特殊字符。\n",
    "例子：\n",
    "encrypt_this(\"Hello\") == \"72olle\"\n",
    "encrypt_this(\"good\") == \"103doo\"\n",
    "encrypt_this(\"hello world\") == \"104olle 119drlo\"\n",
    "'''            "
   ]
  },
  {
   "cell_type": "code",
   "execution_count": 20,
   "metadata": {},
   "outputs": [
    {
     "data": {
      "text/plain": [
       "'72olle 109y 97 119drlo'"
      ]
     },
     "execution_count": 20,
     "metadata": {},
     "output_type": "execute_result"
    }
   ],
   "source": [
    "def encrypt_this(text):\n",
    "    n = []\n",
    "    if len(text) != 0:        \n",
    "        for i in text.split():\n",
    "            a = ord(i[0])\n",
    "            if len(i) > 2:\n",
    "                i = str(a) + i[-1] + i[2:-1] + i[1]\n",
    "            elif len(i) == 2:\n",
    "                i = str(a) + i[-1]\n",
    "            else:\n",
    "                i = str(a)\n",
    "            n.append(i)\n",
    "        return ' '.join(n)\n",
    "    else:\n",
    "        return ''\n",
    "encrypt_this(\"Hello my a world\")            "
   ]
  },
  {
   "cell_type": "code",
   "execution_count": 23,
   "metadata": {},
   "outputs": [
    {
     "data": {
      "text/plain": [
       "'72olle 109y 97 119drlo'"
      ]
     },
     "execution_count": 23,
     "metadata": {},
     "output_type": "execute_result"
    }
   ],
   "source": [
    "def encrypt_this(text):\n",
    "    result = []\n",
    "    for i in text.split():\n",
    "        i = list(i)\n",
    "        if len(i) > 2:\n",
    "            i[-1], i[1] = i[1], i[-1]\n",
    "        i[0] = str(ord(i[0]))\n",
    "        result.append(\"\".join(i))\n",
    "    return \" \".join(result)\n",
    "encrypt_this(\"Hello my a world\")"
   ]
  },
  {
   "cell_type": "code",
   "execution_count": 26,
   "metadata": {},
   "outputs": [
    {
     "data": {
      "text/plain": [
       "'72olle 109y 97 119drlo'"
      ]
     },
     "execution_count": 26,
     "metadata": {},
     "output_type": "execute_result"
    }
   ],
   "source": [
    "encrypt_this=lambda s:' '.join(str(ord(w[0]))+w[-1:]*(w[1:]>'')+w[2:-1]+w[1:2]*(w[2:]>'')for w in s.split())\n",
    "encrypt_this(\"Hello my a world\")"
   ]
  },
  {
   "cell_type": "code",
   "execution_count": null,
   "metadata": {},
   "outputs": [],
   "source": [
    "'''\n",
    "鲍勃观察到，一个数字通常与其他数字在均匀度上不同。帮助鲍勃 - 检查他的答案，\n",
    "他需要一个程序，在给定的数字中找到一个在均匀度上不同的程序，并返回这个数字的位置。\n",
    "!请记住，您的任务是帮助Bob解决a real IQ test，这意味着元素的索引从中开始1 (not 0)\n",
    "例子 ：\n",
    "iq_test(\"2 4 7 8 10\") => 3 // Third number is odd, while the rest of the numbers are even\n",
    "iq_test(\"1 2 1 1\") => 2 // \n",
    "'''"
   ]
  },
  {
   "cell_type": "code",
   "execution_count": 26,
   "metadata": {},
   "outputs": [
    {
     "data": {
      "text/plain": [
       "2"
      ]
     },
     "execution_count": 26,
     "metadata": {},
     "output_type": "execute_result"
    }
   ],
   "source": [
    "def iq_test(numbers):\n",
    "    numbers = numbers.split()\n",
    "    a = eval(numbers[0]) % 2\n",
    "    b = eval(numbers[1]) % 2\n",
    "    if a == b:\n",
    "        for i,m in enumerate(numbers[2:]):\n",
    "            m = eval(m) % 2\n",
    "            if m != a:\n",
    "                return i+3\n",
    "    else:\n",
    "        for i,m in enumerate(numbers[2:]):\n",
    "            m = eval(m) % 2\n",
    "            if m == a:\n",
    "                return 2\n",
    "            elif m == b:\n",
    "                return 1\n",
    "iq_test(\"2 3 4 6 8 10 \")       "
   ]
  },
  {
   "cell_type": "code",
   "execution_count": 31,
   "metadata": {},
   "outputs": [
    {
     "data": {
      "text/plain": [
       "6"
      ]
     },
     "execution_count": 31,
     "metadata": {},
     "output_type": "execute_result"
    }
   ],
   "source": [
    "#后来才发现可以只用一个循环\n",
    "def iq_test(numbers):\n",
    "    numbers = numbers.split()\n",
    "    a = eval(numbers[0]) % 2\n",
    "    b = eval(numbers[1]) % 2\n",
    "    for i,m in enumerate(numbers[2:]):\n",
    "        m = eval(m) % 2\n",
    "        if a == b:\n",
    "            if m != a:\n",
    "                return i+3\n",
    "        else:\n",
    "            if m == a:\n",
    "                return 2\n",
    "            else:\n",
    "                return 1\n",
    "iq_test(\"2 4 6 8 10 7\")"
   ]
  },
  {
   "cell_type": "code",
   "execution_count": 27,
   "metadata": {},
   "outputs": [
    {
     "data": {
      "text/plain": [
       "2"
      ]
     },
     "execution_count": 27,
     "metadata": {},
     "output_type": "execute_result"
    }
   ],
   "source": [
    "def iq_test(numbers):\n",
    "    e = [int(i) % 2 == 0 for i in numbers.split()]\n",
    "    return e.index(True) + 1 if e.count(True) == 1 else e.index(False) + 1\n",
    "iq_test(\"2 3 4 6 8 10 \")"
   ]
  },
  {
   "cell_type": "code",
   "execution_count": null,
   "metadata": {},
   "outputs": [],
   "source": [
    "'''\n",
    "第一个参数（必需）：要转换的原始字符串。\n",
    "第二个参数（可选）：空格分隔的次要单词列表，除字符串中的第一个单词外，必须始终为小写。\n",
    "undefined当此参数未使用时，JavaScript / CoffeeScript测试将通过。\n",
    "＃＃＃例\n",
    "title_case('a clash of KINGS', 'a an the of') # should return: 'A Clash of Kings'\n",
    "title_case('THE WIND IN THE WILLOWS', 'The In') # should return: 'The Wind in the Willows'\n",
    "title_case('the quick brown fox') # should return: 'The Quick Brown Fox'\n",
    "'''"
   ]
  },
  {
   "cell_type": "code",
   "execution_count": 69,
   "metadata": {},
   "outputs": [
    {
     "data": {
      "text/plain": [
       "'First A Of In'"
      ]
     },
     "execution_count": 69,
     "metadata": {},
     "output_type": "execute_result"
    }
   ],
   "source": [
    "def title_case(title, minor_words=''):\n",
    "    n = []\n",
    "    if len(title) > 0:\n",
    "        title = title.split()\n",
    "        words = minor_words.lower()\n",
    "        n.append(title[0].title())\n",
    "        for i in title[1:]:\n",
    "            if len(i) > 1:\n",
    "                if i.lower() in words:\n",
    "                    for j in words.split():\n",
    "                        if i.lower() == j:\n",
    "                            n.append(i.lower())\n",
    "                            break\n",
    "                        else:\n",
    "                            continue\n",
    "                    else:\n",
    "                        n.append(i.title())                        \n",
    "                else:              \n",
    "                    n.append(i.title())\n",
    "            if len(i) == 1:\n",
    "                n.append(i.upper())\n",
    "        return \" \".join(n)\n",
    "    else:\n",
    "        return ''\n",
    "        \n",
    "title_case('First a of in ','an often into')  "
   ]
  },
  {
   "cell_type": "code",
   "execution_count": 72,
   "metadata": {},
   "outputs": [
    {
     "data": {
      "text/plain": [
       "'First A Of In'"
      ]
     },
     "execution_count": 72,
     "metadata": {},
     "output_type": "execute_result"
    }
   ],
   "source": [
    "def title_case(title, minor_words=''):\n",
    "    title = title.capitalize().split()\n",
    "    minor_words = minor_words.lower().split()\n",
    "    return ' '.join([word if word in minor_words else word.capitalize() for word in title])\n",
    "\n",
    "title_case('First a of in ','an often into')"
   ]
  },
  {
   "cell_type": "code",
   "execution_count": 68,
   "metadata": {},
   "outputs": [
    {
     "data": {
      "text/plain": [
       "'First A Of In'"
      ]
     },
     "execution_count": 68,
     "metadata": {},
     "output_type": "execute_result"
    }
   ],
   "source": [
    "def title_case(title, minor_words=\"none\"):\n",
    "    title = title.lower()\n",
    "    lista = title.split()\n",
    "    minor_words = minor_words.lower()\n",
    "    words = minor_words.split()\n",
    "    if title != \"\" :\n",
    "        lista[0] = lista[0].title()\n",
    "        for a in lista :\n",
    "            if a not in words:\n",
    "                lista[lista.index(a)] = a.title()            \n",
    "    return ' '.join(lista)\n",
    "\n",
    "title_case('First a of in ','an often into')  "
   ]
  },
  {
   "cell_type": "code",
   "execution_count": 19,
   "metadata": {},
   "outputs": [
    {
     "data": {
      "text/plain": [
       "'A'"
      ]
     },
     "execution_count": 19,
     "metadata": {},
     "output_type": "execute_result"
    }
   ],
   "source": [
    "a = \"A dg hjk abhj\"\n",
    "a = a.split()\n",
    "a[0]"
   ]
  },
  {
   "cell_type": "code",
   "execution_count": 21,
   "metadata": {},
   "outputs": [
    {
     "name": "stdout",
     "output_type": "stream",
     "text": [
      "True\n"
     ]
    }
   ],
   "source": [
    "ads = 'a b c d'\n",
    "b = 'A'\n",
    "if a[0].lower() in ads:\n",
    "    print('True')\n",
    "else:\n",
    "    print(\"False\")"
   ]
  },
  {
   "cell_type": "code",
   "execution_count": 22,
   "metadata": {},
   "outputs": [
    {
     "data": {
      "text/plain": [
       "'sd jk ui lo'"
      ]
     },
     "execution_count": 22,
     "metadata": {},
     "output_type": "execute_result"
    }
   ],
   "source": [
    "d = \"SD JK UI LO\"\n",
    "d.lower()"
   ]
  },
  {
   "cell_type": "code",
   "execution_count": 44,
   "metadata": {},
   "outputs": [
    {
     "data": {
      "text/plain": [
       "True"
      ]
     },
     "execution_count": 44,
     "metadata": {},
     "output_type": "execute_result"
    }
   ],
   "source": [
    "'in' in 'into'"
   ]
  },
  {
   "cell_type": "code",
   "execution_count": null,
   "metadata": {},
   "outputs": [],
   "source": []
  }
 ],
 "metadata": {
  "kernelspec": {
   "display_name": "Python 3",
   "language": "python",
   "name": "python3"
  },
  "language_info": {
   "codemirror_mode": {
    "name": "ipython",
    "version": 3
   },
   "file_extension": ".py",
   "mimetype": "text/x-python",
   "name": "python",
   "nbconvert_exporter": "python",
   "pygments_lexer": "ipython3",
   "version": "3.7.1"
  }
 },
 "nbformat": 4,
 "nbformat_minor": 2
}
