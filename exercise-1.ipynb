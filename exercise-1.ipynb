{
 "cells": [
  {
   "cell_type": "markdown",
   "metadata": {},
   "source": [
    "# Credit Card Mask"
   ]
  },
  {
   "cell_type": "code",
   "execution_count": null,
   "metadata": {},
   "outputs": [],
   "source": [
    "'''\n",
    "Your task is to write a function maskify, which changes all but the last four characters into '#'.\n",
    "Examples\n",
    "maskify(\"4556364607935616\") == \"############5616\"\n",
    "maskify(     \"64607935616\") ==      \"#######5616\"\n",
    "maskify(               \"1\") ==                \"1\"\n",
    "maskify(                \"\") ==                 \"\"\n",
    "# \"What was the name of your first pet?\"\n",
    "maskify(\"Skippy\")                                   == \"##ippy\"\n",
    "maskify(\"Nananananananananananananananana Batman!\") == \"####################################man!\"\n",
    "'''"
   ]
  },
  {
   "cell_type": "code",
   "execution_count": 1,
   "metadata": {},
   "outputs": [
    {
     "data": {
      "text/plain": [
       "'############5616'"
      ]
     },
     "execution_count": 1,
     "metadata": {},
     "output_type": "execute_result"
    }
   ],
   "source": [
    "def maskify(cc):\n",
    "    return \"#\"*(len(cc)-4) + cc[-4:]\n",
    "maskify(\"4556364607935616\")"
   ]
  },
  {
   "cell_type": "code",
   "execution_count": 2,
   "metadata": {},
   "outputs": [
    {
     "name": "stdout",
     "output_type": "stream",
     "text": [
      "ijkl\n",
      "a\n"
     ]
    }
   ],
   "source": [
    "a='abcdefghijkl'\n",
    "print(a[-4:])\n",
    "print(a[0])"
   ]
  },
  {
   "cell_type": "markdown",
   "metadata": {},
   "source": [
    "# Unique In Order"
   ]
  },
  {
   "cell_type": "code",
   "execution_count": null,
   "metadata": {},
   "outputs": [],
   "source": [
    "'''\n",
    "Implement the function unique_in_order which takes as argument a sequence and returns a list of items \n",
    "without any elements with the same value next to each other and preserving the original order of elements.\n",
    "For example:\n",
    "unique_in_order('AAAABBBCCDAABBB') == ['A', 'B', 'C', 'D', 'A', 'B']\n",
    "unique_in_order('ABBCcAD')         == ['A', 'B', 'C', 'c', 'A', 'D']\n",
    "unique_in_order([1,2,2,3,3])       == [1,2,3]\n",
    "'''"
   ]
  },
  {
   "cell_type": "code",
   "execution_count": null,
   "metadata": {},
   "outputs": [],
   "source": [
    "def unique_in_order(iterable):    \n",
    "    pre_item = None\n",
    "    result = []\n",
    "    for item in iterable:\n",
    "        if item != pre_item:  # 将得到的数值 item 与开始定义的变量 pre_item 进行判断\n",
    "            result.append(item)  # 不相等则加入到列表中\n",
    "            pre_item = item  # 重点：此时将该数值赋值给 pre_item，那么在下次判断时就是与上次的值进行判断，达到相邻去重的效果。\n",
    "    return result"
   ]
  },
  {
   "cell_type": "code",
   "execution_count": 3,
   "metadata": {},
   "outputs": [
    {
     "data": {
      "text/plain": [
       "['A', 'B', 'C', 'D', 'A', 'B']"
      ]
     },
     "execution_count": 3,
     "metadata": {},
     "output_type": "execute_result"
    }
   ],
   "source": [
    "def unique_in_order(iterable):    \n",
    "    pre_item = None\n",
    "    result = []\n",
    "    for item in iterable:\n",
    "        if item != pre_item: \n",
    "            result.append(item) \n",
    "            pre_item = item  \n",
    "    return result\n",
    "unique_in_order('AAAABBBCCDAABBB')"
   ]
  },
  {
   "cell_type": "markdown",
   "metadata": {},
   "source": [
    "# Complementary DNA"
   ]
  },
  {
   "cell_type": "code",
   "execution_count": null,
   "metadata": {},
   "outputs": [],
   "source": [
    "'''\n",
    "Deoxyribonucleic acid (DNA) is a chemical found in the nucleus of cells and \n",
    "carries the \"instructions\" for the development and functioning of living organisms.\n",
    "If you want to know more http://en.wikipedia.org/wiki/DNA\n",
    "In DNA strings, symbols \"A\" and \"T\" are complements of each other, as \"C\" and \"G\".\n",
    "You have function with one side of the DNA (string, except for Haskell);\n",
    "you need to get the other complementary side. DNA strand is never empty or there is no DNA at all (again, except for Haskell).\n",
    "More similar exercise are found here http://rosalind.info/problems/list-view/ (source)\n",
    "DNA_strand (\"ATTGC\") # return \"TAACG\"\n",
    "DNA_strand (\"GTAT\") # return \"CATA\"\n",
    "'''"
   ]
  },
  {
   "cell_type": "code",
   "execution_count": 16,
   "metadata": {},
   "outputs": [],
   "source": [
    "def DNA_strand(dna):\n",
    "    dnas = []\n",
    "    for i in dna:\n",
    "        if i == 'A':\n",
    "            dnas.append('T')\n",
    "            continue\n",
    "        elif i == 'T':\n",
    "            dnas.append('A')\n",
    "            continue\n",
    "        elif i == 'G':\n",
    "            dnas.append('C')\n",
    "            continue\n",
    "        elif i == 'C':\n",
    "            dnas.append('G')\n",
    "            continue\n",
    "        return dnas\n",
    "DNA_strand('ATG')"
   ]
  },
  {
   "cell_type": "code",
   "execution_count": 9,
   "metadata": {},
   "outputs": [
    {
     "data": {
      "text/plain": [
       "'TCAGGCAT'"
      ]
     },
     "execution_count": 9,
     "metadata": {},
     "output_type": "execute_result"
    }
   ],
   "source": [
    "def DNA_strand(dna):    \n",
    "    basecomplement = {\n",
    "          \"A\":\"T\",\n",
    "          \"T\":\"A\",\n",
    "          \"G\":\"C\",\n",
    "          \"C\":\"G\",\n",
    "          }\n",
    "    letters = list(dna)\n",
    "    letters = [basecomplement[base] for base in letters]\n",
    "    return ''.join(letters)\n",
    "DNA_strand('AGTCCGTA')"
   ]
  },
  {
   "cell_type": "markdown",
   "metadata": {},
   "source": [
    "# Find the missing letter"
   ]
  },
  {
   "cell_type": "code",
   "execution_count": null,
   "metadata": {},
   "outputs": [],
   "source": [
    "'''\n",
    "Write a method that takes an array of consecutive (increasing) letters as input and that returns the missing letter in the array.\n",
    "You will always get an valid array. And it will be always exactly one letter be missing. \n",
    "The length of the array will always be at least 2.\n",
    "The array will always contain letters in only one case.\n",
    "Example:\n",
    "['a','b','c','d','f'] -> 'e'\n",
    "['O','Q','R','S'] -> 'P'\n",
    "'''"
   ]
  },
  {
   "cell_type": "code",
   "execution_count": 23,
   "metadata": {},
   "outputs": [
    {
     "data": {
      "text/plain": [
       "'e'"
      ]
     },
     "execution_count": 23,
     "metadata": {},
     "output_type": "execute_result"
    }
   ],
   "source": [
    "def find_missing_letter(chars):\n",
    "    pre_item = chars[0]    \n",
    "    for item in chars:\n",
    "        if pre_item == item:            \n",
    "            continue\n",
    "        else:            \n",
    "            if ord(item) - ord(pre_item)  != 1:\n",
    "                a = ord(item) - 1\n",
    "                break\n",
    "            else:\n",
    "                pre_item = item                         \n",
    "    return chr(a)\n",
    "find_missing_letter('bcdfg')"
   ]
  },
  {
   "cell_type": "code",
   "execution_count": 24,
   "metadata": {},
   "outputs": [
    {
     "data": {
      "text/plain": [
       "'e'"
      ]
     },
     "execution_count": 24,
     "metadata": {},
     "output_type": "execute_result"
    }
   ],
   "source": [
    "def find_missing_letter(chars):\n",
    "    n = 0\n",
    "    while ord(chars[n]) == ord(chars[n+1]) - 1:\n",
    "        n += 1\n",
    "    return chr(1+ord(chars[n]))\n",
    "find_missing_letter('bcdfg')"
   ]
  },
  {
   "cell_type": "code",
   "execution_count": 25,
   "metadata": {},
   "outputs": [
    {
     "data": {
      "text/plain": [
       "'e'"
      ]
     },
     "execution_count": 25,
     "metadata": {},
     "output_type": "execute_result"
    }
   ],
   "source": [
    "def find_missing_letter(c):\n",
    "    return next(chr(ord(c[i])+1) for i in range(len(c)-1) if ord(c[i])+1 != ord(c[i+1]))\n",
    "find_missing_letter('bcdfg')"
   ]
  },
  {
   "cell_type": "code",
   "execution_count": 26,
   "metadata": {},
   "outputs": [
    {
     "data": {
      "text/plain": [
       "'e'"
      ]
     },
     "execution_count": 26,
     "metadata": {},
     "output_type": "execute_result"
    }
   ],
   "source": [
    "def find_missing_letter(chars):\n",
    "    s = 'abcdefghijklmnopqrstuvwxyzABCDEFGHIJKLMNOPQRSTUVWXYZ'\n",
    "    match = False\n",
    "    count = 0;\n",
    "    for letter in s:\n",
    "        if letter == chars[count]:\n",
    "            match = True\n",
    "            count = count +1\n",
    "        elif match == True:\n",
    "            return letter\n",
    "find_missing_letter('bcdfg')"
   ]
  },
  {
   "cell_type": "code",
   "execution_count": 7,
   "metadata": {},
   "outputs": [
    {
     "name": "stdout",
     "output_type": "stream",
     "text": [
      "b\n",
      "d\n",
      "f\n",
      "h\n",
      "j\n"
     ]
    }
   ],
   "source": [
    "s = 'abcdefghijkl'\n",
    "for i in s[1:-2:2]:\n",
    "    print(i)"
   ]
  }
 ],
 "metadata": {
  "kernelspec": {
   "display_name": "Python 3",
   "language": "python",
   "name": "python3"
  },
  "language_info": {
   "codemirror_mode": {
    "name": "ipython",
    "version": 3
   },
   "file_extension": ".py",
   "mimetype": "text/x-python",
   "name": "python",
   "nbconvert_exporter": "python",
   "pygments_lexer": "ipython3",
   "version": "3.7.1"
  }
 },
 "nbformat": 4,
 "nbformat_minor": 2
}
