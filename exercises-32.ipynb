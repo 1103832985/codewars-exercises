{
 "cells": [
  {
   "cell_type": "markdown",
   "metadata": {},
   "source": [
    "# Count characters in your string"
   ]
  },
  {
   "cell_type": "code",
   "execution_count": null,
   "metadata": {},
   "outputs": [],
   "source": [
    "'''\n",
    "  The main idea is to count all the occuring characters(UTF-8) in string. If you have string \n",
    "like this aba then the result should be { 'a': 2, 'b': 1 }\n",
    "  What if the string is empty ? Then the result should be empty object literal { }\n",
    "'''"
   ]
  },
  {
   "cell_type": "code",
   "execution_count": 12,
   "metadata": {},
   "outputs": [
    {
     "data": {
      "text/plain": [
       "{'a': 2, 'b': 1}"
      ]
     },
     "execution_count": 12,
     "metadata": {},
     "output_type": "execute_result"
    }
   ],
   "source": [
    "def count(string):\n",
    "    m,n = [],[]\n",
    "    for i in string:\n",
    "        if i not in m:\n",
    "            m.append(i)\n",
    "            n.append(string.count(i))\n",
    "    '''zip方法可以将两个列表合成一个字典'''\n",
    "    return dict(zip(m,n))\n",
    "\n",
    "count('aba')    "
   ]
  },
  {
   "cell_type": "code",
   "execution_count": 13,
   "metadata": {},
   "outputs": [
    {
     "data": {
      "text/plain": [
       "Counter({'a': 2, 'b': 1})"
      ]
     },
     "execution_count": 13,
     "metadata": {},
     "output_type": "execute_result"
    }
   ],
   "source": [
    "from collections import Counter\n",
    "def count(string):\n",
    "    return Counter(string)\n",
    "count('aba')    "
   ]
  },
  {
   "cell_type": "code",
   "execution_count": 14,
   "metadata": {},
   "outputs": [
    {
     "data": {
      "text/plain": [
       "{'a': 2, 'b': 1}"
      ]
     },
     "execution_count": 14,
     "metadata": {},
     "output_type": "execute_result"
    }
   ],
   "source": [
    "def count(string):\n",
    "    # 字典也有推导式！！！\n",
    "    return {i: string.count(i) for i in string}\n",
    "count('aba')"
   ]
  },
  {
   "cell_type": "markdown",
   "metadata": {},
   "source": [
    "# Rectangle into Squares"
   ]
  },
  {
   "cell_type": "code",
   "execution_count": null,
   "metadata": {},
   "outputs": [],
   "source": [
    "'''\n",
    "You will be given two dimensions\n",
    " a positive integer length (parameter named lng)\n",
    " a positive integer width (parameter named wdth)\n",
    "You will return an array or a string (depending on the language; Shell bash, PowerShell and Fortran return a string)\n",
    "with the size of each of the squares.\n",
    "  sqInRect(5, 3) should return [3, 2, 1, 1]\n",
    "  sqInRect(3, 5) should return [3, 2, 1, 1]\n",
    "'''"
   ]
  },
  {
   "cell_type": "code",
   "execution_count": 30,
   "metadata": {},
   "outputs": [
    {
     "name": "stdout",
     "output_type": "stream",
     "text": [
      "(2, 3)\n",
      "(1, 2)\n",
      "(1, 1)\n",
      "(0, 1)\n"
     ]
    },
    {
     "data": {
      "text/plain": [
       "[3, 2, 1, 1]"
      ]
     },
     "execution_count": 30,
     "metadata": {},
     "output_type": "execute_result"
    }
   ],
   "source": [
    "def sqInRect(a, b):\n",
    "    if a != b:\n",
    "        n = []\n",
    "        while a > 0:\n",
    "            n.append(min(a,b))\n",
    "            a,b = max(a,b)-min(a,b),min(a,b)\n",
    "        return n\n",
    "    return None\n",
    "\n",
    "sqInRect(5,3)    "
   ]
  },
  {
   "cell_type": "markdown",
   "metadata": {},
   "source": [
    "# Playing with passphrases"
   ]
  },
  {
   "cell_type": "code",
   "execution_count": null,
   "metadata": {},
   "outputs": [],
   "source": [
    "'''\n",
    "  Everyone knows passphrases. One can choose passphrases from poems, songs, movies names and so on but frequently\n",
    "they can be guessed due to common cultural references. You can get your passphrases stronger by different means. One is the following:\n",
    "  choose a text in capital letters including or not digits and non alphabetic characters,\n",
    "shift each letter by a given number but the transformed letter must be a letter (circular shift),\n",
    "replace each digit by its complement to 9,\n",
    "keep such as non alphabetic and non digit characters,\n",
    "downcase each letter in odd position, upcase each letter in even position (the first character is in position 0),\n",
    "reverse the whole result.\n",
    "#Example:\n",
    "your text: \"BORN IN 2015!\", shift 1\n",
    "1 + 2 + 3 -> \"CPSO JO 7984!\"\n",
    "4         -> \"CpSo jO 7984!\"\n",
    "5         -> \"!4897 Oj oSpC\"\n",
    "'''"
   ]
  },
  {
   "cell_type": "code",
   "execution_count": 58,
   "metadata": {},
   "outputs": [
    {
     "data": {
      "text/plain": [
       "'!4897 Oj oSpC'"
      ]
     },
     "execution_count": 58,
     "metadata": {},
     "output_type": "execute_result"
    }
   ],
   "source": [
    "def play_pass(s, n):\n",
    "    m,a = '',[]\n",
    "    for i in s:\n",
    "        if i.isalpha():\n",
    "            if ord(i)+n <= 90:\n",
    "                m += chr(ord(i)+n)\n",
    "            else:\n",
    "                m += chr(ord(i)+n-90+64)\n",
    "        elif i.isdigit():\n",
    "            m += str(9-int(i))\n",
    "        else:\n",
    "            m += i\n",
    "    for i,j in enumerate(m):\n",
    "        if i%2 != 0 and j.isalpha():\n",
    "            a.append(j.lower())\n",
    "        else:\n",
    "            a.append(j)\n",
    "    m = reversed(a)   \n",
    "    return ''.join(m)\n",
    "\n",
    "play_pass( \"BORN IN 2015!\",1)   "
   ]
  }
 ],
 "metadata": {
  "kernelspec": {
   "display_name": "Python 3",
   "language": "python",
   "name": "python3"
  },
  "language_info": {
   "codemirror_mode": {
    "name": "ipython",
    "version": 3
   },
   "file_extension": ".py",
   "mimetype": "text/x-python",
   "name": "python",
   "nbconvert_exporter": "python",
   "pygments_lexer": "ipython3",
   "version": "3.7.3"
  }
 },
 "nbformat": 4,
 "nbformat_minor": 2
}
