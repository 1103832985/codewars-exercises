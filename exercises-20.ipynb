{
 "cells": [
  {
   "cell_type": "markdown",
   "metadata": {},
   "source": [
    "# Detect Pangram"
   ]
  },
  {
   "cell_type": "code",
   "execution_count": null,
   "metadata": {},
   "outputs": [],
   "source": [
    "'''\n",
    "  A pangram is a sentence that contains every single letter of the alphabet at least once.\n",
    "For example, the sentence \"The quick brown fox jumps over the lazy dog\" is a pangram,\n",
    "because it uses the letters A-Z at least once (case is irrelevant).\n",
    "  Given a string, detect whether or not it is a pangram. Return True if it is, False if not. Ignore numbers and punctuation.\n",
    "'''"
   ]
  },
  {
   "cell_type": "code",
   "execution_count": 26,
   "metadata": {},
   "outputs": [
    {
     "name": "stdout",
     "output_type": "stream",
     "text": [
      "['a', 'b', 'c', 'd', 'e', 'f', 'g', 'h', 'i', 'j', 'k', 'l', 'm', 'n', 'o', 'p', 'q', 'r', 's', 't', 'u', 'v', 'w', 'x', 'y', 'z']\n"
     ]
    }
   ],
   "source": [
    "import string\n",
    "n = list(string.ascii_lowercase)\n",
    "print(n)"
   ]
  },
  {
   "cell_type": "code",
   "execution_count": 28,
   "metadata": {},
   "outputs": [
    {
     "data": {
      "text/plain": [
       "True"
      ]
     },
     "execution_count": 28,
     "metadata": {},
     "output_type": "execute_result"
    }
   ],
   "source": [
    "import string\n",
    "def is_pangram(s):\n",
    "    n = list(string.ascii_lowercase)\n",
    "    a = s.lower()\n",
    "    b = set(a)\n",
    "    for i in b:\n",
    "        if i in n:\n",
    "            n.remove(i)\n",
    "    if len(n) == 0:\n",
    "        return True\n",
    "    return False\n",
    "\n",
    "is_pangram(\"The quick brown fox jumps over the lazy dog\")"
   ]
  },
  {
   "cell_type": "code",
   "execution_count": 33,
   "metadata": {},
   "outputs": [
    {
     "data": {
      "text/plain": [
       "True"
      ]
     },
     "execution_count": 33,
     "metadata": {},
     "output_type": "execute_result"
    }
   ],
   "source": [
    "import string\n",
    "def is_pangram(s):\n",
    "    return set(string.ascii_lowercase) <= set(s.lower())\n",
    "is_pangram(\"The quick brown fox jumps over the lazy dog\")"
   ]
  },
  {
   "cell_type": "code",
   "execution_count": 34,
   "metadata": {},
   "outputs": [
    {
     "data": {
      "text/plain": [
       "True"
      ]
     },
     "execution_count": 34,
     "metadata": {},
     "output_type": "execute_result"
    }
   ],
   "source": [
    "def is_pangram(s):\n",
    "    s = s.lower()\n",
    "    for char in 'abcdefghijklmnopqrstuvwxyz':\n",
    "        if char not in s:\n",
    "            return False\n",
    "    return True\n",
    "is_pangram(\"The quick brown fox jumps over the lazy dog\")"
   ]
  },
  {
   "cell_type": "markdown",
   "metadata": {},
   "source": [
    "# Good vs Evil"
   ]
  },
  {
   "cell_type": "code",
   "execution_count": null,
   "metadata": {},
   "outputs": [],
   "source": [
    "'''\n",
    "Middle Earth is about to go to war. The forces of good will have many battles with the forces of evil. \n",
    "Different races will certainly be involved. Each race has a certain worth when battling against others.\n",
    "On the side of good we have the following races, with their associated worth:\n",
    "Hobbits: 1\n",
    "Men: 2\n",
    "Elves: 3\n",
    "Dwarves: 3\n",
    "Eagles: 4\n",
    "Wizards: 10\n",
    "On the side of evil we have:\n",
    "Orcs: 1\n",
    "Men: 2\n",
    "Wargs: 2\n",
    "Goblins: 2\n",
    "Uruk Hai: 3\n",
    "Trolls: 5\n",
    "Wizards: 10\n",
    "  Although weather, location, supplies and valor play a part in any battle, if you add up the worth of the side of good \n",
    "and compare it with the worth of the side of evil, the side with the larger worth will tend to win.\n",
    "  Thus, given the count of each of the races on the side of good, followed by the count of each of the races \n",
    "on the side of evil, determine which side wins.\n",
    "Input:\n",
    "  The function will be given two parameters. Each parameter will be a string separated by a single space. \n",
    "Each string will contain the count of each race on the side of good and evil.\n",
    "  The first parameter will contain the count of each race on the side of good in the following order:\n",
    "Hobbits, Men, Elves, Dwarves, Eagles, Wizards.\n",
    "  The second parameter will contain the count of each race on the side of evil in the following order:\n",
    "Orcs, Men, Wargs, Goblins, Uruk Hai, Trolls, Wizards.\n",
    "All values are non-negative integers. The resulting sum of the worth for each side will not exceed the limit of a 32-bit integer.\n",
    "Output:\n",
    "Return \"Battle Result: Good triumphs over Evil\" if good wins, \"Battle Result: Evil eradicates all trace of Good\" if evil wins,\n",
    "or \"Battle Result: No victor on this battle field\" if it ends in a tie.\n",
    "'''"
   ]
  },
  {
   "cell_type": "code",
   "execution_count": 4,
   "metadata": {},
   "outputs": [
    {
     "data": {
      "text/plain": [
       "'Battle Result: Evil eradicates all trace of Good'"
      ]
     },
     "execution_count": 4,
     "metadata": {},
     "output_type": "execute_result"
    }
   ],
   "source": [
    "def goodVsEvil(good, evil):\n",
    "    a = [int(x) for x in good.split()]\n",
    "    b = [int(x) for x in evil.split()]\n",
    "    m = a[0] + a[1]*2 + (a[2]+a[3])*3 + a[4]*4 + a[5]*10\n",
    "    n = b[0] + (b[1]+b[2]+b[3])*2 + b[4]*3 + b[5]*5 + b[6]*10\n",
    "    if m > n:\n",
    "        return \"Battle Result: Good triumphs over Evil\"\n",
    "    elif m < n:\n",
    "        return \"Battle Result: Evil eradicates all trace of Good\"\n",
    "    else:\n",
    "        return \"Battle Result: No victor on this battle field\"\n",
    "    \n",
    "goodVsEvil('1 1 1 1 1 1', '1 1 1 1 1 1 1')"
   ]
  },
  {
   "cell_type": "code",
   "execution_count": 5,
   "metadata": {},
   "outputs": [
    {
     "data": {
      "text/plain": [
       "'Battle Result: Evil eradicates all trace of Good'"
      ]
     },
     "execution_count": 5,
     "metadata": {},
     "output_type": "execute_result"
    }
   ],
   "source": [
    "def goodVsEvil(good, evil):\n",
    "    points_good = [1, 2, 3, 3, 4, 10]\n",
    "    points_evil = [1, 2, 2, 2, 3, 5, 10]\n",
    "    \n",
    "    good = sum([int(x)*y for x, y in zip(good.split(), points_good)])\n",
    "    evil = sum([int(x)*y for x, y in zip(evil.split(), points_evil)])\n",
    "    \n",
    "    result = 'Battle Result: '    \n",
    "    if good < evil:\n",
    "        return result +'Evil eradicates all trace of Good'\n",
    "    elif good > evil:\n",
    "        return result + 'Good triumphs over Evil'\n",
    "    else:\n",
    "        return result + 'No victor on this battle field'\n",
    "goodVsEvil('1 1 1 1 1 1', '1 1 1 1 1 1 1')"
   ]
  },
  {
   "cell_type": "markdown",
   "metadata": {},
   "source": [
    "# WeIrD StRiNg CaSe"
   ]
  },
  {
   "cell_type": "code",
   "execution_count": null,
   "metadata": {},
   "outputs": [],
   "source": [
    "'''\n",
    "  Write a function toWeirdCase (weirdcase in Ruby) that accepts a string, and returns the same string with all \n",
    "even indexed characters in each word upper cased, and all odd indexed characters in each word lower cased. \n",
    "The indexing just explained is zero based, so the zero-ith index is even, therefore that character should be upper cased.\n",
    "  The passed in string will only consist of alphabetical characters and spaces(' '). \n",
    "Spaces will only be present if there are multiple words. Words will be separated by a single space(' ').\n",
    "Examples:\n",
    "to_weird_case('String'); # => returns 'StRiNg'\n",
    "to_weird_case('Weird string case') # => returns 'WeIrD StRiNg CaSe'\n",
    "'''"
   ]
  },
  {
   "cell_type": "code",
   "execution_count": 11,
   "metadata": {},
   "outputs": [
    {
     "data": {
      "text/plain": [
       "'WeIrD StRiNg CaSe'"
      ]
     },
     "execution_count": 11,
     "metadata": {},
     "output_type": "execute_result"
    }
   ],
   "source": [
    "def xx(a):\n",
    "    b = ''\n",
    "    for i in range(len(a)):\n",
    "        if i%2 == 0:\n",
    "            b += a[i].upper()\n",
    "        else:\n",
    "            b += a[i]\n",
    "    return b\n",
    "    \n",
    "def to_weird_case(string):\n",
    "    a = string.split()\n",
    "    b = [xx(i) for i in a]\n",
    "    return ' '.join(b)\n",
    "\n",
    "to_weird_case('Weird string case')        "
   ]
  },
  {
   "cell_type": "code",
   "execution_count": 12,
   "metadata": {},
   "outputs": [
    {
     "data": {
      "text/plain": [
       "'WeIrD StRiNg CaSe'"
      ]
     },
     "execution_count": 12,
     "metadata": {},
     "output_type": "execute_result"
    }
   ],
   "source": [
    "def to_weird_case_word(string):\n",
    "    return \"\".join(c.upper() if i%2 == 0 else c for i, c in enumerate(string.lower()))\n",
    "    \n",
    "def to_weird_case(string):\n",
    "    return \" \".join(to_weird_case_word(str) for str in string.split())\n",
    "\n",
    "to_weird_case('Weird string case')        "
   ]
  },
  {
   "cell_type": "code",
   "execution_count": null,
   "metadata": {},
   "outputs": [],
   "source": []
  }
 ],
 "metadata": {
  "kernelspec": {
   "display_name": "Python 3",
   "language": "python",
   "name": "python3"
  },
  "language_info": {
   "codemirror_mode": {
    "name": "ipython",
    "version": 3
   },
   "file_extension": ".py",
   "mimetype": "text/x-python",
   "name": "python",
   "nbconvert_exporter": "python",
   "pygments_lexer": "ipython3",
   "version": "3.7.1"
  }
 },
 "nbformat": 4,
 "nbformat_minor": 2
}
