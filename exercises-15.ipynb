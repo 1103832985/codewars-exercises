{
 "cells": [
  {
   "cell_type": "markdown",
   "metadata": {},
   "source": [
    "# Write Number in Expanded Form - Part 2"
   ]
  },
  {
   "cell_type": "code",
   "execution_count": null,
   "metadata": {},
   "outputs": [],
   "source": [
    "'''\n",
    "You will be given a number and you will need to return it as a string in Expanded Form. For example:\n",
    "expanded_form(1.24) # Should return '1 + 2/10 + 4/100'\n",
    "expanded_form(7.304) # Should return '7 + 3/10 + 4/1000'\n",
    "expanded_form(0.04) # Should return '4/100'\n",
    "'''"
   ]
  },
  {
   "cell_type": "code",
   "execution_count": 22,
   "metadata": {},
   "outputs": [
    {
     "data": {
      "text/plain": [
       "'0.456'"
      ]
     },
     "execution_count": 22,
     "metadata": {},
     "output_type": "execute_result"
    }
   ],
   "source": [
    "num = 123.456\n",
    "a = str(num).index('.')\n",
    "m = str(num)[:a]\n",
    "n = ('0.'+ str(num)[a+1:])\n",
    "n"
   ]
  },
  {
   "cell_type": "code",
   "execution_count": 34,
   "metadata": {},
   "outputs": [
    {
     "data": {
      "text/plain": [
       "'100 + 20 + 3 + 4/10 + 5/100 + 6/1000'"
      ]
     },
     "execution_count": 34,
     "metadata": {},
     "output_type": "execute_result"
    }
   ],
   "source": [
    "def expanded_form1(num):\n",
    "    a = len(str(num))\n",
    "    b = []\n",
    "    for i,j in enumerate(str(num)):\n",
    "        if j != '0':\n",
    "            b.append(j+'0'*(a-i-1))\n",
    "    return ' + '.join(b)\n",
    "\n",
    "def expanded_form(num):\n",
    "    a = str(num).index('.')\n",
    "    m = int(str(num)[:a])\n",
    "    n = '0' + str(num)[a+1:]\n",
    "    b = []\n",
    "    for i,j in enumerate(n[1:]):\n",
    "        if j != '0':\n",
    "            b.append(j+'/1'+'0'*(i+1))\n",
    "    b = ' + '.join(b)\n",
    "    if len(expanded_form1(m)) > 0:\n",
    "        return expanded_form1(m)+' + '+b\n",
    "    else:\n",
    "        return b\n",
    "expanded_form(123.456)"
   ]
  },
  {
   "cell_type": "code",
   "execution_count": 41,
   "metadata": {},
   "outputs": [
    {
     "data": {
      "text/plain": [
       "'100 + 20 + 3 + 4/10 + 5/100 + 6/1000'"
      ]
     },
     "execution_count": 41,
     "metadata": {},
     "output_type": "execute_result"
    }
   ],
   "source": [
    "def expanded_form(num):\n",
    "    integer_part, fractional_part = str(num).split('.')\n",
    "    result = [str(int(num) * (10 ** i)) for i, num in enumerate(integer_part[::-1]) if num != '0'][::-1]\n",
    "    result += [str(num) + '/' + str(10 ** (i + 1)) for i, num in enumerate(fractional_part) if num != '0']\n",
    "    return ' + '.join(result)\n",
    "expanded_form(123.456)"
   ]
  },
  {
   "cell_type": "code",
   "execution_count": 39,
   "metadata": {},
   "outputs": [
    {
     "data": {
      "text/plain": [
       "'100 + 20 + 3 + 4/10 + 5/100 + 6/1000'"
      ]
     },
     "execution_count": 39,
     "metadata": {},
     "output_type": "execute_result"
    }
   ],
   "source": [
    "def expanded_form(num):\n",
    "    xs = str(num).split('.')\n",
    "    return ' + '.join(\n",
    "        [f'{x}{\"0\" * i}' for i, x in enumerate(xs[0][::-1]) if x != '0'][::-1]\n",
    "        + [f'{x}/{10 ** i}' for i, x in enumerate(xs[1], 1) if x != '0']\n",
    "         )        \n",
    "expanded_form(123.456)"
   ]
  },
  {
   "cell_type": "code",
   "execution_count": 40,
   "metadata": {},
   "outputs": [
    {
     "data": {
      "text/plain": [
       "'100 + 20 + 3 + 4/10 + 5/100 + 6/1000'"
      ]
     },
     "execution_count": 40,
     "metadata": {},
     "output_type": "execute_result"
    }
   ],
   "source": [
    "from decimal import Decimal\n",
    "\n",
    "def expand_integer(s):\n",
    "    return ' + '.join([c + '0' * (len(s) - i - 1) for i, c in enumerate(s) if c != '0'])\n",
    "\n",
    "def expand_fractional(s):\n",
    "    return ' + '.join([c + '/1' + '0' * (i + 1)  for i, c in enumerate(s) if c != '0'])\n",
    "\n",
    "def expanded_form(num):\n",
    "    [s_int, s_frac] = str(num).split('.')\n",
    "    return ' + '.join( filter(None, [expand_integer(s_int), expand_fractional(s_frac)]) )\n",
    "expanded_form(123.456)"
   ]
  },
  {
   "cell_type": "markdown",
   "metadata": {},
   "source": [
    "# The Supermarket Queue"
   ]
  },
  {
   "cell_type": "code",
   "execution_count": null,
   "metadata": {},
   "outputs": [],
   "source": [
    "'''\n",
    "There is a queue for the self-checkout tills at the supermarket.\n",
    "Your task is write a function to calculate the total time required for all the customers to check out!\n",
    "The function has two input variables:\n",
    "\n",
    "customers: an array (list in python) of positive integers representing the queue.\n",
    "Each integer represents a customer, and its value is the amount of time they require to check out.\n",
    "n: a positive integer, the number of checkout tills.\n",
    "\n",
    "The function should return an integer, the total time required.\n",
    "EDIT: A lot of people have been confused in the comments. To try to prevent any more confusion:\n",
    "There is only ONE queue, and\n",
    "The order of the queue NEVER changes, and\n",
    "Assume that the front person in the queue (i.e. the first element in the array/list) proceeds to a till as soon as it becomes free.\n",
    "The diagram on the wiki page I linked to at the bottom of the description may be useful.\n",
    "So, for example:\n",
    "\n",
    "queue_time([5,3,4], 1)\n",
    "# should return 12\n",
    "# because when n=1, the total time is just the sum of the times\n",
    "\n",
    "queue_time([10,2,3,3], 2)\n",
    "# should return 10\n",
    "# because here n=2 and the 2nd, 3rd, and 4th people in the \n",
    "# queue finish before the 1st person has finished.\n",
    "\n",
    "queue_time([2,3,10], 2)\n",
    "# should return 12\n",
    "\n",
    "N.B. You should assume that all the test input will be valid, as specified above.\n",
    "P.S. The situation in this kata can be likened to the more-computer-science-related idea of a thread pool,\n",
    "with relation to running multiple processes at the same time: https://en.wikipedia.org/wiki/Thread_pool\n",
    "'''"
   ]
  },
  {
   "cell_type": "code",
   "execution_count": 20,
   "metadata": {},
   "outputs": [
    {
     "name": "stdout",
     "output_type": "stream",
     "text": [
      "[5, 7, 3]\n"
     ]
    }
   ],
   "source": [
    "a = [1,2,3,4,5]\n",
    "b = a[:3]\n",
    "for i,j in enumerate(a[3:]):\n",
    "    d = b.index(min(b))\n",
    "    b[d] += j    \n",
    "print(b)\n"
   ]
  },
  {
   "cell_type": "code",
   "execution_count": 33,
   "metadata": {},
   "outputs": [
    {
     "data": {
      "text/plain": [
       "10"
      ]
     },
     "execution_count": 33,
     "metadata": {},
     "output_type": "execute_result"
    }
   ],
   "source": [
    "def queue_time(customers, n):\n",
    "    if len(customers) > 0:\n",
    "        if n == 1:\n",
    "            return sum(customers)\n",
    "        elif n >= len(customers):\n",
    "            return max(customers)\n",
    "        else:\n",
    "            a = customers[:n]\n",
    "            for i in customers[n:]:\n",
    "                b = a.index(min(a))\n",
    "                a[b] += i\n",
    "            return max(a)\n",
    "    return 0\n",
    "            \n",
    "queue_time([2,2,3,3,4,5], 2)                          "
   ]
  },
  {
   "cell_type": "code",
   "execution_count": 34,
   "metadata": {},
   "outputs": [
    {
     "data": {
      "text/plain": [
       "10"
      ]
     },
     "execution_count": 34,
     "metadata": {},
     "output_type": "execute_result"
    }
   ],
   "source": [
    "def queue_time(customers, n):\n",
    "    #创建一个含有n个零的列表\n",
    "    l=[0]*n\n",
    "    for i in customers:\n",
    "        l[l.index(min(l))]+=i\n",
    "    return max(l)\n",
    "queue_time([2,2,3,3,4,5], 2)"
   ]
  },
  {
   "cell_type": "code",
   "execution_count": 36,
   "metadata": {},
   "outputs": [
    {
     "data": {
      "text/plain": [
       "10"
      ]
     },
     "execution_count": 36,
     "metadata": {},
     "output_type": "execute_result"
    }
   ],
   "source": [
    "def queue_time(customers, n):\n",
    "    queues = [0] * n\n",
    "    for i in customers:\n",
    "        #也可以用queues.sort()或sorted(queues)来排序得到最小值\n",
    "        queues.sort()\n",
    "        queues[0] += i\n",
    "    return max(queues)\n",
    "queue_time([2,2,3,3,4,5], 2)"
   ]
  },
  {
   "cell_type": "code",
   "execution_count": null,
   "metadata": {},
   "outputs": [],
   "source": []
  }
 ],
 "metadata": {
  "kernelspec": {
   "display_name": "Python 3",
   "language": "python",
   "name": "python3"
  },
  "language_info": {
   "codemirror_mode": {
    "name": "ipython",
    "version": 3
   },
   "file_extension": ".py",
   "mimetype": "text/x-python",
   "name": "python",
   "nbconvert_exporter": "python",
   "pygments_lexer": "ipython3",
   "version": "3.7.1"
  }
 },
 "nbformat": 4,
 "nbformat_minor": 2
}
