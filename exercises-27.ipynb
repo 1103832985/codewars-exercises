{
 "cells": [
  {
   "cell_type": "markdown",
   "metadata": {},
   "source": [
    "# Checking Groups"
   ]
  },
  {
   "cell_type": "code",
   "execution_count": null,
   "metadata": {},
   "outputs": [],
   "source": [
    "'''\n",
    " Your job in this kata will be to make a program that checks a string for correct grouping. For instance,\n",
    "the following groups are done correctly:\n",
    "({})\n",
    "[[]()]\n",
    "[{()}]\n",
    "The next are done incorrectly:\n",
    "{(})\n",
    "([]\n",
    "[])\n",
    "A correct string cannot close groups in the wrong order, open a group but fail to close it, or close a group before it is opened.\n",
    "Your function will take an input string that may contain any of the symbols (), {} or [] to create groups.\n",
    "It should return True if the string is empty or otherwise grouped correctly, or False if it is grouped incorrectly.\n",
    "'''"
   ]
  },
  {
   "cell_type": "code",
   "execution_count": 21,
   "metadata": {},
   "outputs": [
    {
     "data": {
      "text/plain": [
       "False"
      ]
     },
     "execution_count": 21,
     "metadata": {},
     "output_type": "execute_result"
    }
   ],
   "source": [
    "def group_check(s):\n",
    "    if len(s) > 0:\n",
    "        s = list(s)\n",
    "        if s.count('(') != s.count(')') or s.count('{') != s.count('}') or s.count('[') != s.count(']'):\n",
    "            return False\n",
    "        m,n = {')':'(', ']':'[', '}':'{'},[s[0]]\n",
    "        if s[0] in m.keys():\n",
    "            return False\n",
    "        for i in s[1:]:():\n",
    "                if n[-1\n",
    "            if i in m.keys] == m[i]:\n",
    "                    n.pop()\n",
    "                else:\n",
    "                    return False\n",
    "            else:\n",
    "                n.append(i)\n",
    "    return True\n",
    "\n",
    "group_check(\"[{]}\")          "
   ]
  },
  {
   "cell_type": "code",
   "execution_count": 25,
   "metadata": {},
   "outputs": [
    {
     "data": {
      "text/plain": [
       "False"
      ]
     },
     "execution_count": 25,
     "metadata": {},
     "output_type": "execute_result"
    }
   ],
   "source": [
    "def group_check(s):\n",
    "    while \"{}\" in s or \"()\" in s or \"[]\" in s:\n",
    "        s = s.replace(\"{}\",\"\").replace(\"()\",\"\").replace(\"[]\",\"\")\n",
    "    return not s\n",
    "group_check(\"[{]}\") "
   ]
  },
  {
   "cell_type": "code",
   "execution_count": 26,
   "metadata": {},
   "outputs": [
    {
     "data": {
      "text/plain": [
       "False"
      ]
     },
     "execution_count": 26,
     "metadata": {},
     "output_type": "execute_result"
    }
   ],
   "source": [
    "def group_check(s):\n",
    "    while \"()\" in s or \"{}\" in s or \"[]\" in s:\n",
    "        s = s.replace(\"()\",\"\")\n",
    "        s = s.replace(\"{}\",\"\")\n",
    "        s = s.replace(\"[]\",\"\")\n",
    "    return len(s) == 0\n",
    "group_check(\"[{]}\") "
   ]
  },
  {
   "cell_type": "code",
   "execution_count": 24,
   "metadata": {},
   "outputs": [
    {
     "data": {
      "text/plain": [
       "False"
      ]
     },
     "execution_count": 24,
     "metadata": {},
     "output_type": "execute_result"
    }
   ],
   "source": [
    "BRACES = { '(': ')', '[': ']', '{': '}' }\n",
    "\n",
    "def group_check(s):\n",
    "    stack = []\n",
    "    for b in s:\n",
    "        c = BRACES.get(b)\n",
    "        if c:\n",
    "            stack.append(c)\n",
    "        elif not stack or stack.pop() != b:\n",
    "            return False\n",
    "    return not stack\n",
    "group_check(\"[{]}\")   "
   ]
  },
  {
   "cell_type": "markdown",
   "metadata": {},
   "source": [
    "# Directions Reduction"
   ]
  },
  {
   "cell_type": "code",
   "execution_count": null,
   "metadata": {},
   "outputs": [],
   "source": [
    "# a = [\"NORTH\", \"SOUTH\", \"SOUTH\", \"EAST\", \"WEST\", \"NORTH\", \"WEST\"]\n",
    "# test.assert_equals(dirReduc(a), ['WEST'])\n",
    "# u=[\"NORTH\", \"WEST\", \"SOUTH\", \"EAST\"]\n",
    "# test.assert_equals(dirReduc(u), [\"NORTH\", \"WEST\", \"SOUTH\", \"EAST\"])"
   ]
  },
  {
   "cell_type": "code",
   "execution_count": 20,
   "metadata": {},
   "outputs": [
    {
     "data": {
      "text/plain": [
       "['WEST']"
      ]
     },
     "execution_count": 20,
     "metadata": {},
     "output_type": "execute_result"
    }
   ],
   "source": [
    "def dirReduc(arr):\n",
    "    m,n = {\"NORTH\":\"SOUTH\", \"SOUTH\":\"NORTH\", \"WEST\":\"EAST\", \"EAST\":\"WEST\"},[]\n",
    "    for i in arr:\n",
    "        if n and n[-1] == m[i]:\n",
    "            n.pop()\n",
    "        else:\n",
    "            n.append(i)\n",
    "    return n\n",
    "\n",
    "dirReduc([\"NORTH\", \"SOUTH\", \"SOUTH\", \"EAST\", \"WEST\", \"NORTH\", \"WEST\"])    "
   ]
  },
  {
   "cell_type": "code",
   "execution_count": 21,
   "metadata": {},
   "outputs": [
    {
     "data": {
      "text/plain": [
       "['WEST']"
      ]
     },
     "execution_count": 21,
     "metadata": {},
     "output_type": "execute_result"
    }
   ],
   "source": [
    "def dirReduc(arr):\n",
    "    dir = \" \".join(arr)\n",
    "    dir2 = dir.replace(\"NORTH SOUTH\",'').replace(\"SOUTH NORTH\",'').replace(\"EAST WEST\",'').replace(\"WEST EAST\",'')\n",
    "    dir3 = dir2.split()\n",
    "    return dirReduc(dir3) if len(dir3) < len(arr) else dir3\n",
    "dirReduc([\"NORTH\", \"SOUTH\", \"SOUTH\", \"EAST\", \"WEST\", \"NORTH\", \"WEST\"])    "
   ]
  },
  {
   "cell_type": "code",
   "execution_count": 22,
   "metadata": {},
   "outputs": [
    {
     "data": {
      "text/plain": [
       "['WEST']"
      ]
     },
     "execution_count": 22,
     "metadata": {},
     "output_type": "execute_result"
    }
   ],
   "source": [
    "def dirReduc(arr):\n",
    "    opposites = [{'NORTH', 'SOUTH'}, {'EAST', 'WEST'}]    \n",
    "    for i in range(len(arr)-1):\n",
    "        if set(arr[i:i+2]) in opposites:\n",
    "            del arr[i:i+2]\n",
    "            return dirReduc(arr) \n",
    "    return arr\n",
    "dirReduc([\"NORTH\", \"SOUTH\", \"SOUTH\", \"EAST\", \"WEST\", \"NORTH\", \"WEST\"])    "
   ]
  },
  {
   "cell_type": "markdown",
   "metadata": {},
   "source": [
    "# Valid Parentheses"
   ]
  },
  {
   "cell_type": "code",
   "execution_count": null,
   "metadata": {},
   "outputs": [],
   "source": [
    "'''\n",
    "Test.assert_equals(valid_parentheses(\"  (\"),False)\n",
    "Test.assert_equals(valid_parentheses(\")test\"),False)\n",
    "Test.assert_equals(valid_parentheses(\"\"),True)\n",
    "Test.assert_equals(valid_parentheses(\"hi())(\"),False)\n",
    "Test.assert_equals(valid_parentheses(\"hi(hi)()\"),True)\n",
    "'''"
   ]
  },
  {
   "cell_type": "code",
   "execution_count": 5,
   "metadata": {},
   "outputs": [
    {
     "data": {
      "text/plain": [
       "True"
      ]
     },
     "execution_count": 5,
     "metadata": {},
     "output_type": "execute_result"
    }
   ],
   "source": [
    "def valid_parentheses(string):\n",
    "    s = [x for x in string if x == '(' or x == ')']\n",
    "    a =  ''.join(s)\n",
    "    while '()' in a:\n",
    "        a = a.replace('()','')\n",
    "    return a == ''\n",
    "valid_parentheses(\"(hi(hi)())\")"
   ]
  },
  {
   "cell_type": "code",
   "execution_count": 6,
   "metadata": {},
   "outputs": [
    {
     "data": {
      "text/plain": [
       "True"
      ]
     },
     "execution_count": 6,
     "metadata": {},
     "output_type": "execute_result"
    }
   ],
   "source": [
    "def valid_parentheses(string):\n",
    "    cnt = 0\n",
    "    for char in string:\n",
    "        if char == '(': cnt += 1\n",
    "        if char == ')': cnt -= 1\n",
    "        # 下一步可以解决括号反向问题\n",
    "        if cnt < 0: return False\n",
    "    return True if cnt == 0 else False\n",
    "valid_parentheses(\"(hi(hi)())\")"
   ]
  }
 ],
 "metadata": {
  "kernelspec": {
   "display_name": "Python 3",
   "language": "python",
   "name": "python3"
  },
  "language_info": {
   "codemirror_mode": {
    "name": "ipython",
    "version": 3
   },
   "file_extension": ".py",
   "mimetype": "text/x-python",
   "name": "python",
   "nbconvert_exporter": "python",
   "pygments_lexer": "ipython3",
   "version": "3.7.1"
  }
 },
 "nbformat": 4,
 "nbformat_minor": 2
}
