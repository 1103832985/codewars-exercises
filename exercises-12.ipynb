{
 "cells": [
  {
   "cell_type": "markdown",
   "metadata": {},
   "source": [
    "# Are they the \"same\"?"
   ]
  },
  {
   "cell_type": "code",
   "execution_count": null,
   "metadata": {},
   "outputs": [],
   "source": [
    "'''\n",
    "Given two arrays a and b write a function comp(a, b) (compSame(a, b) in Clojure) that \n",
    "checks whether the two arrays have the \"same\" elements, with the same multiplicities. \n",
    "\"Same\" means, here, that the elements in b are the elements in a squared, regardless of the order.\n",
    "Examples\n",
    "Valid arrays\n",
    "a = [121, 144, 19, 161, 19, 144, 19, 11]  \n",
    "b = [121, 14641, 20736, 361, 25921, 361, 20736, 361]\n",
    "comp(a, b) returns true because in b 121 is the square of 11, 14641 is the square of 121, \n",
    "20736 the square of 144, 361 the square of 19, 25921 the square of 161, and so on. \n",
    "It gets obvious if we write b's elements in terms of squares:\n",
    "a = [121, 144, 19, 161, 19, 144, 19, 11] \n",
    "b = [11*11, 121*121, 144*144, 19*19, 161*161, 19*19, 144*144, 19*19]\n",
    "\n",
    "Invalid arrays\n",
    "If we change the first number to something else, comp may not return true anymore:\n",
    "a = [121, 144, 19, 161, 19, 144, 19, 11]  \n",
    "b = [132, 14641, 20736, 361, 25921, 361, 20736, 361]\n",
    "comp(a,b) returns false because in b 132 is not the square of any number of a.\n",
    "'''"
   ]
  },
  {
   "cell_type": "code",
   "execution_count": 6,
   "metadata": {},
   "outputs": [
    {
     "data": {
      "text/plain": [
       "True"
      ]
     },
     "execution_count": 6,
     "metadata": {},
     "output_type": "execute_result"
    }
   ],
   "source": [
    "def comp(array1, array2):\n",
    "    if array1 == array2 == []:\n",
    "        return True\n",
    "    elif array1 and array2:\n",
    "        for i in array1:\n",
    "            i = i*i\n",
    "            if i in array2:\n",
    "                array2.remove(i)\n",
    "        if array2 == []:\n",
    "            return True\n",
    "    return False\n",
    "a1 = [121, 144, 19, 161, 19, 144, 19, 11]  \n",
    "a2 = [121, 14641, 20736, 361, 25921, 361, 20736, 361]\n",
    "comp(a1, a2)"
   ]
  },
  {
   "cell_type": "code",
   "execution_count": 9,
   "metadata": {},
   "outputs": [
    {
     "data": {
      "text/plain": [
       "False"
      ]
     },
     "execution_count": 9,
     "metadata": {},
     "output_type": "execute_result"
    }
   ],
   "source": [
    "def comp(array1, array2):\n",
    "    try:\n",
    "        return sorted([i ** 2 for i in array1]) == sorted(array2)\n",
    "    except:\n",
    "        return False\n",
    "a1 = [2,2,3]  \n",
    "a2 = [4,9,9]\n",
    "comp(a1, a2)"
   ]
  },
  {
   "cell_type": "code",
   "execution_count": 10,
   "metadata": {},
   "outputs": [
    {
     "data": {
      "text/plain": [
       "True"
      ]
     },
     "execution_count": 10,
     "metadata": {},
     "output_type": "execute_result"
    }
   ],
   "source": [
    "a = [2,1,3]\n",
    "b = [3,2,1]\n",
    "a.sort()\n",
    "b.sort()\n",
    "a == b"
   ]
  },
  {
   "cell_type": "code",
   "execution_count": 33,
   "metadata": {},
   "outputs": [
    {
     "name": "stdout",
     "output_type": "stream",
     "text": [
      "None\n",
      "[4, 4, 9]\n"
     ]
    },
    {
     "data": {
      "text/plain": [
       "True"
      ]
     },
     "execution_count": 33,
     "metadata": {},
     "output_type": "execute_result"
    }
   ],
   "source": [
    "#.sort（）是一个方法   它改变对象本身\n",
    "a1 = [4,9,4]  \n",
    "a2 = [4,9,9]\n",
    "print(a1.sort())\n",
    "print(a1)\n",
    "a1.sort() == a2.sort()"
   ]
  },
  {
   "cell_type": "code",
   "execution_count": 28,
   "metadata": {},
   "outputs": [
    {
     "name": "stdout",
     "output_type": "stream",
     "text": [
      "[4, 9, 4]\n",
      "[4, 4, 9]\n"
     ]
    },
    {
     "data": {
      "text/plain": [
       "False"
      ]
     },
     "execution_count": 28,
     "metadata": {},
     "output_type": "execute_result"
    }
   ],
   "source": [
    "#sorted（） 会返回排好序的对象  不改变对象本身\n",
    "a1 = [4,9,4]  \n",
    "a2 = [4,9,9]\n",
    "print(a1)\n",
    "print(sorted(a1))\n",
    "sorted(a1) == sorted(a2)"
   ]
  },
  {
   "cell_type": "markdown",
   "metadata": {},
   "source": [
    "# Valid Braces"
   ]
  },
  {
   "cell_type": "code",
   "execution_count": null,
   "metadata": {},
   "outputs": [],
   "source": [
    "'''\n",
    "Write a function that takes a string of braces, and determines if the order of the braces is valid.\n",
    "It should return true if the string is valid, and false if it's invalid.\n",
    "This Kata is similar to the Valid Parentheses Kata, but introduces new characters: brackets [], and curly braces {}.\n",
    "Thanks to @arnedag for the idea!\n",
    "All input strings will be nonempty, and will only consist of parentheses, brackets and curly braces: ()[]{}.\n",
    "What is considered Valid?\n",
    "A string of braces is considered valid if all braces are matched with the correct brace.\n",
    "Examples\n",
    "\"(){}[]\"   =>  True\n",
    "\"([{}])\"   =>  True\n",
    "\"(}\"       =>  False\n",
    "\"[(])\"     =>  False\n",
    "\"[({})](]\" =>  False\n",
    "Expected ())({}}{()][][ to be invalid, got True.: True should equal False\n",
    "'''"
   ]
  },
  {
   "cell_type": "code",
   "execution_count": 14,
   "metadata": {},
   "outputs": [
    {
     "data": {
      "text/plain": [
       "True"
      ]
     },
     "execution_count": 14,
     "metadata": {},
     "output_type": "execute_result"
    }
   ],
   "source": [
    "#该方法无法应对一些有序的情况，例如：\"][\"\n",
    "def validBraces(string):\n",
    "    if string.count('(') == string.count(')') and string.count('[') == string.count(']') and string.count('{') == string.count('}'):\n",
    "        return True\n",
    "    return False\n",
    "\n",
    "validBraces(\"([)){}[]](\")"
   ]
  },
  {
   "cell_type": "code",
   "execution_count": 23,
   "metadata": {},
   "outputs": [
    {
     "data": {
      "text/plain": [
       "True"
      ]
     },
     "execution_count": 23,
     "metadata": {},
     "output_type": "execute_result"
    }
   ],
   "source": [
    "def validBraces(string):\n",
    "    a = ['(','{','[']\n",
    "    b = {')':'(','}':'{',']':'['}\n",
    "    c = []\n",
    "    for i in string:\n",
    "        if i in a:\n",
    "            c.append(i)\n",
    "        elif i in b:\n",
    "            try:\n",
    "                c.remove(b[i])\n",
    "            except:\n",
    "                return False\n",
    "    if c == []:\n",
    "        return True\n",
    "    return False\n",
    "                \n",
    "validBraces(\"(([)){}[]]()\")"
   ]
  },
  {
   "cell_type": "markdown",
   "metadata": {},
   "source": [
    "# Sort the odd"
   ]
  },
  {
   "cell_type": "code",
   "execution_count": null,
   "metadata": {},
   "outputs": [],
   "source": [
    "'''\n",
    "You have an array of numbers.\n",
    "Your task is to sort ascending odd numbers but even numbers must be on their places.\n",
    "Zero isn't an odd number and you don't need to move it. If you have an empty array, you need to return it.\n",
    "Example\n",
    "sort_array([5, 3, 2, 8, 1, 4]) == [1, 3, 2, 8, 5, 4]\n",
    "sort_array([5, 3, 1, 8, 0]), [1, 3, 5, 8, 0]\n",
    "'''"
   ]
  },
  {
   "cell_type": "code",
   "execution_count": 9,
   "metadata": {},
   "outputs": [
    {
     "data": {
      "text/plain": [
       "[1, 3, 2, 8, 5, 4]"
      ]
     },
     "execution_count": 9,
     "metadata": {},
     "output_type": "execute_result"
    }
   ],
   "source": [
    "def sort_array(source_array):\n",
    "    a,b,c,d = [],[],[],0\n",
    "    for i,m in enumerate(source_array):\n",
    "        if m % 2 == 0:\n",
    "            b.append(i)\n",
    "            c.append(m)\n",
    "        else:\n",
    "            a.append(m)\n",
    "    a.sort()\n",
    "    for i in b:\n",
    "        a.insert(i,c[d])\n",
    "        d += 1\n",
    "    return a\n",
    "\n",
    "sort_array([5, 3, 2, 8, 1, 4])  "
   ]
  },
  {
   "cell_type": "code",
   "execution_count": 10,
   "metadata": {},
   "outputs": [
    {
     "data": {
      "text/plain": [
       "[1, 3, 2, 8, 5, 4]"
      ]
     },
     "execution_count": 10,
     "metadata": {},
     "output_type": "execute_result"
    }
   ],
   "source": [
    "def sort_array(arr):\n",
    "    odds = sorted((x for x in arr if x%2 != 0), reverse=True)\n",
    "    return [x if x%2==0 else odds.pop() for x in arr]\n",
    "\n",
    "sort_array([5, 3, 2, 8, 1, 4])  "
   ]
  },
  {
   "cell_type": "code",
   "execution_count": null,
   "metadata": {},
   "outputs": [],
   "source": []
  }
 ],
 "metadata": {
  "kernelspec": {
   "display_name": "Python 3",
   "language": "python",
   "name": "python3"
  },
  "language_info": {
   "codemirror_mode": {
    "name": "ipython",
    "version": 3
   },
   "file_extension": ".py",
   "mimetype": "text/x-python",
   "name": "python",
   "nbconvert_exporter": "python",
   "pygments_lexer": "ipython3",
   "version": "3.7.1"
  }
 },
 "nbformat": 4,
 "nbformat_minor": 2
}
