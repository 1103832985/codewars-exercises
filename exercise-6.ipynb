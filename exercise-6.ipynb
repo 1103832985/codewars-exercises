{
 "cells": [
  {
   "cell_type": "markdown",
   "metadata": {},
   "source": [
    "# The simplest path"
   ]
  },
  {
   "cell_type": "code",
   "execution_count": null,
   "metadata": {},
   "outputs": [],
   "source": [
    "'''\n",
    "Task\n",
    "Simplify the list of directions written by John by eliminating any loops.\n",
    "Note: a loop is any sublist of directions which leads John to the coordinate he had already visited.\n",
    "Examples\n",
    "simplify(\"<>>\")        ==  \">\"\n",
    "simplify(\"<^^>v<^^^\")  ==  \"<^^^^\"\n",
    "simplify(\"\")           ==  \"\"\n",
    "simplify(\"^<<v\")       ==  \"^<<v\"\n",
    "'''"
   ]
  },
  {
   "cell_type": "code",
   "execution_count": null,
   "metadata": {},
   "outputs": [],
   "source": [
    "'''\n",
    "\n",
    "'''"
   ]
  },
  {
   "cell_type": "code",
   "execution_count": 7,
   "metadata": {},
   "outputs": [
    {
     "data": {
      "text/plain": [
       "'<^^^^'"
      ]
     },
     "execution_count": 7,
     "metadata": {},
     "output_type": "execute_result"
    }
   ],
   "source": [
    "def simplify(s):\n",
    "    d, r, c = {\"^\": (-1, 0), \"v\": (1, 0), \"<\": (0, -1), \">\": (0, 1)}, {(0, 0): \"\"}, (0, 0)\n",
    "    for z in s:\n",
    "        x, y = d[z]\n",
    "        nc = (c[0] + x, c[1] + y)\n",
    "        r[nc] = r[nc] if nc in r and r[c].startswith(r[nc]) else r[c] + z\n",
    "        c = nc\n",
    "    return r[c]\n",
    "            \n",
    "simplify(\"<^^>v<^^^\")       "
   ]
  },
  {
   "cell_type": "code",
   "execution_count": 9,
   "metadata": {},
   "outputs": [
    {
     "data": {
      "text/plain": [
       "'<^^^^'"
      ]
     },
     "execution_count": 9,
     "metadata": {},
     "output_type": "execute_result"
    }
   ],
   "source": [
    "def simplify(path):    \n",
    "    d={'<':-1,'>':1,'^':-1j,'v':1j}\n",
    "    p=0   \n",
    "    t=[0]\n",
    "    r=['.']\n",
    "    for i in path:\n",
    "        p+=d[i]\n",
    "        if p in t:\n",
    "            idx=t.index(p)\n",
    "            t=t[:idx+1]\n",
    "            r=r[:idx+1]\n",
    "        else:\n",
    "            t+=[p]\n",
    "            r+=[i]\n",
    "    return ''.join(r)[1:] \n",
    "\n",
    "simplify(\"<^^>v<^^^\")"
   ]
  },
  {
   "cell_type": "code",
   "execution_count": 8,
   "metadata": {},
   "outputs": [
    {
     "data": {
      "text/plain": [
       "'<^^^^'"
      ]
     },
     "execution_count": 8,
     "metadata": {},
     "output_type": "execute_result"
    }
   ],
   "source": [
    "def simplify(path):\n",
    "    #coordinate and path to the coordinate\n",
    "    trace = [ [[0,0], '']]\n",
    "    for p in list(path):\n",
    "        if(p=='<'):#Left, take 1 from coord 0\n",
    "            trace.append([[trace[-1][0][0]-1,trace[-1][0][1]], trace[-1][1]+'<'])\n",
    "        elif(p=='>'):#Right, add 1 to coord 0\n",
    "            trace.append([[trace[-1][0][0]+1,trace[-1][0][1]], trace[-1][1]+'>'])\n",
    "        elif(p=='^'):#Down, take 1 from coord 1\n",
    "            trace.append([[trace[-1][0][0],trace[-1][0][1]-1], trace[-1][1]+'^'])\n",
    "        elif(p=='v'):#Up, add 1 to coord 1\n",
    "            trace.append([[trace[-1][0][0],trace[-1][0][1]+1], trace[-1][1]+'v'])\n",
    "        for t in range(len(trace)-1):\n",
    "            if(trace[-1][0]==trace[t][0]):\n",
    "                #If same path found, delete double routes\n",
    "                trace=trace[0:t+1]\n",
    "                break\n",
    "    return trace[-1][1]\n",
    "\n",
    "simplify(\"<^^>v<^^^\")"
   ]
  },
  {
   "cell_type": "markdown",
   "metadata": {},
   "source": [
    "# Regex Tic Tac Toe Win Checker"
   ]
  },
  {
   "cell_type": "code",
   "execution_count": null,
   "metadata": {},
   "outputs": [],
   "source": [
    "'''\n",
    "Your function will receive a string of nine \"X\", \"O\", and/or \"-\" characters representing\n",
    "the state of a tic tac toe board, for example the string\n",
    "\"X-OXXXO-O\"\n",
    "would represent the board\n",
    "X-O\n",
    "XXX\n",
    "O-O\n",
    "where player X has won by getting three in a row horizontally on the middle row.\n",
    "Your function needs to return True/true/TRUE (depending on the language you're using) \n",
    "if either the X or the O player has won the game by getting three in a row vertically, \n",
    "horizontally, or diagonally; or False/false/FALSE if there is no winner.\n",
    "A few more examples:\n",
    "\"---------\" - False - no one has even made a move yet!\n",
    "\"XOOOXXXXO\" - False - no one got three in a row here.\n",
    "\"OXO-XOX-O\" - True - player O won by getting three in a row vertically in the third column.\n",
    "'''"
   ]
  },
  {
   "cell_type": "code",
   "execution_count": 17,
   "metadata": {},
   "outputs": [
    {
     "data": {
      "text/plain": [
       "True"
      ]
     },
     "execution_count": 17,
     "metadata": {},
     "output_type": "execute_result"
    }
   ],
   "source": [
    "def regex_tic_tac_toe_win_checker(board):\n",
    "    m = '-'\n",
    "    if (board[0] == board[1] == board[2] != m)\\\n",
    "    or (board[0] == board[3] == board[6] != m)\\\n",
    "    or (board[2] == board[5] == board[8] != m)\\\n",
    "    or (board[6] == board[7] == board[8] != m)\\\n",
    "    or (board[1] == board[4] == board[7] != m)\\\n",
    "    or (board[3] == board[4] == board[5] != m)\\\n",
    "    or (board[0] == board[4] == board[8] != m)\\\n",
    "    or (board[2] == board[4] == board[6] != m):\n",
    "        return True\n",
    "    else:\n",
    "        return False\n",
    "\n",
    "regex_tic_tac_toe_win_checker(\"OXO-XOX-O\")    "
   ]
  },
  {
   "cell_type": "code",
   "execution_count": 18,
   "metadata": {},
   "outputs": [
    {
     "data": {
      "text/plain": [
       "True"
      ]
     },
     "execution_count": 18,
     "metadata": {},
     "output_type": "execute_result"
    }
   ],
   "source": [
    "import re\n",
    "def regex_tic_tac_toe_win_checker(board):\n",
    "    regex = r'(\\w)(\\1\\1(...)*$|..\\1..\\1|.\\1.\\1..$|...\\1...\\1)'\n",
    "    return bool(re.search(regex, board))\n",
    "\n",
    "regex_tic_tac_toe_win_checker(\"OXO-XOX-O\") "
   ]
  },
  {
   "cell_type": "code",
   "execution_count": 19,
   "metadata": {},
   "outputs": [
    {
     "data": {
      "text/plain": [
       "True"
      ]
     },
     "execution_count": 19,
     "metadata": {},
     "output_type": "execute_result"
    }
   ],
   "source": [
    "def regex_tic_tac_toe_win_checker(board):\n",
    "    return (\n",
    "            board[0] == board[1] == board[2] in \"XO\" or\n",
    "            board[0] == board[3] == board[6] in \"XO\" or\n",
    "            board[0] == board[4] == board[8] in \"XO\" or\n",
    "            board[1] == board[4] == board[7] in \"XO\" or\n",
    "            board[2] == board[5] == board[8] in \"XO\" or\n",
    "            board[3] == board[4] == board[5] in \"XO\" or\n",
    "            board[6] == board[7] == board[8] in \"XO\" or\n",
    "            board[6] == board[4] == board[2] in \"XO\"\n",
    "            )\n",
    "regex_tic_tac_toe_win_checker(\"OXO-XOX-O\") "
   ]
  },
  {
   "cell_type": "markdown",
   "metadata": {},
   "source": [
    "# Shortest Distance to a Character"
   ]
  },
  {
   "cell_type": "code",
   "execution_count": null,
   "metadata": {},
   "outputs": [],
   "source": [
    "'''\n",
    "Given a string S and a character C, return an array of integers representing the shortest distance from the current character in S to C.\n",
    "Notes\n",
    "All letters will be lowercase.\n",
    "If the string is empty, return an empty array.\n",
    "If the character is not present, return an empty array.\n",
    "Examples\n",
    "shortest_to_char(\"lovecodewars\", \"e\") == [3, 2, 1, 0, 1, 2, 1, 0, 1, 2, 3, 4]\n",
    "shortest_to_char(\"aaaabbbb\", \"b\") == [4, 3, 2, 1, 0, 0, 0, 0]\n",
    "shortest_to_char(\"\", \"b\") == []\n",
    "shortest_to_char(\"abcde\", \"\") == []\n",
    "'''"
   ]
  },
  {
   "cell_type": "code",
   "execution_count": 23,
   "metadata": {},
   "outputs": [
    {
     "data": {
      "text/plain": [
       "[4, 8]"
      ]
     },
     "execution_count": 23,
     "metadata": {},
     "output_type": "execute_result"
    }
   ],
   "source": [
    "def shortest_to_char(s, c = ''):\n",
    "    if c in s:\n",
    "        ls = []\n",
    "        for i,m in enumerate(s):\n",
    "            if m == c:\n",
    "                ls.append(i)\n",
    "        n = []\n",
    "        a,b= 0,len(ls)\n",
    "        while b>0:            \n",
    "            n.append(ls[a])\n",
    "            \n",
    "        \n",
    "    return []        \n",
    "    \n",
    "shortest_to_char(\"lovecodewars\", \"e\")"
   ]
  },
  {
   "cell_type": "code",
   "execution_count": 24,
   "metadata": {},
   "outputs": [
    {
     "data": {
      "text/plain": [
       "[3, 2, 1, 0, 1, 2, 1, 0, 1, 2, 3, 4]"
      ]
     },
     "execution_count": 24,
     "metadata": {},
     "output_type": "execute_result"
    }
   ],
   "source": [
    "def shortest_to_char(s, c):\n",
    "    if not s or not c:\n",
    "        return []\n",
    "    indexes = [i for i, ch in enumerate(s) if ch == c]\n",
    "    if not indexes:\n",
    "        return []        \n",
    "    return [ min(abs(i - ic) for ic in indexes) for i in range(len(s)) ]\n",
    "\n",
    "shortest_to_char(\"lovecodewars\", \"e\")"
   ]
  },
  {
   "cell_type": "code",
   "execution_count": 25,
   "metadata": {},
   "outputs": [
    {
     "data": {
      "text/plain": [
       "[3, 2, 1, 0, 1, 2, 1, 0, 1, 2, 3, 4]"
      ]
     },
     "execution_count": 25,
     "metadata": {},
     "output_type": "execute_result"
    }
   ],
   "source": [
    "def shortest_to_char(s, c):\n",
    "    if not s or not c: return []\n",
    "    all_idx = [i for i, e in enumerate(s) if e == c]\n",
    "    array = []    \n",
    "    for i, e in enumerate(s):\n",
    "        if e != c:\n",
    "            array.append(min((abs(ia - i) for ia in all_idx), default=None))\n",
    "        else: array.append(0)        \n",
    "    return array if array[0] is not None else []\n",
    "\n",
    "shortest_to_char(\"lovecodewars\", \"e\")"
   ]
  },
  {
   "cell_type": "code",
   "execution_count": 26,
   "metadata": {},
   "outputs": [
    {
     "data": {
      "text/plain": [
       "[3, 2, 1, 0, 1, 2, 1, 0, 1, 2, 3, 4]"
      ]
     },
     "execution_count": 26,
     "metadata": {},
     "output_type": "execute_result"
    }
   ],
   "source": [
    "def closest(i,cM):\n",
    "    cM = [abs(cc - i) for cc in cM]\n",
    "    return min(cM)\n",
    "def shortest_to_char(s, c):\n",
    "    if len(s) == 0 or len(c) == 0: return []\n",
    "    cM = [i for i in range(len(s)) if s[i] == c]\n",
    "    if cM == []: return []\n",
    "    return [closest(i, cM) for i in range(len(s))]\n",
    "\n",
    "shortest_to_char(\"lovecodewars\", \"e\")"
   ]
  },
  {
   "cell_type": "code",
   "execution_count": null,
   "metadata": {},
   "outputs": [],
   "source": []
  }
 ],
 "metadata": {
  "kernelspec": {
   "display_name": "Python 3",
   "language": "python",
   "name": "python3"
  },
  "language_info": {
   "codemirror_mode": {
    "name": "ipython",
    "version": 3
   },
   "file_extension": ".py",
   "mimetype": "text/x-python",
   "name": "python",
   "nbconvert_exporter": "python",
   "pygments_lexer": "ipython3",
   "version": "3.7.1"
  }
 },
 "nbformat": 4,
 "nbformat_minor": 2
}
