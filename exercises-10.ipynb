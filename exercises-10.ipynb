{
 "cells": [
  {
   "cell_type": "markdown",
   "metadata": {},
   "source": [
    "# Counting Duplicates"
   ]
  },
  {
   "cell_type": "code",
   "execution_count": null,
   "metadata": {},
   "outputs": [],
   "source": [
    "'''\n",
    "Write a function that will return the count of distinct case-insensitive alphabetic characters and numeric digits \n",
    "that occur more than once in the input string. \n",
    "The input string can be assumed to contain only alphabets (both uppercase and lowercase) and numeric digits.\n",
    "Example\n",
    "\"abcde\" -> 0 # no characters repeats more than once\n",
    "\"aabbcde\" -> 2 # 'a' and 'b'\n",
    "\"aabBcde\" -> 2 # 'a' occurs twice and 'b' twice (`b` and `B`)\n",
    "\"indivisibility\" -> 1 # 'i' occurs six times\n",
    "\"Indivisibilities\" -> 2 # 'i' occurs seven times and 's' occurs twice\n",
    "\"aA11\" -> 2 # 'a' and '1'\n",
    "\"ABBA\" -> 2 # 'A' and 'B' each occur twice\n",
    "'''"
   ]
  },
  {
   "cell_type": "code",
   "execution_count": 6,
   "metadata": {},
   "outputs": [
    {
     "data": {
      "text/plain": [
       "4"
      ]
     },
     "execution_count": 6,
     "metadata": {},
     "output_type": "execute_result"
    }
   ],
   "source": [
    "def duplicate_count(text):\n",
    "    n,m = 0,[]\n",
    "    text = text.lower()\n",
    "    for i in text:\n",
    "        if text.count(i)>1 and i not in m:\n",
    "            m.append(i)\n",
    "            n += 1\n",
    "    return n\n",
    "duplicate_count(\"indiIvis SibBilityN\")"
   ]
  },
  {
   "cell_type": "markdown",
   "metadata": {},
   "source": [
    "# Who likes it?"
   ]
  },
  {
   "cell_type": "code",
   "execution_count": null,
   "metadata": {},
   "outputs": [],
   "source": [
    "'''\n",
    "You probably know the \"like\" system from Facebook and other pages. People can \"like\" blog posts, \n",
    "pictures or other items. We want to create the text that should be displayed next to such an item.\n",
    "Implement a function likes :: [String] -> String, which must take in input array,\n",
    "containing the names of people who like an item. It must return the display text as shown in the examples:\n",
    "likes [] // must be \"no one likes this\"\n",
    "likes [\"Peter\"] // must be \"Peter likes this\"\n",
    "likes [\"Jacob\", \"Alex\"] // must be \"Jacob and Alex like this\"\n",
    "likes [\"Max\", \"John\", \"Mark\"] // must be \"Max, John and Mark like this\"\n",
    "likes [\"Alex\", \"Jacob\", \"Mark\", \"Max\"] // must be \"Alex, Jacob and 2 others like this\"\n",
    "For 4 or more names, the number in and 2 others simply increases.\n",
    "'''"
   ]
  },
  {
   "cell_type": "code",
   "execution_count": 15,
   "metadata": {},
   "outputs": [
    {
     "data": {
      "text/plain": [
       "'Peter, Alex and 3 others like this'"
      ]
     },
     "execution_count": 15,
     "metadata": {},
     "output_type": "execute_result"
    }
   ],
   "source": [
    "def likes(names):\n",
    "    if len(names) == 1:\n",
    "        s = names[0] + \" likes this\"\n",
    "    elif len(names) == 2:\n",
    "        s = names[0] + \" and \" + names[1] + \" like this\"\n",
    "    elif len(names) == 3:\n",
    "        s = names[0] + \", \" + names[1] + \" and \" + names[2] + \" like this\"\n",
    "    elif len(names) > 3:\n",
    "        n = len(names) - 2\n",
    "        s = names[0] + \", \" + names[1] + \" and \" + str(n) +\" others like this\"\n",
    "    else:\n",
    "        s = \"no one likes this\" \n",
    "    return s\n",
    "likes ([\"Peter\",\"Alex\",\"Bob\",\"Mar\",\"Dan\"])"
   ]
  },
  {
   "cell_type": "code",
   "execution_count": 16,
   "metadata": {},
   "outputs": [
    {
     "data": {
      "text/plain": [
       "'Peter, Alex and 3 others like this'"
      ]
     },
     "execution_count": 16,
     "metadata": {},
     "output_type": "execute_result"
    }
   ],
   "source": [
    "def likes(names):\n",
    "    n = len(names)\n",
    "    return {\n",
    "        0: 'no one likes this',\n",
    "        1: '{} likes this', \n",
    "        2: '{} and {} like this', \n",
    "        3: '{}, {} and {} like this', \n",
    "        4: '{}, {} and {others} others like this'\n",
    "    }[min(4, n)].format(*names[:3], others=n-2)\n",
    "\n",
    "likes ([\"Peter\",\"Alex\",\"Bob\",\"Mar\",\"Dan\"])"
   ]
  },
  {
   "cell_type": "markdown",
   "metadata": {},
   "source": [
    "# Consecutive strings"
   ]
  },
  {
   "cell_type": "code",
   "execution_count": null,
   "metadata": {},
   "outputs": [],
   "source": [
    "'''\n",
    "You are given an array strarr of strings and an integer k.\n",
    "Your task is to return the first longest string consisting of k consecutive strings taken in the array.\n",
    "Example:\n",
    "longest_consec([\"zone\", \"abigail\", \"theta\", \"form\", \"libe\", \"zas\"], 2) --> \"abigailtheta\"\n",
    "n being the length of the string array, if n = 0 or k > n or k <= 0 return \"\".\n",
    "Note\n",
    "consecutive strings : follow one after another without an interruption\n",
    "'''"
   ]
  },
  {
   "cell_type": "code",
   "execution_count": 32,
   "metadata": {},
   "outputs": [
    {
     "data": {
      "text/plain": [
       "'wkpphkhkhhhiihkllvixhhofyx343452'"
      ]
     },
     "execution_count": 32,
     "metadata": {},
     "output_type": "execute_result"
    }
   ],
   "source": [
    "def yy(strarr,i,k):\n",
    "    s = ''\n",
    "    while k > 0:\n",
    "        s += strarr[i]\n",
    "        i += 1\n",
    "        k -= 1\n",
    "    return s\n",
    "\n",
    "def xx(strarr,k):\n",
    "    m = ''\n",
    "    j = 0\n",
    "    while j <= len(strarr)-k:\n",
    "        s = yy(strarr,j,k)\n",
    "        if len(s) > len(m):\n",
    "            m = s\n",
    "        j += 1\n",
    "    return m\n",
    "    \n",
    "def longest_consec(strarr,k):\n",
    "    n = len(strarr)\n",
    "    m = ''\n",
    "    x = k\n",
    "    if n == 0 or k > n or k <= 0:\n",
    "        return ''\n",
    "    else:\n",
    "        return xx(strarr,x)\n",
    "        \n",
    "longest_consec([\"it\",\"wkpphkhkhhhiihkllv\",\"ixhhofyx\", \"343452\", \"zzzzzzzzzzzzzzzzzz\"], 3) "
   ]
  },
  {
   "cell_type": "code",
   "execution_count": 24,
   "metadata": {},
   "outputs": [
    {
     "data": {
      "text/plain": [
       "'wkpphkkkhkhkllvixoyx3452'"
      ]
     },
     "execution_count": 24,
     "metadata": {},
     "output_type": "execute_result"
    }
   ],
   "source": [
    "def longest_consec(s, k):\n",
    "    return max([\"\".join(s[i:i+k]) for i in range(len(s)-k+1)], key=len) if s and 0 < k <= len(s) else \"\"\n",
    "longest_consec([\"it\",\"wkpphkkkhkhkllv\",\"ixoyx\", \"3452\", \"zzzzzzzzzzzzz\"], 3)"
   ]
  },
  {
   "cell_type": "code",
   "execution_count": 23,
   "metadata": {},
   "outputs": [
    {
     "data": {
      "text/plain": [
       "'wkpphkkkhkhkllvixoyx3452'"
      ]
     },
     "execution_count": 23,
     "metadata": {},
     "output_type": "execute_result"
    }
   ],
   "source": [
    "def longest_consec(strarr, k):\n",
    "    result = \"\"  \n",
    "    if k > 0 and len(strarr) >= k:\n",
    "        for index in range(len(strarr) - k + 1):\n",
    "            s = ''.join(strarr[index:index+k])\n",
    "            if len(s) > len(result):\n",
    "                result = s          \n",
    "    return result\n",
    "longest_consec([\"it\",\"wkpphkkkhkhkllv\",\"ixoyx\", \"3452\", \"zzzzzzzzzzzzz\"], 3)"
   ]
  },
  {
   "cell_type": "code",
   "execution_count": null,
   "metadata": {},
   "outputs": [],
   "source": []
  }
 ],
 "metadata": {
  "kernelspec": {
   "display_name": "Python 3",
   "language": "python",
   "name": "python3"
  },
  "language_info": {
   "codemirror_mode": {
    "name": "ipython",
    "version": 3
   },
   "file_extension": ".py",
   "mimetype": "text/x-python",
   "name": "python",
   "nbconvert_exporter": "python",
   "pygments_lexer": "ipython3",
   "version": "3.7.1"
  }
 },
 "nbformat": 4,
 "nbformat_minor": 2
}
