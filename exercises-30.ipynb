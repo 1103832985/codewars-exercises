{
 "cells": [
  {
   "cell_type": "markdown",
   "metadata": {},
   "source": [
    "# Luck check"
   ]
  },
  {
   "cell_type": "code",
   "execution_count": null,
   "metadata": {},
   "outputs": [],
   "source": [
    "'''\n",
    "  In some countries of former Soviet Union there was a belief about lucky tickets. A transport ticket of any sort was believed to \n",
    "posess luck if sum of digits on the left half of its number was equal to the sum of digits on the right half. Here are examples \n",
    "of such numbers:\n",
    "003111    #             3 = 1 + 1 + 1\n",
    "813372    #     8 + 1 + 3 = 3 + 7 + 2\n",
    "17935     #         1 + 7 = 3 + 5  // if the length is odd, you should ignore the middle number when adding the halves.\n",
    "56328116  # 5 + 6 + 3 + 2 = 8 + 1 + 1 + 6\n",
    "  Such tickets were either eaten after being used or collected for bragging rights.\n",
    "  Your task is to write a funtion luck_check(str), which returns true/True if argument is string decimal representation of a\n",
    "lucky ticket number, or false/False for all other numbers. It should throw errors for empty strings or strings \n",
    "which don't represent a decimal number.\n",
    "'''"
   ]
  },
  {
   "cell_type": "code",
   "execution_count": 69,
   "metadata": {},
   "outputs": [
    {
     "data": {
      "text/plain": [
       "True"
      ]
     },
     "execution_count": 69,
     "metadata": {},
     "output_type": "execute_result"
    }
   ],
   "source": [
    "def luck_check(string):\n",
    "    if string.isdigit(): \n",
    "        a = [int(x) for x in string]\n",
    "        b = int(len(a)/2)\n",
    "        if len(a)%2 == 0:\n",
    "            return sum(a[:b]) == sum(a[b:])\n",
    "        else:\n",
    "            return sum(a[:b]) == sum(a[b+1:])\n",
    "    return False\n",
    "            \n",
    "luck_check('81781')     "
   ]
  },
  {
   "cell_type": "code",
   "execution_count": 55,
   "metadata": {},
   "outputs": [
    {
     "data": {
      "text/plain": [
       "False"
      ]
     },
     "execution_count": 55,
     "metadata": {},
     "output_type": "execute_result"
    }
   ],
   "source": [
    "def luck_check(string):\n",
    "    a = []\n",
    "    for i in string:\n",
    "        if i.isdigit():\n",
    "            a.append(int(i))\n",
    "        else:\n",
    "            return False\n",
    "    b = int(len(a)/2)\n",
    "    if len(a)%2 == 0:\n",
    "        return sum(a[:b]) == sum(a[b:])\n",
    "    else:\n",
    "        return sum(a[:b]) == sum(a[b+1:])\n",
    "    \n",
    "luck_check(' 31H81')   "
   ]
  },
  {
   "cell_type": "markdown",
   "metadata": {},
   "source": [
    "# First non-repeating character"
   ]
  },
  {
   "cell_type": "code",
   "execution_count": null,
   "metadata": {},
   "outputs": [],
   "source": [
    "'''\n",
    "  Write a function named first_non_repeating_letter that takes a string input, and returns the first character that is not repeated \n",
    "anywhere in the string.\n",
    "  For example, if given the input 'stress', the function should return 't', since the letter t only occurs once in the string, \n",
    "and occurs first in the string.\n",
    "  As an added challenge, upper- and lowercase letters are considered the same character, but the function \n",
    "should return the correct case for the initial letter. For example, the input 'sTreSS' should return 'T'.\n",
    "  If a string contains all repeating characters, it should return an empty string (\"\") or None -- see sample tests.\n",
    "'''"
   ]
  },
  {
   "cell_type": "code",
   "execution_count": 81,
   "metadata": {},
   "outputs": [
    {
     "data": {
      "text/plain": [
       "'T'"
      ]
     },
     "execution_count": 81,
     "metadata": {},
     "output_type": "execute_result"
    }
   ],
   "source": [
    "def first_non_repeating_letter(string):\n",
    "    if len(string)>0:\n",
    "        s = list(string)\n",
    "        for i in s:\n",
    "            if i.isalpha():\n",
    "                if s.count(i.upper()) + s.count(i.lower()) == 1:\n",
    "                    return i\n",
    "            else:\n",
    "                if s.count(i)==1:\n",
    "                    return i\n",
    "    return ''\n",
    "\n",
    "first_non_repeating_letter('sTr1e@ss')"
   ]
  },
  {
   "cell_type": "code",
   "execution_count": 82,
   "metadata": {},
   "outputs": [
    {
     "data": {
      "text/plain": [
       "'T'"
      ]
     },
     "execution_count": 82,
     "metadata": {},
     "output_type": "execute_result"
    }
   ],
   "source": [
    "def first_non_repeating_letter(string):    \n",
    "    s = string.lower()   \n",
    "    for i in string:\n",
    "        if s.count(i.lower()) == 1:\n",
    "            return i\n",
    "    return ''\n",
    "first_non_repeating_letter('sTr1e@ss')"
   ]
  },
  {
   "cell_type": "markdown",
   "metadata": {},
   "source": [
    "# Human Readable Time"
   ]
  },
  {
   "cell_type": "code",
   "execution_count": null,
   "metadata": {},
   "outputs": [],
   "source": [
    "'''\n",
    "Write a function, which takes a non-negative integer (seconds) as input and returns the time in a human-readable format (HH:MM:SS)\n",
    "HH = hours, padded to 2 digits, range: 00 - 99\n",
    "MM = minutes, padded to 2 digits, range: 00 - 59\n",
    "SS = seconds, padded to 2 digits, range: 00 - 59\n",
    "'''"
   ]
  },
  {
   "cell_type": "code",
   "execution_count": 37,
   "metadata": {},
   "outputs": [
    {
     "data": {
      "text/plain": [
       "'01:01:01'"
      ]
     },
     "execution_count": 37,
     "metadata": {},
     "output_type": "execute_result"
    }
   ],
   "source": [
    "def xx(n):\n",
    "    if len(str(n)) == 1:\n",
    "        return '0'+str(n)\n",
    "    return str(n)\n",
    "\n",
    "def make_readable(n):\n",
    "    a = n//3600\n",
    "    b = (n-3600*a)//60\n",
    "    c = (n-3600*a-60*b)   \n",
    "    return '{}:{}:{}'.format(xx(a),xx(b),xx(c))\n",
    "    \n",
    "make_readable(3661)    "
   ]
  },
  {
   "cell_type": "code",
   "execution_count": 36,
   "metadata": {},
   "outputs": [
    {
     "data": {
      "text/plain": [
       "'01:01:01'"
      ]
     },
     "execution_count": 36,
     "metadata": {},
     "output_type": "execute_result"
    }
   ],
   "source": [
    "def make_readable(seconds):\n",
    "    hours, seconds = divmod(seconds, 60 ** 2)\n",
    "    minutes, seconds = divmod(seconds, 60)\n",
    "    return '{:02}:{:02}:{:02}'.format(hours, minutes, seconds)\n",
    "make_readable(3661)    "
   ]
  },
  {
   "cell_type": "code",
   "execution_count": 51,
   "metadata": {},
   "outputs": [
    {
     "name": "stdout",
     "output_type": "stream",
     "text": [
      "[0, 1, 1, 2, 3, 5, 8, 13, 21, 34, 55, 89, 144, 233, 377, 610, 987, 1597, 2584, 4181]\n"
     ]
    }
   ],
   "source": [
    "def Fib(n):\n",
    "    if n == 0:\n",
    "        return 0\n",
    "    elif n == 1:\n",
    "        return 1\n",
    "    else: \n",
    "        return Fib(n-1)+Fib(n-2)\n",
    "a = [Fib(x) for x in range(20)]\n",
    "print(a)"
   ]
  },
  {
   "cell_type": "markdown",
   "metadata": {},
   "source": [
    "# Product of consecutive Fib numbers"
   ]
  },
  {
   "cell_type": "code",
   "execution_count": null,
   "metadata": {},
   "outputs": [],
   "source": [
    "'''\n",
    "The Fibonacci numbers are the numbers in the following integer sequence (Fn):\n",
    "0, 1, 1, 2, 3, 5, 8, 13, 21, 34, 55, 89, 144, 233, ...\n",
    "such as\n",
    "F(n) = F(n-1) + F(n-2) with F(0) = 0 and F(1) = 1.\n",
    "Given a number, say prod (for product), we search two Fibonacci numbers F(n) and F(n+1) verifying\n",
    "F(n) * F(n+1) = prod.\n",
    "Your function productFib takes an integer (prod) and returns an array:\n",
    "[F(n), F(n+1), true] or {F(n), F(n+1), 1} or (F(n), F(n+1), True)\n",
    "depending on the language if F(n) * F(n+1) = prod.\n",
    "If you don't find two consecutive F(m) verifying F(m) * F(m+1) = prodyou will return\n",
    "[F(m), F(m+1), false] or {F(n), F(n+1), 0} or (F(n), F(n+1), False)\n",
    "F(m) being the smallest one such as F(m) * F(m+1) > prod.\n",
    "test.assert_equals(productFib(4895), [55, 89, True])\n",
    "test.assert_equals(productFib(5895), [89, 144, False])\n",
    "'''"
   ]
  },
  {
   "cell_type": "code",
   "execution_count": 4,
   "metadata": {},
   "outputs": [
    {
     "data": {
      "text/plain": [
       "[55, 89, False]"
      ]
     },
     "execution_count": 4,
     "metadata": {},
     "output_type": "execute_result"
    }
   ],
   "source": [
    "def productFib(prod):\n",
    "    a, b = 0, 1\n",
    "    while prod > a * b:\n",
    "        a, b = b, a + b\n",
    "    return [a, b, prod == a * b]\n",
    "\n",
    "productFib(2030)"
   ]
  },
  {
   "cell_type": "code",
   "execution_count": 6,
   "metadata": {},
   "outputs": [
    {
     "name": "stdout",
     "output_type": "stream",
     "text": [
      "[0, 1, 1, 2, 3, 5, 8, 13, 21, 34, 55, 89, 144, 233, 377, 610, 987, 1597, 2584, 4181]\n"
     ]
    }
   ],
   "source": [
    "def fib(n):\n",
    "    if n==0 or n==1:\n",
    "        return n\n",
    "    else:\n",
    "        return fib(n-1)+fib(n-2)\n",
    "    \n",
    "a = [fib(x) for x in range(20)]\n",
    "print(a)"
   ]
  }
 ],
 "metadata": {
  "kernelspec": {
   "display_name": "Python 3",
   "language": "python",
   "name": "python3"
  },
  "language_info": {
   "codemirror_mode": {
    "name": "ipython",
    "version": 3
   },
   "file_extension": ".py",
   "mimetype": "text/x-python",
   "name": "python",
   "nbconvert_exporter": "python",
   "pygments_lexer": "ipython3",
   "version": "3.7.1"
  }
 },
 "nbformat": 4,
 "nbformat_minor": 2
}
