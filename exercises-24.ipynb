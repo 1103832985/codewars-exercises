{
 "cells": [
  {
   "cell_type": "code",
   "execution_count": 9,
   "metadata": {},
   "outputs": [
    {
     "data": {
      "text/plain": [
       "8"
      ]
     },
     "execution_count": 9,
     "metadata": {},
     "output_type": "execute_result"
    }
   ],
   "source": [
    "def xx(n):\n",
    "    return sum([x for x in range(1,n+1)if x%3==0 or x%5==0])\n",
    "xx(5)"
   ]
  },
  {
   "cell_type": "markdown",
   "metadata": {},
   "source": [
    "# Where my anagrams at?"
   ]
  },
  {
   "cell_type": "code",
   "execution_count": null,
   "metadata": {},
   "outputs": [],
   "source": [
    "'''\n",
    "  What is an anagram? Well, two words are anagrams of each other if they both contain the same letters.\n",
    "  Write a function that will find all the anagrams of a word from a list.\n",
    "You will be given two inputs a word and an array with words.\n",
    "You should return an array of all the anagrams or an empty array if there are none. For example:\n",
    "anagrams('abba', ['aabb', 'abcd', 'bbaa', 'dada']) => ['aabb', 'bbaa']\n",
    "anagrams('racer', ['crazer', 'carer', 'racar', 'caers', 'racer']) => ['carer', 'racer']\n",
    "anagrams('laser', ['lazing', 'lazy',  'lacer']) => []\n",
    "'''"
   ]
  },
  {
   "cell_type": "code",
   "execution_count": 12,
   "metadata": {},
   "outputs": [
    {
     "data": {
      "text/plain": [
       "['aabb', 'bbaa']"
      ]
     },
     "execution_count": 12,
     "metadata": {},
     "output_type": "execute_result"
    }
   ],
   "source": [
    "def anagrams(a,b):\n",
    "    return [i for i in b if sorted(i) == sorted(a)]\n",
    "\n",
    "anagrams('abba', ['aabb', 'abcd', 'bbaa', 'dada'])"
   ]
  },
  {
   "cell_type": "markdown",
   "metadata": {},
   "source": [
    "# Greed is Good"
   ]
  },
  {
   "cell_type": "code",
   "execution_count": null,
   "metadata": {},
   "outputs": [],
   "source": [
    "'''\n",
    "  Greed is a dice game played with five six-sided dice. Your mission, should you choose to accept it, is to score a throw \n",
    "according to these rules. You will always be given an array with five six-sided dice values.\n",
    "Three 1's => 1000 points\n",
    " Three 6's =>  600 points\n",
    " Three 5's =>  500 points\n",
    " Three 4's =>  400 points\n",
    " Three 3's =>  300 points\n",
    " Three 2's =>  200 points\n",
    " One   1   =>  100 points\n",
    " One   5   =>   50 point\n",
    " \n",
    "   A single die can only be counted once in each roll. For example, a \"5\" can only count as part of a triplet \n",
    " (contributing to the 500 points) or as a single 50 points, but not both in the same roll.\n",
    " Throw       Score\n",
    " ---------   ------------------\n",
    " 5 1 3 4 1   50 + 2 * 100 = 250\n",
    " 1 1 1 3 1   1000 + 100 = 1100\n",
    " 2 4 4 5 4   400 + 50 = 450\n",
    "'''"
   ]
  },
  {
   "cell_type": "code",
   "execution_count": 3,
   "metadata": {},
   "outputs": [
    {
     "data": {
      "text/plain": [
       "650"
      ]
     },
     "execution_count": 3,
     "metadata": {},
     "output_type": "execute_result"
    }
   ],
   "source": [
    "def score(n):\n",
    "    n.sort()\n",
    "    a,b = {1:1000,6:600,5:500,4:400,3:300,2:200},0\n",
    "    for m,i in enumerate(n):\n",
    "        if n.count(i)>=3:\n",
    "            b += a[i]\n",
    "            return b + score(n[3+m:])\n",
    "        elif i==1:\n",
    "            b += 100\n",
    "        elif i==5:\n",
    "            b += 50\n",
    "    return b\n",
    "\n",
    "score(  [1, 5, 5, 5, 5]  )"
   ]
  },
  {
   "cell_type": "code",
   "execution_count": 4,
   "metadata": {},
   "outputs": [
    {
     "data": {
      "text/plain": [
       "650"
      ]
     },
     "execution_count": 4,
     "metadata": {},
     "output_type": "execute_result"
    }
   ],
   "source": [
    "def score(dice): \n",
    "    sum = 0\n",
    "    counter = [0,0,0,0,0,0]\n",
    "    points = [1000, 200, 300, 400, 500, 600]\n",
    "    extra = [100,0,0,0,50,0]\n",
    "    for die in dice: \n",
    "        counter[die-1] += 1  \n",
    "    for (i, count) in enumerate(counter):\n",
    "        sum += (points[i] if count >= 3 else 0) + extra[i] * (count%3)\n",
    "    return sum \n",
    "score(  [1, 5, 5, 5, 5]  )"
   ]
  },
  {
   "cell_type": "markdown",
   "metadata": {},
   "source": [
    "# Next bigger number with the same digits"
   ]
  },
  {
   "cell_type": "code",
   "execution_count": null,
   "metadata": {},
   "outputs": [],
   "source": [
    "'''\n",
    "You have to create a function that takes a positive integer number and returns the next bigger number formed by the same digits:\n",
    "12 ==> 21\n",
    "513 ==> 531\n",
    "2017 ==> 2071\n",
    "If no bigger number can be composed using those digits, return -1:\n",
    "9 ==> -1\n",
    "111 ==> -1\n",
    "531 ==> -1\n",
    "'''"
   ]
  },
  {
   "cell_type": "code",
   "execution_count": 34,
   "metadata": {},
   "outputs": [
    {
     "data": {
      "text/plain": [
       "50819"
      ]
     },
     "execution_count": 34,
     "metadata": {},
     "output_type": "execute_result"
    }
   ],
   "source": [
    "def next_bigger(n):\n",
    "    if str(n) == ''.join(sorted(str(n))[::-1]):\n",
    "        return -1\n",
    "    a = n\n",
    "    while True:\n",
    "        a += 1\n",
    "        if sorted(str(a)) == sorted(str(n)):\n",
    "            return a\n",
    "        \n",
    "next_bigger(50198)"
   ]
  },
  {
   "cell_type": "code",
   "execution_count": 29,
   "metadata": {},
   "outputs": [
    {
     "data": {
      "text/plain": [
       "50819"
      ]
     },
     "execution_count": 29,
     "metadata": {},
     "output_type": "execute_result"
    }
   ],
   "source": [
    "def next_bigger(n):\n",
    "    i, ss = n, sorted(str(n))\n",
    "\n",
    "    if str(n) == ''.join(sorted(str(n))[::-1]):\n",
    "        return -1\n",
    "\n",
    "    while True:\n",
    "        i += 1\n",
    "        if sorted(str(i)) == ss and i != n:\n",
    "            return i\n",
    "next_bigger(50198)"
   ]
  },
  {
   "cell_type": "code",
   "execution_count": 21,
   "metadata": {},
   "outputs": [
    {
     "data": {
      "text/plain": [
       "50819"
      ]
     },
     "execution_count": 21,
     "metadata": {},
     "output_type": "execute_result"
    }
   ],
   "source": [
    "import itertools\n",
    "def next_bigger(n):\n",
    "    s = list(str(n))\n",
    "    for i in range(len(s)-2,-1,-1):\n",
    "        if s[i] < s[i+1]:\n",
    "            t = s[i:]\n",
    "            m = min(filter(lambda x: x>t[0], t))\n",
    "            t.remove(m)\n",
    "            t.sort()\n",
    "            s[i:] = [m] + t\n",
    "            return int(\"\".join(s))\n",
    "    return -1\n",
    "\n",
    "next_bigger(50198)"
   ]
  },
  {
   "cell_type": "code",
   "execution_count": 26,
   "metadata": {},
   "outputs": [
    {
     "data": {
      "text/plain": [
       "50819"
      ]
     },
     "execution_count": 26,
     "metadata": {},
     "output_type": "execute_result"
    }
   ],
   "source": [
    "def next_bigger(n):\n",
    "    n = str(n)[::-1]\n",
    "    try:\n",
    "        i = min(i+1 for i in range(len(n[:-1])) if n[i] > n[i+1])\n",
    "        j = n[:i].index(min([a for a in n[:i] if a > n[i]]))\n",
    "        \n",
    "        return int(n[i+1::][::-1]+n[j]+''.join(sorted(n[j+1:i+1]+n[:j]))) \n",
    "    except:\n",
    "        return -1\n",
    "    \n",
    "next_bigger(50198)"
   ]
  },
  {
   "cell_type": "code",
   "execution_count": 28,
   "metadata": {},
   "outputs": [
    {
     "data": {
      "text/plain": [
       "50819"
      ]
     },
     "execution_count": 28,
     "metadata": {},
     "output_type": "execute_result"
    }
   ],
   "source": [
    "def next_bigger(n):\n",
    "    nums = list(str(n))\n",
    "    for i in reversed(range(len(nums[:-1]))):\n",
    "        for j in reversed(range(i, len(nums))):\n",
    "            if nums[i] < nums[j]:\n",
    "                nums[i], nums[j] = nums[j], nums[i]\n",
    "                nums[i + 1:] = sorted(nums[i + 1:])\n",
    "                return int(''.join(nums))\n",
    "    return -1\n",
    "next_bigger(50198)"
   ]
  }
 ],
 "metadata": {
  "kernelspec": {
   "display_name": "Python 3",
   "language": "python",
   "name": "python3"
  },
  "language_info": {
   "codemirror_mode": {
    "name": "ipython",
    "version": 3
   },
   "file_extension": ".py",
   "mimetype": "text/x-python",
   "name": "python",
   "nbconvert_exporter": "python",
   "pygments_lexer": "ipython3",
   "version": "3.7.1"
  }
 },
 "nbformat": 4,
 "nbformat_minor": 2
}
