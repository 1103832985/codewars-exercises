{
 "cells": [
  {
   "cell_type": "markdown",
   "metadata": {},
   "source": [
    "# longest_palindrome"
   ]
  },
  {
   "cell_type": "code",
   "execution_count": null,
   "metadata": {},
   "outputs": [],
   "source": [
    "'''\n",
    "Longest Palindrome\n",
    "Find the length of the longest substring in the given string s that is the same in reverse.\n",
    "As an example, if the input was “I like racecars that go fast”, the substring (racecar) length would be 7.\n",
    "If the length of the input string is 0, the return value must be 0.\n",
    "Example:\n",
    "\"a\" -> 1 \n",
    "\"aab\" -> 2  \n",
    "\"abcde\" -> 1\n",
    "\"zzbaabcd\" -> 4\n",
    "\"\" -> 0\n",
    "'''"
   ]
  },
  {
   "cell_type": "code",
   "execution_count": 11,
   "metadata": {},
   "outputs": [
    {
     "data": {
      "text/plain": [
       "['a', 'b', 'c', 'ab', 'bc', 'abc']"
      ]
     },
     "execution_count": 11,
     "metadata": {},
     "output_type": "execute_result"
    }
   ],
   "source": [
    "#生成s所有的子字符串\n",
    "s = 'abc'\n",
    "[s[i:i + x + 1] for x in range(len(s)) for i in range(len(s) - x)]"
   ]
  },
  {
   "cell_type": "code",
   "execution_count": 13,
   "metadata": {},
   "outputs": [
    {
     "data": {
      "text/plain": [
       "9"
      ]
     },
     "execution_count": 13,
     "metadata": {},
     "output_type": "execute_result"
    }
   ],
   "source": [
    "def longest_palindrome (s):\n",
    "    if len(s) > 0:\n",
    "        a,b = [s[i:i + x + 1] for x in range(len(s)) for i in range(len(s) - x)],[]\n",
    "        for i in a:\n",
    "            if i == i[::-1]:\n",
    "                b.append(len(i))\n",
    "        return max(b)\n",
    "    return 0\n",
    "        \n",
    "longest_palindrome(\"baablkj12345432133d\")      "
   ]
  },
  {
   "cell_type": "markdown",
   "metadata": {},
   "source": [
    "# Triple trouble"
   ]
  },
  {
   "cell_type": "code",
   "execution_count": null,
   "metadata": {},
   "outputs": [],
   "source": [
    "'''\n",
    "which takes numbers num1 and num2 and returns 1 if there is a straight triple of a number at any place in num1 \n",
    "and also a straight double of the same number in num2.\n",
    "If this isn't the case, return 0\n",
    "Examples\n",
    "triple_double(451999277, 41177722899) == 1\n",
    "# num1 has straight triple 999s and num2 has straight double 99s\n",
    "triple_double(1222345, 12345) == 0\n",
    "# num1 has straight triple 2s but num2 has only a single 2\n",
    "triple_double(12345, 12345) == 0\n",
    "triple_double(666789, 12345667) == 1\n",
    "'''"
   ]
  },
  {
   "cell_type": "code",
   "execution_count": 26,
   "metadata": {},
   "outputs": [
    {
     "data": {
      "text/plain": [
       "1"
      ]
     },
     "execution_count": 26,
     "metadata": {},
     "output_type": "execute_result"
    }
   ],
   "source": [
    "def triple_double(num1, num2):\n",
    "    if num1>0 and num2>0:\n",
    "        a,b = str(num1),str(num2)\n",
    "        for i in range(len(a)-2):\n",
    "            for j in range(len(b)-1):\n",
    "                if a[i:i+3] == b[j:j+2]+a[i]:\n",
    "                    return 1\n",
    "    return 0\n",
    "triple_double(666789, 12345667)  "
   ]
  },
  {
   "cell_type": "code",
   "execution_count": 27,
   "metadata": {},
   "outputs": [
    {
     "data": {
      "text/plain": [
       "1"
      ]
     },
     "execution_count": 27,
     "metadata": {},
     "output_type": "execute_result"
    }
   ],
   "source": [
    "def triple_double(num1, num2):\n",
    "    for x in range(10):\n",
    "        if str(x) * 3 in str(num1):\n",
    "            if str(x) * 2 in str(num2):\n",
    "                return 1\n",
    "    return 0\n",
    "triple_double(666789, 12345667)  "
   ]
  },
  {
   "cell_type": "markdown",
   "metadata": {},
   "source": [
    "# CamelCase Method"
   ]
  },
  {
   "cell_type": "code",
   "execution_count": null,
   "metadata": {},
   "outputs": [],
   "source": [
    "'''\n",
    "Write simple .camelCase method (camel_case function in PHP, CamelCase in C# or camelCase in Java) for strings. \n",
    "All words must have their first letter capitalized without spaces.\n",
    "For instance:\n",
    "camel_case(\"hello case\") => HelloCase\n",
    "camel_case(\"camel case word\") => CamelCaseWord\n",
    "'''"
   ]
  },
  {
   "cell_type": "code",
   "execution_count": 5,
   "metadata": {},
   "outputs": [
    {
     "data": {
      "text/plain": [
       "'CamelCaseWord'"
      ]
     },
     "execution_count": 5,
     "metadata": {},
     "output_type": "execute_result"
    }
   ],
   "source": [
    "def camel_case(string):\n",
    "    n = ''\n",
    "    for i in string.split():\n",
    "        n += i.title()\n",
    "    return n\n",
    "camel_case(\"camel case word\")"
   ]
  },
  {
   "cell_type": "code",
   "execution_count": 6,
   "metadata": {},
   "outputs": [
    {
     "data": {
      "text/plain": [
       "'CamelCaseWord'"
      ]
     },
     "execution_count": 6,
     "metadata": {},
     "output_type": "execute_result"
    }
   ],
   "source": [
    "def camel_case(string):\n",
    "    return string.title().replace(\" \", \"\")\n",
    "camel_case(\"camel case word\")"
   ]
  },
  {
   "cell_type": "code",
   "execution_count": 7,
   "metadata": {},
   "outputs": [
    {
     "data": {
      "text/plain": [
       "'Ab Cd Ef Gh'"
      ]
     },
     "execution_count": 7,
     "metadata": {},
     "output_type": "execute_result"
    }
   ],
   "source": [
    "\"ab cd ef gh\".title()"
   ]
  },
  {
   "cell_type": "markdown",
   "metadata": {},
   "source": [
    "# Word a10n (abbreviation)"
   ]
  },
  {
   "cell_type": "code",
   "execution_count": null,
   "metadata": {},
   "outputs": [],
   "source": [
    "'''\n",
    "  The word i18n is a common abbreviation of internationalization in the developer community,\n",
    "used instead of typing the whole word and trying to spell it correctly. Similarly, a11y is an abbreviation of accessibility.\n",
    "  Write a function that takes a string and turns any and all \"words\" (see below) within that string \n",
    "of length 4 or greater into an abbreviation, following these rules:\n",
    "  A \"word\" is a sequence of alphabetical characters. By this definition, any other character \n",
    "like a space or hyphen (eg. \"elephant-ride\") will split up a series of letters into two words (eg. \"elephant\" and \"ride\").\n",
    "The abbreviated version of the word should have the first letter, then the number of removed characters,\n",
    "then the last letter (eg. \"elephant ride\" => \"e6t r2e\").\n",
    "'''"
   ]
  },
  {
   "cell_type": "code",
   "execution_count": 6,
   "metadata": {},
   "outputs": [
    {
     "data": {
      "text/plain": [
       "'I h2e an e6t-r2e!'"
      ]
     },
     "execution_count": 6,
     "metadata": {},
     "output_type": "execute_result"
    }
   ],
   "source": [
    "def xx(s):\n",
    "    if len(s)>=4:\n",
    "        return s[0]+str(len(s)-2)+s[-1]\n",
    "    return s\n",
    "    \n",
    "def abbreviate(s):\n",
    "    m,n = '',''\n",
    "    for i in s:\n",
    "        if i.isalpha():\n",
    "            m += i\n",
    "        else:\n",
    "            n += xx(m) + i\n",
    "            m = ''\n",
    "    n += xx(m)\n",
    "    return n\n",
    "\n",
    "abbreviate(\"I have an elephant-ride!\")    "
   ]
  },
  {
   "cell_type": "code",
   "execution_count": 5,
   "metadata": {},
   "outputs": [
    {
     "data": {
      "text/plain": [
       "'I h2e an e6t-r2e!'"
      ]
     },
     "execution_count": 5,
     "metadata": {},
     "output_type": "execute_result"
    }
   ],
   "source": [
    "def abbreviate(s):\n",
    "    mutate = lambda w: w[0] + str(len(w) - 2) + w[-1] if len(w) > 3 else w\n",
    "    result, word = '', ''\n",
    "    for char in s:\n",
    "        if char.isalpha():\n",
    "            word += char\n",
    "        else:\n",
    "            result += mutate(word) + char\n",
    "            word = ''\n",
    "    result += mutate(word)\n",
    "    return result\n",
    "abbreviate(\"I have an elephant-ride!\")    "
   ]
  },
  {
   "cell_type": "code",
   "execution_count": 4,
   "metadata": {},
   "outputs": [
    {
     "data": {
      "text/plain": [
       "'I h2e an e6t-r2e!'"
      ]
     },
     "execution_count": 4,
     "metadata": {},
     "output_type": "execute_result"
    }
   ],
   "source": [
    "import re\n",
    "\n",
    "regex = re.compile('[a-z]{4,}', re.IGNORECASE)\n",
    "def replace(match):\n",
    "    word = match.group(0)\n",
    "    return word[0] + str(len(word) - 2) + word[-1]\n",
    "\n",
    "def abbreviate(s):\n",
    "    return regex.sub(replace, s)\n",
    "abbreviate(\"I have an elephant-ride!\")    "
   ]
  },
  {
   "cell_type": "code",
   "execution_count": null,
   "metadata": {},
   "outputs": [],
   "source": []
  }
 ],
 "metadata": {
  "kernelspec": {
   "display_name": "Python 3",
   "language": "python",
   "name": "python3"
  },
  "language_info": {
   "codemirror_mode": {
    "name": "ipython",
    "version": 3
   },
   "file_extension": ".py",
   "mimetype": "text/x-python",
   "name": "python",
   "nbconvert_exporter": "python",
   "pygments_lexer": "ipython3",
   "version": "3.7.1"
  }
 },
 "nbformat": 4,
 "nbformat_minor": 2
}
