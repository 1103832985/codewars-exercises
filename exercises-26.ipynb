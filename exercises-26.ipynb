{
 "cells": [
  {
   "cell_type": "markdown",
   "metadata": {},
   "source": [
    "# Fold an array"
   ]
  },
  {
   "cell_type": "code",
   "execution_count": null,
   "metadata": {},
   "outputs": [],
   "source": [
    "'''\n",
    "  in this kata you have to write a method that folds a given array of integers by the middle x-times.\n",
    "  An example says more than thousand words:\n",
    "Fold 1-times:\n",
    "[1,2,3,4,5] -> [6,6,3]\n",
    "A little visualization (NOT for the algorithm but for the idea of folding):\n",
    " Step 1         Step 2        Step 3       Step 4       Step5\n",
    "                     5/           5|         5\\          \n",
    "                    4/            4|          4\\      \n",
    "1 2 3 4 5      1 2 3/         1 2 3|       1 2 3\\       6 6 3\n",
    "----*----      ----*          ----*        ----*        ----*\n",
    "Fold 2-times:\n",
    "[1,2,3,4,5] -> [9,6]\n",
    "'''"
   ]
  },
  {
   "cell_type": "code",
   "execution_count": 17,
   "metadata": {},
   "outputs": [
    {
     "data": {
      "text/plain": [
       "[15]"
      ]
     },
     "execution_count": 17,
     "metadata": {},
     "output_type": "execute_result"
    }
   ],
   "source": [
    "def fold_array(array, runs):\n",
    "    while runs > 0:\n",
    "        n,a,b = [],0,len(array)-1\n",
    "        if len(array)%2 != 0:\n",
    "            while a < b:\n",
    "                n.append(array[a]+array[b])\n",
    "                a += 1\n",
    "                b -= 1\n",
    "            n.append(array[a])\n",
    "        else:           \n",
    "            while a < b:\n",
    "                n.append(array[a]+array[b])\n",
    "                a += 1\n",
    "                b -= 1\n",
    "        array = n\n",
    "        runs -= 1\n",
    "    return n\n",
    "\n",
    "fold_array([1,2,3,4,5], 3)            "
   ]
  },
  {
   "cell_type": "code",
   "execution_count": 31,
   "metadata": {},
   "outputs": [
    {
     "data": {
      "text/plain": [
       "[15]"
      ]
     },
     "execution_count": 31,
     "metadata": {},
     "output_type": "execute_result"
    }
   ],
   "source": [
    "def fold_array(array, runs):\n",
    "    for i in range(runs):\n",
    "        n,a,b = [],0,len(array)-1\n",
    "        while a < b:\n",
    "            n.append(array[a]+array[b])\n",
    "            a += 1\n",
    "            b -= 1\n",
    "        n.append(array[a])\n",
    "        if len(array)%2 == 0:\n",
    "            n.pop()\n",
    "        array = n\n",
    "    return n\n",
    "\n",
    "fold_array([1,2,3,4,5], 3)            "
   ]
  },
  {
   "cell_type": "code",
   "execution_count": 22,
   "metadata": {},
   "outputs": [
    {
     "data": {
      "text/plain": [
       "[15]"
      ]
     },
     "execution_count": 22,
     "metadata": {},
     "output_type": "execute_result"
    }
   ],
   "source": [
    "def fold_array(array, runs):\n",
    "    nums = list(array)\n",
    "    for _ in range(runs):\n",
    "        for a in range(len(nums) // 2):\n",
    "            nums[a] += nums.pop()\n",
    "    return nums\n",
    "fold_array([1,2,3,4,5], 3)  "
   ]
  },
  {
   "cell_type": "code",
   "execution_count": 32,
   "metadata": {},
   "outputs": [
    {
     "data": {
      "text/plain": [
       "[15]"
      ]
     },
     "execution_count": 32,
     "metadata": {},
     "output_type": "execute_result"
    }
   ],
   "source": [
    "def fold_array(a, n):\n",
    "    b = a[:]\n",
    "    for i in range(n):\n",
    "        for i in range(len(b)//2):\n",
    "            # -i-1用的很妙\n",
    "            b[i] += b[-i-1]\n",
    "        # +1用的也很秒\n",
    "        b[:] = b[:(len(b)+1)//2]\n",
    "    return b\n",
    "fold_array([1,2,3,4,5], 3) "
   ]
  },
  {
   "cell_type": "markdown",
   "metadata": {},
   "source": [
    "# A Rule of Divisibility by 13"
   ]
  },
  {
   "cell_type": "code",
   "execution_count": null,
   "metadata": {},
   "outputs": [],
   "source": [
    "'''\n",
    "  When you divide the successive powers of 10 by 13 you get the following remainders of the integer divisions:\n",
    "1, 10, 9, 12, 3, 4.\n",
    "  Then the whole pattern repeats.\n",
    "  Hence the following method: Multiply the right most digit of the number with the left most number in the sequence shown above, \n",
    "the second right most digit to the second left most digit of the number in the sequence. The cycle goes on and you sum all these products.\n",
    "  Repeat this process until the sequence of sums is stationary.\n",
    "...........................................................................\n",
    "  Example: What is the remainder when 1234567 is divided by 13?\n",
    "7×1 + 6×10 + 5×9 + 4×12 + 3×3 + 2×4 + 1×1 = 178\n",
    "  We repeat the process with 178:\n",
    "8x1 + 7x10 + 1x9 = 87\n",
    "and again with 87:\n",
    "7x1 + 8x10 = 87\n",
    "'''"
   ]
  },
  {
   "cell_type": "code",
   "execution_count": 5,
   "metadata": {},
   "outputs": [
    {
     "data": {
      "text/plain": [
       "71"
      ]
     },
     "execution_count": 5,
     "metadata": {},
     "output_type": "execute_result"
    }
   ],
   "source": [
    "def xx(n):\n",
    "    a = [1, 10, 9, 12, 3, 4]\n",
    "    n = [int(x) for x in list(str(n))]\n",
    "    n.reverse()\n",
    "    m = 0\n",
    "    for i,j in enumerate(n):\n",
    "        m += j * a[i%6]\n",
    "    return m\n",
    "\n",
    "def thirt(n):\n",
    "    while True:\n",
    "        m = xx(n)\n",
    "        if m == n:\n",
    "            return m\n",
    "        n = m\n",
    "\n",
    "thirt(1111111111)"
   ]
  },
  {
   "cell_type": "code",
   "execution_count": 6,
   "metadata": {},
   "outputs": [
    {
     "data": {
      "text/plain": [
       "71"
      ]
     },
     "execution_count": 6,
     "metadata": {},
     "output_type": "execute_result"
    }
   ],
   "source": [
    "array = [1, 10, 9, 12, 3, 4]\n",
    "def thirt(n):\n",
    "    total = sum([int(c) * array[i % 6] for i, c in enumerate(reversed(str(n)))])\n",
    "    if n == total:\n",
    "        return total\n",
    "    return thirt(total)\n",
    "\n",
    "thirt(1111111111)"
   ]
  },
  {
   "cell_type": "code",
   "execution_count": 7,
   "metadata": {},
   "outputs": [
    {
     "data": {
      "text/plain": [
       "71"
      ]
     },
     "execution_count": 7,
     "metadata": {},
     "output_type": "execute_result"
    }
   ],
   "source": [
    "import itertools as it\n",
    "def thirt(n):\n",
    "    if n < 100: return n   \n",
    "    pattern = it.cycle([1, 10, 9, 12, 3, 4])  \n",
    "    return thirt(sum(d*n for d,n in zip(map(int, str(n)[::-1]), pattern)))\n",
    "thirt(1111111111)"
   ]
  },
  {
   "cell_type": "code",
   "execution_count": 8,
   "metadata": {},
   "outputs": [
    {
     "data": {
      "text/plain": [
       "71"
      ]
     },
     "execution_count": 8,
     "metadata": {},
     "output_type": "execute_result"
    }
   ],
   "source": [
    "def thirt(n):\n",
    "    seq = [1, 10, 9, 12, 3, 4]\n",
    "    s = str(n)\n",
    "    t = sum(seq[i%6] * int(s[-i-1]) for i in range(len(s)))\n",
    "    return t if t == n else thirt(t)\n",
    "thirt(1111111111)"
   ]
  },
  {
   "cell_type": "code",
   "execution_count": null,
   "metadata": {},
   "outputs": [],
   "source": []
  }
 ],
 "metadata": {
  "kernelspec": {
   "display_name": "Python 3",
   "language": "python",
   "name": "python3"
  },
  "language_info": {
   "codemirror_mode": {
    "name": "ipython",
    "version": 3
   },
   "file_extension": ".py",
   "mimetype": "text/x-python",
   "name": "python",
   "nbconvert_exporter": "python",
   "pygments_lexer": "ipython3",
   "version": "3.7.1"
  }
 },
 "nbformat": 4,
 "nbformat_minor": 2
}
