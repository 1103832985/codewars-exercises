{
 "cells": [
  {
   "cell_type": "markdown",
   "metadata": {},
   "source": [
    "# Give me a Diamond"
   ]
  },
  {
   "cell_type": "code",
   "execution_count": null,
   "metadata": {},
   "outputs": [],
   "source": [
    "'''\n",
    "You need to return a string that displays a diamond shape on the screen using asterisk (\"*\") characters. \n",
    "Please see provided test cases for exact output format.\n",
    "\n",
    "The shape that will be returned from print method resembles a diamond, \n",
    "where the number provided as input represents the number of *’s printed on the middle line. \n",
    "The line above and below will be centered and will have 2 less *’s than the middle line.\n",
    "This reduction by 2 *’s for each line continues until a line with a single * is printed at the top and bottom of the figure.\n",
    "\n",
    "Return null if input is even number or negative (as it is not possible to print diamond with even number or negative number).\n",
    "\n",
    "Please see provided test case(s) for examples.\n",
    "expected =  \" *\\n\"\n",
    "expected += \"***\\n\"\n",
    "expected += \" *\\n\"\n",
    "test.assert_equals(diamond(3), expected)\n",
    "\n",
    "Python Note\n",
    "Since print is a reserved word in Python, Python students must implement the diamond(n) method instead, and return None for invalid input.\n",
    "'''"
   ]
  },
  {
   "cell_type": "code",
   "execution_count": 16,
   "metadata": {},
   "outputs": [
    {
     "name": "stdout",
     "output_type": "stream",
     "text": [
      "  *\n",
      " ***\n",
      "*****\n",
      " ***\n",
      "  *\n"
     ]
    }
   ],
   "source": [
    "def diamond(n):\n",
    "    if n % 2 == 0 or n < 0:\n",
    "        return None\n",
    "    else:\n",
    "        b,c,d = 1,n//2,0\n",
    "        while b < n:\n",
    "            a = ''\n",
    "            a += ' ' * c\n",
    "            a += '*' * b \n",
    "            b += 2\n",
    "            c -= 1\n",
    "            print(a)\n",
    "        while n >= 1:\n",
    "            a = ''\n",
    "            a += ' ' * d\n",
    "            a += '*' * n\n",
    "            n -= 2\n",
    "            d += 1\n",
    "            print(a)\n",
    "        \n",
    "diamond(5)"
   ]
  },
  {
   "cell_type": "code",
   "execution_count": 2,
   "metadata": {},
   "outputs": [
    {
     "data": {
      "text/plain": [
       "'  *\\n ***\\n*****\\n ***\\n  *\\n'"
      ]
     },
     "execution_count": 2,
     "metadata": {},
     "output_type": "execute_result"
    }
   ],
   "source": [
    "def diamond(n):\n",
    "    if n % 2 == 0 or n < 0:\n",
    "        return None\n",
    "    else:\n",
    "        a,b,c,d = '',1,n//2,0\n",
    "        while b < n:\n",
    "            a += ' ' * c\n",
    "            a += '*' * b + '\\n'\n",
    "            b += 2\n",
    "            c -= 1\n",
    "        while n >= 1:\n",
    "            a += ' ' * d\n",
    "            a += '*' * n + '\\n'\n",
    "            n -= 2\n",
    "            d += 1\n",
    "        return a\n",
    "    \n",
    "diamond(5)"
   ]
  },
  {
   "cell_type": "markdown",
   "metadata": {},
   "source": [
    "# Tortoise racing"
   ]
  },
  {
   "cell_type": "code",
   "execution_count": null,
   "metadata": {},
   "outputs": [],
   "source": [
    "'''\n",
    "  Two tortoises named A and B must run a race. A starts with an average speed of 720 feet per hour. \n",
    "Young B knows she runs faster than A, and furthermore has not finished her cabbage.\n",
    "  When she starts, at last, she can see that A has a 70 feet lead but B's speed is 850 feet per hour. \n",
    "How long will it take B to catch A?\n",
    "  More generally: given two speeds v1 (A's speed, integer > 0) and v2 (B's speed, integer > 0)\n",
    "and a lead g (integer > 0) how long will it take B to catch A?\n",
    "  The result will be an array [hour, min, sec] which is the time needed in hours, minutes and seconds\n",
    "(round down to the nearest second) or a string in some languages.\n",
    "\n",
    "If v1 >= v2 then return nil, nothing, null, None or {-1, -1, -1} for C++, C, Go, Nim, [] for Kotlin or \"-1 -1 -1\".\n",
    "\n",
    "Examples:\n",
    "(form of the result depends on the language)\n",
    "race(720, 850, 70) => [0, 32, 18] or \"0 32 18\"\n",
    "race(80, 91, 37)   => [3, 21, 49] or \"3 21 49\"\n",
    "Test.assert_equals(race(80, 100, 40), [2, 0, 0])\n",
    "** Note:\n",
    "\n",
    "  In Fortran - as in any other language - the returned string is not permitted \n",
    "to contain any redundant trailing whitespace: you can use dynamically allocated character strings.\n",
    "** Hints for people who don't know how to convert to hours, minutes, seconds:\n",
    "  Tortoises don't care about fractions of seconds\n",
    "  Think of calculation by hand using only integers (in your code use or simulate integer division)\n",
    "  or Google: \"convert decimal time to hours minutes seconds\"\n",
    "'''"
   ]
  },
  {
   "cell_type": "code",
   "execution_count": 57,
   "metadata": {},
   "outputs": [
    {
     "data": {
      "text/plain": [
       "[3, 21, 49]"
      ]
     },
     "execution_count": 57,
     "metadata": {},
     "output_type": "execute_result"
    }
   ],
   "source": [
    "def race(v1, v2, g):\n",
    "    if v1 >= v2:\n",
    "        return None\n",
    "    x = g/(v2 - v1)\n",
    "    a = int(x//1)\n",
    "    m = (x-a) * 60\n",
    "    b = int(m//1)\n",
    "    n = (m-b) * 60\n",
    "    c = int(n//1)\n",
    "    #下面是考虑到了精确值\n",
    "    if (m - b) > 0.98:\n",
    "        b += 1\n",
    "        c = 0\n",
    "    elif (n - c) > 0.98:\n",
    "        c += 1\n",
    "    d = [a,b,c] \n",
    "    return d\n",
    "\n",
    "race(80, 91, 37)"
   ]
  },
  {
   "cell_type": "code",
   "execution_count": 58,
   "metadata": {},
   "outputs": [
    {
     "data": {
      "text/plain": [
       "[3.3636363636363638, 21.81818181818183, 49.09090909090992]"
      ]
     },
     "execution_count": 58,
     "metadata": {},
     "output_type": "execute_result"
    }
   ],
   "source": [
    "def race(v1, v2, g):\n",
    "    if v1>v2: return None\n",
    "    res = g*3600/(v2-v1)\n",
    "    return [res/3600,res%3600/60,res%60]\n",
    "race(80, 91, 37)"
   ]
  },
  {
   "cell_type": "code",
   "execution_count": 59,
   "metadata": {},
   "outputs": [
    {
     "data": {
      "text/plain": [
       "[3, 21, 49]"
      ]
     },
     "execution_count": 59,
     "metadata": {},
     "output_type": "execute_result"
    }
   ],
   "source": [
    "from datetime import datetime, timedelta\n",
    "def race(v1, v2, g):\n",
    "    if v1 >= v2:\n",
    "        return None\n",
    "    else:\n",
    "        sec = timedelta(seconds=int((g*3600/(v2-v1))))\n",
    "        d = datetime(1,1,1) + sec        \n",
    "        return [d.hour, d.minute, d.second]\n",
    "race(80, 91, 37)"
   ]
  },
  {
   "cell_type": "code",
   "execution_count": null,
   "metadata": {},
   "outputs": [],
   "source": [
    "'''\n",
    "unique_in_order('AAAABBBCCDAABBB') == ['A', 'B', 'C', 'D', 'A', 'B']\n",
    "unique_in_order('ABBCcAD')         == ['A', 'B', 'C', 'c', 'A', 'D']\n",
    "unique_in_order([1,2,2,3,3])       == [1,2,3]\n",
    "'''"
   ]
  },
  {
   "cell_type": "code",
   "execution_count": 1,
   "metadata": {},
   "outputs": [
    {
     "data": {
      "text/plain": [
       "['A', 'B', 'C', 'D', 'A', 'B', 'E']"
      ]
     },
     "execution_count": 1,
     "metadata": {},
     "output_type": "execute_result"
    }
   ],
   "source": [
    "def unique_in_order(iterable):\n",
    "    if len(iterable) > 0:\n",
    "        a = iterable[0]\n",
    "        n = [a]\n",
    "        for i in range(len(iterable))[1:]:\n",
    "            if iterable[i] != a:\n",
    "                n.append(iterable[i])\n",
    "                a = iterable[i]\n",
    "        return n\n",
    "    return []\n",
    "\n",
    "unique_in_order('AAAABBBCCDAABBBE')         "
   ]
  },
  {
   "cell_type": "code",
   "execution_count": null,
   "metadata": {},
   "outputs": [],
   "source": []
  }
 ],
 "metadata": {
  "kernelspec": {
   "display_name": "Python 3",
   "language": "python",
   "name": "python3"
  },
  "language_info": {
   "codemirror_mode": {
    "name": "ipython",
    "version": 3
   },
   "file_extension": ".py",
   "mimetype": "text/x-python",
   "name": "python",
   "nbconvert_exporter": "python",
   "pygments_lexer": "ipython3",
   "version": "3.7.1"
  }
 },
 "nbformat": 4,
 "nbformat_minor": 2
}
