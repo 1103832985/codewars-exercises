{
 "cells": [
  {
   "cell_type": "markdown",
   "metadata": {},
   "source": [
    "# Steps in Primes"
   ]
  },
  {
   "cell_type": "code",
   "execution_count": null,
   "metadata": {},
   "outputs": [],
   "source": [
    "'''\n",
    "The prime numbers are not regularly spaced. For example from 2 to 3 the step is 1. From 3 to 5 the step is 2. \n",
    "From 7 to 11 it is 4. Between 2 and 50 we have the following pairs of 2-steps primes:\n",
    "3, 5 - 5, 7, - 11, 13, - 17, 19, - 29, 31, - 41, 43\n",
    "\n",
    "We will write a function step with parameters:\n",
    "g (integer >= 2) which indicates the step we are looking for,\n",
    "m (integer >= 2) which gives the start of the search (m inclusive),\n",
    "n (integer >= m) which gives the end of the search (n inclusive)\n",
    "\n",
    "In the example above step(2, 2, 50) will return [3, 5] which is the first pair between 2 and 50 with a 2-steps.\n",
    "So this function should return the first pair of the two prime numbers spaced with a step of g between the limits m, n \n",
    "if these g-steps prime numbers exist otherwise nil or null or None or Nothing or [] or \"0, 0\" or {0, 0} (depending on the language).\n",
    "\n",
    "#Examples:\n",
    "step(2, 5, 7) --> [5, 7] or (5, 7) or {5, 7} or \"5 7\"\n",
    "step(2, 5, 5) --> nil or ... or [] in Ocaml or {0, 0} in C++\n",
    "step(4, 130, 200) --> [163, 167] or (163, 167) or {163, 167}\n",
    "'''"
   ]
  },
  {
   "cell_type": "code",
   "execution_count": 31,
   "metadata": {},
   "outputs": [
    {
     "data": {
      "text/plain": [
       "[359, 367]"
      ]
     },
     "execution_count": 31,
     "metadata": {},
     "output_type": "execute_result"
    }
   ],
   "source": [
    "import math\n",
    "def isPrime(n):\n",
    "    if n <= 1:\n",
    "        return False\n",
    "    for i in range(2,int(math.sqrt(n)+1)):\n",
    "        if n % i == 0:\n",
    "            return False\n",
    "    return True\n",
    "\n",
    "def step(g,m,n):\n",
    "    if m >= n:\n",
    "        return []\n",
    "    else:\n",
    "        for i in range(m,n+1-g):\n",
    "            if isPrime(i) and isPrime(i+g):\n",
    "                return[i,i+g]\n",
    "    \n",
    "step(8,300,400)"
   ]
  },
  {
   "cell_type": "code",
   "execution_count": 32,
   "metadata": {},
   "outputs": [
    {
     "data": {
      "text/plain": [
       "[359, 367]"
      ]
     },
     "execution_count": 32,
     "metadata": {},
     "output_type": "execute_result"
    }
   ],
   "source": [
    "def is_prime(n):\n",
    "    for i in range(2,int(n**0.5) + 1):\n",
    "        if n % i == 0:\n",
    "            return False\n",
    "    return True\n",
    "    \n",
    "def step(g, m, n):\n",
    "    for i in range(m, n - g):\n",
    "        if is_prime(i) and is_prime(i + g):\n",
    "            return [i,i+g]\n",
    "    return None\n",
    "step(8,300,400)"
   ]
  },
  {
   "cell_type": "code",
   "execution_count": 33,
   "metadata": {},
   "outputs": [
    {
     "data": {
      "text/plain": [
       "[359, 367]"
      ]
     },
     "execution_count": 33,
     "metadata": {},
     "output_type": "execute_result"
    }
   ],
   "source": [
    "def step(g, m, n):\n",
    "    list1=[]\n",
    "    for a in range (m,n+1): \n",
    "        if all(a%i!=0 for i in range(2,int(a**.5)+1) ):\n",
    "            list1.append(a)\n",
    "            if a-g in list1:\n",
    "                return [a-g, a]\n",
    "    return None\n",
    "step(8,300,400)"
   ]
  },
  {
   "cell_type": "markdown",
   "metadata": {},
   "source": [
    "# Integers: Recreation Two"
   ]
  },
  {
   "cell_type": "code",
   "execution_count": null,
   "metadata": {},
   "outputs": [],
   "source": [
    "'''\n",
    "Given 4 integers a, b, c, d we form the sum of the squares of a and b and then the sum of the squares of c and d. \n",
    "We multiply the two sums hence a number n and we try to decompose n in a sum of two squares e and f (e and f integers >= 0)\n",
    "so that n = e² + f².\n",
    "\n",
    "More: e and f must result only from sums (or differences) of products between on the one hand (a, b) \n",
    "and on the other (c, d) each of a, b, c, d taken only once. For example, prod2sum(1, 2, 1, 3) should return [[1, 7], [5, 5]]) \n",
    "because\n",
    "1==1*3-1*2\n",
    "7==2*3+1*1\n",
    "5==1*2+1*3\n",
    "Suppose we have a = 1, b = 2, c = 1, d = 3. First we calculate the sums 1² + 2² = 5 and 1² + 3² = 10 hence n = 50.\n",
    "50 = 1² + 7² or 50 = 7² + 1² (we'll consider that these two solutions are the same) or 50 = 5² + 5².\n",
    "\n",
    "The return of our function will be an array of subarrays (in C an array of Pairs) sorted on the first elements of the subarrays. \n",
    "In each subarray the lower element should be the first.\n",
    "'''"
   ]
  },
  {
   "cell_type": "code",
   "execution_count": 44,
   "metadata": {},
   "outputs": [
    {
     "data": {
      "text/plain": [
       "[[1, 7], [5, 5]]"
      ]
     },
     "execution_count": 44,
     "metadata": {},
     "output_type": "execute_result"
    }
   ],
   "source": [
    "def prod2sum(a,b,c,d):\n",
    "    n = (a**2 + b**2) * (c**2 + d**2)\n",
    "    m = []\n",
    "    for i in range(1,(int(n**0.5)+1)):\n",
    "        for j in range(i,int(n**0.5)+1):\n",
    "            if i**2 + j**2 == n:\n",
    "                m.append([i,j])\n",
    "    return m\n",
    "\n",
    "prod2sum(1, 2, 1, 3)    "
   ]
  },
  {
   "cell_type": "code",
   "execution_count": 4,
   "metadata": {},
   "outputs": [
    {
     "data": {
      "text/plain": [
       "[[1, 7], [5, 5]]"
      ]
     },
     "execution_count": 4,
     "metadata": {},
     "output_type": "execute_result"
    }
   ],
   "source": [
    "def prod2sum(a, b, c, d):\n",
    "    #abs:取绝对值\n",
    "    e = sorted([abs(a*d-b*c), abs(a*c+b*d)])\n",
    "    f = sorted([abs(a*c-b*d), abs(a*d+b*c)])\n",
    "    if e == f:\n",
    "        return [e]\n",
    "    else:\n",
    "        return sorted([e, f])\n",
    "prod2sum(1, 2, 1, 3)    "
   ]
  },
  {
   "cell_type": "code",
   "execution_count": 2,
   "metadata": {},
   "outputs": [
    {
     "data": {
      "text/plain": [
       "[[1, 7], [5, 5]]"
      ]
     },
     "execution_count": 2,
     "metadata": {},
     "output_type": "execute_result"
    }
   ],
   "source": [
    "def prod2sum(a, b, c, d):\n",
    "    result = map(sorted, [map(abs, [a * d - b * c, a * c + b * d]), map(abs, [b * d - a * c, b * c + a * d])])\n",
    "    return sorted(result, key=lambda x: x[0])[:2 - (a == b or b == 0)]\n",
    "prod2sum(1, 2, 1, 3)"
   ]
  },
  {
   "cell_type": "markdown",
   "metadata": {},
   "source": [
    "# Validate Credit Card Number"
   ]
  },
  {
   "cell_type": "code",
   "execution_count": null,
   "metadata": {},
   "outputs": [],
   "source": [
    "'''\n",
    "Given a positive integer of up to 16 digits, return true if it is a valid credit card number, and false if it is not.\n",
    "Here is the algorithm:\n",
    "Double every other digit, scanning from right to left, starting from the second digit (from the right).\n",
    "Another way to think about it is: if there are an even number of digits, double every other digit starting with the first;\n",
    "if there are an odd number of digits, double every other digit starting with the second:\n",
    "\n",
    "1714 ==> [1*, 7, 1*, 4] ==> [2, 7, 2, 4]\n",
    "12345 ==> [1, 2*, 3, 4*, 5] ==> [1, 4, 3, 8, 5]\n",
    "891 ==> [8, 9*, 1] ==> [8, 18, 1]\n",
    "\n",
    "If a resulting number is greater than 9, replace it with the sum of its own digits (which is the same as subtracting 9 from it):\n",
    "[8, 18*, 1] ==> [8, (1+8), 1] ==> [8, 9, 1]\n",
    "or:\n",
    "[8, 18*, 1] ==> [8, (18-9), 1] ==> [8, 9, 1]\n",
    "\n",
    "Sum all of the final digits:\n",
    "[8, 9, 1] ==> 8 + 9 + 1 = 18\n",
    "Finally, take that sum and divide it by 10. If the remainder equals zero, the original credit card number is valid.\n",
    "18 (modulus) 10 ==> 8 , which is not equal to 0, so this is not a valid cr\n",
    "'''"
   ]
  },
  {
   "cell_type": "code",
   "execution_count": 10,
   "metadata": {},
   "outputs": [
    {
     "data": {
      "text/plain": [
       "True"
      ]
     },
     "execution_count": 10,
     "metadata": {},
     "output_type": "execute_result"
    }
   ],
   "source": [
    "def validate(n):\n",
    "    n,m = list(str(n)),[]\n",
    "    for a,b in enumerate(reversed(n)):\n",
    "        if a % 2 == 0:\n",
    "            m.append(int(b))\n",
    "        else:\n",
    "            if int(b) * 2 > 9:\n",
    "                m.append(int(b)*2 - 9)\n",
    "            else:\n",
    "                m.append(int(b)*2)\n",
    "    return sum(m)%10 == 0\n",
    "\n",
    "validate(1230) "
   ]
  },
  {
   "cell_type": "code",
   "execution_count": 30,
   "metadata": {},
   "outputs": [
    {
     "data": {
      "text/plain": [
       "True"
      ]
     },
     "execution_count": 30,
     "metadata": {},
     "output_type": "execute_result"
    }
   ],
   "source": [
    "def validate(n):\n",
    "    digits = [int(x) for x in str(n)]\n",
    "    #第一个-2:倒数第二个数，第二个-2:倒序下跨度为2\n",
    "    even = [x*2 if x*2 <= 9 else x*2 - 9 for x in digits[-2::-2]]\n",
    "    odd  = [x for x in digits[-1::-2]]\n",
    "    return (sum(even + odd)%10) == 0\n",
    "validate(1230) "
   ]
  },
  {
   "cell_type": "code",
   "execution_count": 12,
   "metadata": {},
   "outputs": [
    {
     "data": {
      "text/plain": [
       "True"
      ]
     },
     "execution_count": 12,
     "metadata": {},
     "output_type": "execute_result"
    }
   ],
   "source": [
    "def validate(n):\n",
    "    digits = [int(x) for x in str(n)]\n",
    "    #下面的-1为倒序，-2为倒序下跨度为2\n",
    "    for x in range(len(digits)-2, -1, -2):\n",
    "        digits[x] = sum(map(int, str(digits[x] * 2)))\n",
    "    return sum(digits) % 10 == 0\n",
    "validate(1230) "
   ]
  }
 ],
 "metadata": {
  "kernelspec": {
   "display_name": "Python 3",
   "language": "python",
   "name": "python3"
  },
  "language_info": {
   "codemirror_mode": {
    "name": "ipython",
    "version": 3
   },
   "file_extension": ".py",
   "mimetype": "text/x-python",
   "name": "python",
   "nbconvert_exporter": "python",
   "pygments_lexer": "ipython3",
   "version": "3.7.1"
  }
 },
 "nbformat": 4,
 "nbformat_minor": 2
}
