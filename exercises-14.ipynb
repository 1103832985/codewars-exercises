{
 "cells": [
  {
   "cell_type": "markdown",
   "metadata": {},
   "source": [
    "# Delete occurrences of an element if it occurs more than n times"
   ]
  },
  {
   "cell_type": "code",
   "execution_count": null,
   "metadata": {},
   "outputs": [],
   "source": [
    "'''\n",
    "Task\n",
    "Given a list lst and a number N, create a new list that contains each number of lst at most N times without reordering.\n",
    "For example if N = 2, and the input is [1,2,3,1,2,1,2,3], you take [1,2,3,1,2],\n",
    "drop the next [1,2] since this would lead to 1 and 2 being in the result 3 times, and then take 3, which leads to [1,2,3,1,2,3].\n",
    "Example\n",
    "  delete_nth ([1,1,1,1],2) # return [1,1]\n",
    "  delete_nth ([20,37,20,21],1) # return [20,37,21]\n",
    "'''"
   ]
  },
  {
   "cell_type": "code",
   "execution_count": 4,
   "metadata": {},
   "outputs": [
    {
     "data": {
      "text/plain": [
       "[20, 37, 21]"
      ]
     },
     "execution_count": 4,
     "metadata": {},
     "output_type": "execute_result"
    }
   ],
   "source": [
    "def delete_nth(order,max_e):\n",
    "    n = []\n",
    "    for i in order:\n",
    "        if n.count(i) < max_e:\n",
    "            n.append(i)\n",
    "    return n\n",
    "\n",
    "delete_nth ([20,37,20,21],1)"
   ]
  },
  {
   "cell_type": "markdown",
   "metadata": {},
   "source": [
    "# Count the smiley faces!"
   ]
  },
  {
   "cell_type": "code",
   "execution_count": null,
   "metadata": {},
   "outputs": [],
   "source": [
    "'''\n",
    "Given an array (arr) as an argument complete the function countSmileys that should return the total number of smiling faces.\n",
    "Rules for a smiling face:\n",
    "-Each smiley face must contain a valid pair of eyes. Eyes can be marked as : or ;\n",
    "-A smiley face can have a nose but it does not have to. Valid characters for a nose are - or ~\n",
    "-Every smiling face must have a smiling mouth that should be marked with either ) or D.\n",
    "No additional characters are allowed except for those mentioned.\n",
    "Valid smiley face examples:\n",
    ":) :D ;-D :~)\n",
    "Invalid smiley faces:\n",
    ";( :> :} :] \n",
    "\n",
    "Example cases:\n",
    "countSmileys([':)', ';(', ';}', ':-D']);       // should return 2;\n",
    "countSmileys([';D', ':-(', ':-)', ';~)']);     // should return 3;\n",
    "countSmileys([';]', ':[', ';*', ':$', ';-D']); // should return 1;\n",
    "Note: In case of an empty array return 0. You will not be tested with invalid input (input will always be an array). \n",
    "Order of the face (eyes, nose, mouth) elements will always be the same\n",
    "'''"
   ]
  },
  {
   "cell_type": "code",
   "execution_count": 14,
   "metadata": {},
   "outputs": [
    {
     "data": {
      "text/plain": [
       "3"
      ]
     },
     "execution_count": 14,
     "metadata": {},
     "output_type": "execute_result"
    }
   ],
   "source": [
    "def count_smileys(arr):\n",
    "    n = 0\n",
    "    a = [':',';']\n",
    "    b = ['-','~']\n",
    "    c = [')','D']\n",
    "    for i in arr:\n",
    "        if len(i) == 2 and i[0] in a and i[1] in c:\n",
    "            n += 1\n",
    "        elif len(i) == 3 and i[0] in a and i[1] in b and i[2] in c:\n",
    "            n += 1\n",
    "    return n\n",
    "\n",
    "count_smileys([':D',':~)',';~D',':}'])    "
   ]
  },
  {
   "cell_type": "code",
   "execution_count": 15,
   "metadata": {},
   "outputs": [
    {
     "data": {
      "text/plain": [
       "3"
      ]
     },
     "execution_count": 15,
     "metadata": {},
     "output_type": "execute_result"
    }
   ],
   "source": [
    "from re import findall\n",
    "def count_smileys(arr):\n",
    "    return len(list(findall(r\"[:;][-~]?[)D]\", \" \".join(arr))))\n",
    "count_smileys([':D',':~)',';~D',':}'])  "
   ]
  },
  {
   "cell_type": "code",
   "execution_count": 16,
   "metadata": {},
   "outputs": [
    {
     "data": {
      "text/plain": [
       "3"
      ]
     },
     "execution_count": 16,
     "metadata": {},
     "output_type": "execute_result"
    }
   ],
   "source": [
    "import re\n",
    "def count_smileys(arr):\n",
    "    count = 0\n",
    "    for i in arr:\n",
    "        p = re.compile(\"^[:;][-~]*[)D]\")\n",
    "        if p.match(i):\n",
    "            count += 1\n",
    "    return count\n",
    "count_smileys([':D',':~)',';~D',':}'])"
   ]
  },
  {
   "cell_type": "markdown",
   "metadata": {},
   "source": [
    "# Write Number in Expanded Form"
   ]
  },
  {
   "cell_type": "code",
   "execution_count": null,
   "metadata": {},
   "outputs": [],
   "source": [
    "'''\n",
    "You will be given a number and you will need to return it as a string in Expanded Form. For example:\n",
    "expanded_form(12) # Should return '10 + 2'\n",
    "expanded_form(42) # Should return '40 + 2'\n",
    "expanded_form(70304) # Should return '70000 + 300 + 4'\n",
    "NOTE: All numbers will be whole numbers greater than 0.\n",
    "'''"
   ]
  },
  {
   "cell_type": "code",
   "execution_count": 12,
   "metadata": {},
   "outputs": [
    {
     "data": {
      "text/plain": [
       "'70000 + 1000 + 300 + 20 + 4'"
      ]
     },
     "execution_count": 12,
     "metadata": {},
     "output_type": "execute_result"
    }
   ],
   "source": [
    "def expanded_form(num):\n",
    "    a = len(str(num))\n",
    "    b = []\n",
    "    for i,j in enumerate(str(num)):\n",
    "        if j != '0':\n",
    "            b.append(j+'0'*(a-i-1))\n",
    "    return ' + '.join(b) \n",
    "\n",
    "expanded_form(71324)        "
   ]
  },
  {
   "cell_type": "code",
   "execution_count": 13,
   "metadata": {},
   "outputs": [
    {
     "data": {
      "text/plain": [
       "'70000 + 1000 + 300 + 20 + 4'"
      ]
     },
     "execution_count": 13,
     "metadata": {},
     "output_type": "execute_result"
    }
   ],
   "source": [
    "def expanded_form(num):\n",
    "    num = list(str(num))\n",
    "    return ' + '.join(x + '0' * (len(num) - y - 1) for y,x in enumerate(num) if x != '0')\n",
    "expanded_form(71324)  "
   ]
  },
  {
   "cell_type": "code",
   "execution_count": 14,
   "metadata": {},
   "outputs": [
    {
     "data": {
      "text/plain": [
       "'70000 + 1000 + 300 + 20 + 4'"
      ]
     },
     "execution_count": 14,
     "metadata": {},
     "output_type": "execute_result"
    }
   ],
   "source": [
    "def expanded_form(num):\n",
    "    s = str(num)\n",
    "    n = len(s)\n",
    "    return ' + '.join( [s[-i]+\"0\"*(i-1) for i in range(n,0,-1) if s[-i] != \"0\"])\n",
    "expanded_form(71324)  "
   ]
  },
  {
   "cell_type": "code",
   "execution_count": null,
   "metadata": {},
   "outputs": [],
   "source": []
  }
 ],
 "metadata": {
  "kernelspec": {
   "display_name": "Python 3",
   "language": "python",
   "name": "python3"
  },
  "language_info": {
   "codemirror_mode": {
    "name": "ipython",
    "version": 3
   },
   "file_extension": ".py",
   "mimetype": "text/x-python",
   "name": "python",
   "nbconvert_exporter": "python",
   "pygments_lexer": "ipython3",
   "version": "3.7.1"
  }
 },
 "nbformat": 4,
 "nbformat_minor": 2
}
