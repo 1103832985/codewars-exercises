{
 "cells": [
  {
   "cell_type": "markdown",
   "metadata": {},
   "source": [
    "# Character limits: How long is your piece of string?"
   ]
  },
  {
   "cell_type": "code",
   "execution_count": null,
   "metadata": {},
   "outputs": [],
   "source": [
    "'''\n",
    "  Cara is applying for several different jobs. The online application forms ask her to respond within a specific character count.\n",
    "Cara needs to check that her answers fit into the character limit.\n",
    "Annoyingly, some application forms count spaces as a character, and some don't.\n",
    "  Your challenge:\n",
    "  Write Cara a function charCheck() with the arguments:\n",
    "\"text\": a string containing Cara's answer for the question\n",
    "\"max\": a number equal to the maximum number of characters allowed in the answer\n",
    "\"spaces\": a boolean which is True if spaces are included in the character count and False if they are not\n",
    "  The function charCheck() should return an array: [True, \"Answer\"] , where \"Answer\" is equal to the original text,\n",
    "if Cara's answer is short enough.\n",
    "  If her answer \"text\" is too long, return an array: [False, \"Answer\"]. The second element should be the original \"text\" string \n",
    "truncated to the length of the limit.\n",
    "When the \"spaces\" argument is False, you should remove the spaces from the \"Answer\".\n",
    "charCheck(\"Cara Hertz\", 10, True) should return [ True, \"Cara Hertz\" ]\n",
    "charCheck(\"Cara Hertz\", 9, False) should return [ True, \"CaraHertz\" ]\n",
    "charCheck(\"Cara Hertz\", 5, True) should return [ False, \"Cara \" ]\n",
    "charCheck(\"Cara Hertz\", 5, False) should return [ False, \"CaraH\" ]\n",
    "'''"
   ]
  },
  {
   "cell_type": "code",
   "execution_count": 37,
   "metadata": {},
   "outputs": [
    {
     "data": {
      "text/plain": [
       "[False, 'CaraH']"
      ]
     },
     "execution_count": 37,
     "metadata": {},
     "output_type": "execute_result"
    }
   ],
   "source": [
    "def charCheck(text, mx, spaces):\n",
    "    if spaces == True:\n",
    "        return[len(text)<=mx, text[:mx]]\n",
    "    else:\n",
    "        t = text.replace(' ','')\n",
    "        return[len(t)<=mx, t[:mx]]\n",
    "\n",
    "charCheck(\"Cara Hertz\", 5, False)"
   ]
  },
  {
   "cell_type": "code",
   "execution_count": 39,
   "metadata": {},
   "outputs": [
    {
     "data": {
      "text/plain": [
       "[False, 'CaraH']"
      ]
     },
     "execution_count": 39,
     "metadata": {},
     "output_type": "execute_result"
    }
   ],
   "source": [
    "def charCheck(text, mx, spaces):\n",
    "    text = text if spaces else text.replace(' ', '')\n",
    "    return [len(text) <= mx, text[:mx]]\n",
    "\n",
    "charCheck(\"Cara Hertz\", 5, False)"
   ]
  },
  {
   "cell_type": "markdown",
   "metadata": {},
   "source": [
    "# Simple Fun #116: Prime String"
   ]
  },
  {
   "cell_type": "code",
   "execution_count": null,
   "metadata": {},
   "outputs": [],
   "source": [
    "'''\n",
    "The string is called prime if it cannot be constructed by concatenating some (more than one) equal strings together.\n",
    "For example, \"abac\" is prime, but \"xyxy\" is not(\"xyxy\"=\"xy\"+\"xy\").\n",
    "Given a string determine if it is prime or not.\n",
    "\n",
    "Test.assert_equals(prime_string(\"abac\"),True)\n",
    "Test.assert_equals(prime_string(\"abab\"),False)\n",
    "Test.assert_equals(prime_string(\"aaaa\"),False)\n",
    "Test.assert_equals(prime_string(\"x\"),True)\n",
    "Test.assert_equals(prime_string(\"abc\"),True)\n",
    "Test.assert_equals(prime_string(\"fdsyffdsyffdsyffdsyffdsyf\"),False)\n",
    "Test.assert_equals(prime_string(\"utdutdtdutd\"),True)\n",
    "Test.assert_equals(prime_string(\"abba\"),True)\n",
    "'''"
   ]
  },
  {
   "cell_type": "code",
   "execution_count": 47,
   "metadata": {},
   "outputs": [
    {
     "data": {
      "text/plain": [
       "False"
      ]
     },
     "execution_count": 47,
     "metadata": {},
     "output_type": "execute_result"
    }
   ],
   "source": [
    "def prime_string(s):\n",
    "    n = []\n",
    "    if len(s) > 1:\n",
    "        if s[::-1] == s:\n",
    "            if s.count(s[0]) == len(s) or s.count(s[0]) + s.count(s[1]) == len(s) and s.count(s[0]) != s.count(s[1]):\n",
    "                return False\n",
    "            return True        \n",
    "        for j,i in enumerate(s):\n",
    "            if n == [] and j > (len(s)/3)*2 -1 and j > 3:\n",
    "                return False\n",
    "            elif i not in n:\n",
    "                n.append(i)\n",
    "            else:          \n",
    "                 n.remove(i)\n",
    "        return n != []\n",
    "    return True\n",
    "        \n",
    "prime_string('grggrggrg')"
   ]
  },
  {
   "cell_type": "code",
   "execution_count": 48,
   "metadata": {},
   "outputs": [
    {
     "data": {
      "text/plain": [
       "False"
      ]
     },
     "execution_count": 48,
     "metadata": {},
     "output_type": "execute_result"
    }
   ],
   "source": [
    "def prime_string(s):\n",
    "    return (s + s).find(s, 1) == len(s)\n",
    "prime_string('grggrggrg')"
   ]
  },
  {
   "cell_type": "code",
   "execution_count": 49,
   "metadata": {},
   "outputs": [
    {
     "data": {
      "text/plain": [
       "False"
      ]
     },
     "execution_count": 49,
     "metadata": {},
     "output_type": "execute_result"
    }
   ],
   "source": [
    "import re\n",
    "def prime_string(s):\n",
    "    return not not re.sub(r\"^(.+)\\1+$\",\"\",s)\n",
    "prime_string('grggrggrg')"
   ]
  },
  {
   "cell_type": "code",
   "execution_count": 1,
   "metadata": {},
   "outputs": [
    {
     "data": {
      "text/plain": [
       "False"
      ]
     },
     "execution_count": 1,
     "metadata": {},
     "output_type": "execute_result"
    }
   ],
   "source": [
    "def prime_string(s):\n",
    "    for i in range(1,len(s) // 2 + 1):\n",
    "        if len(s) % i == 0 and (len(s) // i) * s[:i] == s:\n",
    "            return False\n",
    "    return True\n",
    "prime_string('grggrggrg')"
   ]
  },
  {
   "cell_type": "markdown",
   "metadata": {},
   "source": [
    "# Next Version"
   ]
  },
  {
   "cell_type": "code",
   "execution_count": null,
   "metadata": {},
   "outputs": [],
   "source": [
    "'''\n",
    "test.assert_equals(next_version(\"1.2.3\"),\"1.2.4\")\n",
    "test.assert_equals(next_version(\"0.9.9\"),\"1.0.0\")\n",
    "test.assert_equals(next_version(\"1\"),\"2\")\n",
    "test.assert_equals(next_version(\"1.2.3.4.5.6.7.8\"),\"1.2.3.4.5.6.7.9\")\n",
    "test.assert_equals(next_version(\"9.9\"),\"10.0\")\n",
    "'''"
   ]
  },
  {
   "cell_type": "code",
   "execution_count": 15,
   "metadata": {},
   "outputs": [
    {
     "data": {
      "text/plain": [
       "'11.0.0'"
      ]
     },
     "execution_count": 15,
     "metadata": {},
     "output_type": "execute_result"
    }
   ],
   "source": [
    "def xx(n):\n",
    "    a = n.index('10')\n",
    "    n[a],n[a-1] = '0',str(int(n[a-1])+1)\n",
    "    return n\n",
    "\n",
    "def next_version(s):\n",
    "    n,a = s.split('.'),0\n",
    "    if n[0] == '10':\n",
    "        n[0],a = '11',1\n",
    "    n[-1] = str(int(n[-1])+1)\n",
    "    while '10' in n and n[0]!='10':\n",
    "        n = xx(n)\n",
    "    if a == 1:\n",
    "        n[0] = str(int(n[0])-1)\n",
    "    return '.'.join(n)\n",
    "\n",
    "next_version(\"10.9.9\")       "
   ]
  },
  {
   "cell_type": "code",
   "execution_count": 16,
   "metadata": {},
   "outputs": [
    {
     "data": {
      "text/plain": [
       "'11.0.0'"
      ]
     },
     "execution_count": 16,
     "metadata": {},
     "output_type": "execute_result"
    }
   ],
   "source": [
    "def next_version(version):\n",
    "    ns = version.split('.')\n",
    "    i = len(ns) - 1\n",
    "    while i > 0 and ns[i] == '9':\n",
    "        ns[i] = '0'\n",
    "        i -= 1\n",
    "    ns[i] = str(int(ns[i]) + 1)\n",
    "    return '.'.join(ns)\n",
    "next_version(\"10.9.9\")       "
   ]
  },
  {
   "cell_type": "markdown",
   "metadata": {},
   "source": [
    "# Valid Phone Number"
   ]
  },
  {
   "cell_type": "code",
   "execution_count": 20,
   "metadata": {},
   "outputs": [
    {
     "data": {
      "text/plain": [
       "['A', 'B', 'a', 'b']"
      ]
     },
     "execution_count": 20,
     "metadata": {},
     "output_type": "execute_result"
    }
   ],
   "source": [
    "'''\n",
    "validPhoneNumber(\"(123) 456-7890\")  =>  returns true\n",
    "validPhoneNumber(\"(1111)555 2345\")  => returns false\n",
    "validPhoneNumber(\"(098) 123 4567\")  => returns false\n",
    "'''"
   ]
  },
  {
   "cell_type": "code",
   "execution_count": 47,
   "metadata": {},
   "outputs": [
    {
     "data": {
      "text/plain": [
       "False"
      ]
     },
     "execution_count": 47,
     "metadata": {},
     "output_type": "execute_result"
    }
   ],
   "source": [
    "def validPhoneNumber(s):\n",
    "    if s.count(' ') == s.count('-') == 1 and len(s) == 14:\n",
    "        a = s.replace('(','').replace(')','').replace('-',' ')\n",
    "        b = a.split()\n",
    "        return [len(x) for x in b] == [3,3,4]\n",
    "    return False\n",
    "\n",
    "validPhoneNumber(\"(1234) 456-789\")"
   ]
  },
  {
   "cell_type": "code",
   "execution_count": 33,
   "metadata": {},
   "outputs": [
    {
     "data": {
      "text/plain": [
       "True"
      ]
     },
     "execution_count": 33,
     "metadata": {},
     "output_type": "execute_result"
    }
   ],
   "source": [
    "def validPhoneNumber(phoneNumber):\n",
    "    import re\n",
    "    return bool(re.match(r\"^(\\([0-9]+\\))? [0-9]+-[0-9]+$\", phoneNumber))\n",
    "#???\n",
    "validPhoneNumber(\"(1234) 456-790\")"
   ]
  },
  {
   "cell_type": "code",
   "execution_count": 34,
   "metadata": {},
   "outputs": [
    {
     "data": {
      "text/plain": [
       "False"
      ]
     },
     "execution_count": 34,
     "metadata": {},
     "output_type": "execute_result"
    }
   ],
   "source": [
    "def validPhoneNumber(phoneNumber):\n",
    "    number = ''\n",
    "    template = '(xxx) xxx-xxxx'\n",
    "    for l in phoneNumber:\n",
    "        if l.isdigit():\n",
    "            number += 'x'\n",
    "        else:\n",
    "            number += l \n",
    "    return number == template\n",
    "validPhoneNumber(\"(1234) 456-790\")"
   ]
  }
 ],
 "metadata": {
  "kernelspec": {
   "display_name": "Python 3",
   "language": "python",
   "name": "python3"
  },
  "language_info": {
   "codemirror_mode": {
    "name": "ipython",
    "version": 3
   },
   "file_extension": ".py",
   "mimetype": "text/x-python",
   "name": "python",
   "nbconvert_exporter": "python",
   "pygments_lexer": "ipython3",
   "version": "3.7.1"
  }
 },
 "nbformat": 4,
 "nbformat_minor": 2
}
