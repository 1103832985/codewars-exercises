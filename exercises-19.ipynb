{
 "cells": [
  {
   "cell_type": "markdown",
   "metadata": {},
   "source": [
    "# Dubstep"
   ]
  },
  {
   "cell_type": "code",
   "execution_count": null,
   "metadata": {},
   "outputs": [],
   "source": [
    "'''\n",
    "  Polycarpus works as a DJ in the best Berland nightclub, and he often uses dubstep music in his performance. \n",
    "Recently, he has decided to take a couple of old songs and make dubstep remixes from them.\n",
    "  Let's assume that a song consists of some number of words (that don't contain WUB).\n",
    "To make the dubstep remix of this song, Polycarpus inserts a certain number of words \"WUB\"\n",
    "before the first word of the song (the number may be zero), after the last word (the number may be zero), \n",
    "and between words (at least one between any pair of neighbouring words), \n",
    "and then the boy glues together all the words, including \"WUB\", in one string and plays the song at the club.\n",
    "  For example, a song with words \"I AM X\" can transform into a dubstep remix as \"WUBWUBIWUBAMWUBWUBX\" a\n",
    "nd cannot transform into \"WUBWUBIAMWUBX\".\n",
    "  Recently, Jonny has heard Polycarpus's new dubstep track, but since he isn't into modern music,\n",
    "he decided to find out what was the initial song that Polycarpus remixed. Help Jonny restore the original song.\n",
    "Input\n",
    "  The input consists of a single non-empty string, consisting only of uppercase English letters, \n",
    "the string's length doesn't exceed 200 characters\n",
    "Output\n",
    "  Return the words of the initial song that Polycarpus used to make a dubsteb remix. Separate the words with a space.\n",
    "'''"
   ]
  },
  {
   "cell_type": "code",
   "execution_count": 22,
   "metadata": {},
   "outputs": [
    {
     "data": {
      "text/plain": [
       "'A B C'"
      ]
     },
     "execution_count": 22,
     "metadata": {},
     "output_type": "execute_result"
    }
   ],
   "source": [
    "def song_decoder(song):\n",
    "    a = song.split('WUB')\n",
    "    a = ' '.join(a)\n",
    "    a = a.split()\n",
    "    return ' '.join(a)\n",
    "\n",
    "song_decoder(\"AWUBWUBWUBBWUBWUBWUBC\")"
   ]
  },
  {
   "cell_type": "code",
   "execution_count": 24,
   "metadata": {},
   "outputs": [
    {
     "data": {
      "text/plain": [
       "'A B C'"
      ]
     },
     "execution_count": 24,
     "metadata": {},
     "output_type": "execute_result"
    }
   ],
   "source": [
    "def song_decoder(song):\n",
    "    return \" \".join(song.replace('WUB', ' ').split())\n",
    "song_decoder(\"AWUBWUBWUBBWUBWUBWUBC\")"
   ]
  },
  {
   "cell_type": "code",
   "execution_count": 26,
   "metadata": {},
   "outputs": [
    {
     "data": {
      "text/plain": [
       "'A B C'"
      ]
     },
     "execution_count": 26,
     "metadata": {},
     "output_type": "execute_result"
    }
   ],
   "source": [
    "import re\n",
    "def song_decoder(song):    \n",
    "    return re.sub('(WUB)+', ' ', song).strip()\n",
    "song_decoder(\"AWUBWUBWUBBWUBWUBWUBC\")"
   ]
  },
  {
   "cell_type": "code",
   "execution_count": 27,
   "metadata": {},
   "outputs": [
    {
     "data": {
      "text/plain": [
       "'A B C'"
      ]
     },
     "execution_count": 27,
     "metadata": {},
     "output_type": "execute_result"
    }
   ],
   "source": [
    "def song_decoder(song):\n",
    "    return ' '.join([a for a in song.split('WUB') if a])\n",
    "song_decoder(\"AWUBWUBWUBBWUBWUBWUBC\")"
   ]
  },
  {
   "cell_type": "code",
   "execution_count": 6,
   "metadata": {},
   "outputs": [
    {
     "name": "stdout",
     "output_type": "stream",
     "text": [
      "何嘉伟\n",
      "所培美\n",
      "刘盛旺\n",
      "文思思\n",
      "唐雪林\n",
      "李康康\n"
     ]
    }
   ],
   "source": [
    "#点名表\n",
    "erzhu = {1:'唐雪林',2:'文思思',3:'何嘉伟',4:'刘盛旺',5:'李康康',6:'所培美'}\n",
    "import random\n",
    "m = []\n",
    "while len(m) < 6:\n",
    "    x = random.randint(1,6)\n",
    "    if x not in m:\n",
    "        m.append(x)\n",
    "for i in m:\n",
    "    print(erzhu[i])"
   ]
  },
  {
   "cell_type": "markdown",
   "metadata": {},
   "source": [
    "# Reverse or rotate?"
   ]
  },
  {
   "cell_type": "code",
   "execution_count": null,
   "metadata": {},
   "outputs": [],
   "source": [
    "'''\n",
    "  The input is a string str of digits. Cut the string into chunks (a chunk here is a substring of the initial string)\n",
    "of size sz (ignore the last chunk if its size is less than sz).\n",
    "\n",
    "  If a chunk represents an integer such as the sum of the cubes of its digits is divisible by 2, \n",
    "reverse that chunk; otherwise rotate it to the left by one position.\n",
    "Put together these modified chunks and return the result as a string.\n",
    "\n",
    "If\n",
    "sz is <= 0 or if str is empty return \"\"\n",
    "sz is greater (>) than the length of str it is impossible to take a chunk of size sz hence return \"\".\n",
    "Examples:\n",
    "revrot(\"123456987654\", 6) --> \"234561876549\"\n",
    "revrot(\"123456987653\", 6) --> \"234561356789\"\n",
    "revrot(\"66443875\", 4) --> \"44668753\"\n",
    "revrot(\"66443875\", 8) --> \"64438756\"\n",
    "revrot(\"664438769\", 8) --> \"67834466\"\n",
    "revrot(\"123456779\", 8) --> \"23456771\"\n",
    "revrot(\"\", 8) --> \"\"\n",
    "revrot(\"123456779\", 0) --> \"\" \n",
    "revrot(\"563000655734469485\", 4) --> \"0365065073456944\"\n",
    "'''"
   ]
  },
  {
   "cell_type": "code",
   "execution_count": 16,
   "metadata": {},
   "outputs": [
    {
     "data": {
      "text/plain": [
       "'8765'"
      ]
     },
     "execution_count": 16,
     "metadata": {},
     "output_type": "execute_result"
    }
   ],
   "source": [
    "n = 4\n",
    "a = '123456789'\n",
    "b = a[:n]\n",
    "c = a[n:n*2]\n",
    "c = list(c)\n",
    "c.reverse()\n",
    "''.join(c)"
   ]
  },
  {
   "cell_type": "code",
   "execution_count": 28,
   "metadata": {},
   "outputs": [
    {
     "data": {
      "text/plain": [
       "'0365065073456944'"
      ]
     },
     "execution_count": 28,
     "metadata": {},
     "output_type": "execute_result"
    }
   ],
   "source": [
    "def revrot(strng, sz):\n",
    "    n = ''\n",
    "    if len(strng)>sz>0:\n",
    "        a,b = 0,1\n",
    "        while b*sz<=len(strng):\n",
    "            m = strng[(sz*a):(sz*b)]\n",
    "            z = list(m)\n",
    "            c = [int(x) for x in z]\n",
    "            if sum(c)%2==0:               \n",
    "                z.reverse()\n",
    "                m = ''.join(z)\n",
    "            else:\n",
    "                m = m[1:]+m[0]\n",
    "            n += m\n",
    "            a += 1\n",
    "            b += 1\n",
    "    return n\n",
    "    \n",
    "revrot(\"563000655734469485\", 4)"
   ]
  },
  {
   "cell_type": "code",
   "execution_count": 29,
   "metadata": {},
   "outputs": [
    {
     "data": {
      "text/plain": [
       "'0365065073456944'"
      ]
     },
     "execution_count": 29,
     "metadata": {},
     "output_type": "execute_result"
    }
   ],
   "source": [
    "def revrot(s, n, res=\"\"):\n",
    "    if not s or n < 1 or n > len(s):\n",
    "        return \"\"    \n",
    "    while len(s) >= n:\n",
    "        group = s[:n]\n",
    "        if sum([int(d)**3 for d in group]) % 2 == 0:\n",
    "            res += group[::-1]\n",
    "        else:\n",
    "            res += group[1:] + group[0]\n",
    "        s = s[n:]   \n",
    "    return res\n",
    "revrot(\"563000655734469485\", 4)"
   ]
  },
  {
   "cell_type": "code",
   "execution_count": null,
   "metadata": {},
   "outputs": [],
   "source": []
  }
 ],
 "metadata": {
  "kernelspec": {
   "display_name": "Python 3",
   "language": "python",
   "name": "python3"
  },
  "language_info": {
   "codemirror_mode": {
    "name": "ipython",
    "version": 3
   },
   "file_extension": ".py",
   "mimetype": "text/x-python",
   "name": "python",
   "nbconvert_exporter": "python",
   "pygments_lexer": "ipython3",
   "version": "3.7.1"
  }
 },
 "nbformat": 4,
 "nbformat_minor": 2
}
