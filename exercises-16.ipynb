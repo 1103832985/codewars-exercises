{
 "cells": [
  {
   "cell_type": "markdown",
   "metadata": {},
   "source": [
    "# Take a Number And Sum Its Digits Raised To The Consecutive Powers And ....¡Eureka!!"
   ]
  },
  {
   "cell_type": "code",
   "execution_count": null,
   "metadata": {},
   "outputs": [],
   "source": [
    "'''\n",
    "The number 89 is the first integer with more than one digit that fulfills the property partially introduced\n",
    "in the title of this kata. What's the use of saying \"Eureka\"? Because this sum gives the same number.\n",
    "\n",
    "In effect: 89 = 8^1 + 9^2\n",
    "The next number in having this property is 135.\n",
    "See this property again: 135 = 1^1 + 3^2 + 5^3\n",
    "\n",
    "We need a function to collect these numbers, that may receive two integers a, b \n",
    "that defines the range [a, b] (inclusive) and outputs a list of the sorted numbers in the range \n",
    "that fulfills the property described above.\n",
    "\n",
    "Let's see some cases:\n",
    "sum_dig_pow(1, 10) == [1, 2, 3, 4, 5, 6, 7, 8, 9]\n",
    "sum_dig_pow(1, 100) == [1, 2, 3, 4, 5, 6, 7, 8, 9, 89]\n",
    "\n",
    "If there are no numbers of this kind in the range [a, b] the function should output an empty list.\n",
    "sum_dig_pow(90, 100) == []\n",
    "'''"
   ]
  },
  {
   "cell_type": "code",
   "execution_count": 10,
   "metadata": {},
   "outputs": [
    {
     "data": {
      "text/plain": [
       "[89, 135]"
      ]
     },
     "execution_count": 10,
     "metadata": {},
     "output_type": "execute_result"
    }
   ],
   "source": [
    "def xx(a):\n",
    "    n,m= 1,0\n",
    "    for i in str(a):\n",
    "        m += int(i) ** n\n",
    "        n += 1\n",
    "    if m == a:\n",
    "        return True\n",
    "    return False\n",
    "\n",
    "def sum_dig_pow(a, b):\n",
    "    n = []\n",
    "    for i in range(a,b+1):\n",
    "        if xx(i):\n",
    "            n.append(i)\n",
    "    return n\n",
    "\n",
    "sum_dig_pow(89, 135)    "
   ]
  },
  {
   "cell_type": "code",
   "execution_count": 7,
   "metadata": {},
   "outputs": [
    {
     "data": {
      "text/plain": [
       "True"
      ]
     },
     "execution_count": 7,
     "metadata": {},
     "output_type": "execute_result"
    }
   ],
   "source": [
    "def xx(a):\n",
    "    n,m= 1,0\n",
    "    for i in str(a):\n",
    "        m += int(i) ** n\n",
    "        n += 1\n",
    "    if m == a:\n",
    "        return True\n",
    "    return False\n",
    "xx(135)"
   ]
  },
  {
   "cell_type": "markdown",
   "metadata": {},
   "source": [
    "# Does my number look big in this?"
   ]
  },
  {
   "cell_type": "code",
   "execution_count": null,
   "metadata": {},
   "outputs": [],
   "source": [
    "'''\n",
    "A Narcissistic Number is a number which is the sum of its own digits, each raised to the power \n",
    "of the number of digits in a given base. In this Kata, we will restrict ourselves to decimal (base 10).\n",
    "\n",
    "For example, take 153 (3 digits):\n",
    "    1^3 + 5^3 + 3^3 = 1 + 125 + 27 = 153\n",
    "and 1634 (4 digits):\n",
    "    1^4 + 6^4 + 3^4 + 4^4 = 1 + 1296 + 81 + 256 = 1634\n",
    "The Challenge:\n",
    "\n",
    "Your code must return true or false depending upon whether the given number is a Narcissistic number in base 10.\n",
    "Error checking for text strings or other invalid inputs is not required, only valid integers will be passed into the function.\n",
    "'''"
   ]
  },
  {
   "cell_type": "code",
   "execution_count": 21,
   "metadata": {},
   "outputs": [
    {
     "data": {
      "text/plain": [
       "True"
      ]
     },
     "execution_count": 21,
     "metadata": {},
     "output_type": "execute_result"
    }
   ],
   "source": [
    "def narcissistic( value ):\n",
    "    n,m = len(str(value)),0\n",
    "    for i in str(value):\n",
    "        m += int(i)**n\n",
    "    if m == value:\n",
    "        return True\n",
    "    return False\n",
    "\n",
    "narcissistic(153)        "
   ]
  },
  {
   "cell_type": "code",
   "execution_count": 22,
   "metadata": {},
   "outputs": [
    {
     "data": {
      "text/plain": [
       "True"
      ]
     },
     "execution_count": 22,
     "metadata": {},
     "output_type": "execute_result"
    }
   ],
   "source": [
    "def narcissistic(value):\n",
    "    return value == sum(int(x) ** len(str(value)) for x in str(value))\n",
    "narcissistic(153)"
   ]
  },
  {
   "cell_type": "markdown",
   "metadata": {},
   "source": [
    "# Bouncing Balls"
   ]
  },
  {
   "cell_type": "code",
   "execution_count": null,
   "metadata": {},
   "outputs": [],
   "source": [
    "'''\n",
    "A child is playing with a ball on the nth floor of a tall building. The height of this floor, h, is known.\n",
    "He drops the ball out of the window. The ball bounces (for example), to two-thirds of its height (a bounce of 0.66).\n",
    "His mother looks out of a window 1.5 meters from the ground.\n",
    "How many times will the mother see the ball pass in front of her window (including when it's falling and bouncing?\n",
    "\n",
    "Three conditions must be met for a valid experiment:\n",
    "** Float parameter \"h\" in meters must be greater than 0\n",
    "** Float parameter \"bounce\" must be greater than 0 and less than 1\n",
    "** Float parameter \"window\" must be less than h.\n",
    "If all three conditions above are fulfilled, return a positive integer, otherwise return -1.\n",
    "\n",
    "Note: The ball can only be seen if the height of the rebounding ball is stricty greater than the window parameter.\n",
    "\n",
    "Example:\n",
    "h = 3, bounce = 0.66, window = 1.5, result is 3\n",
    "h = 3, bounce = 1, window = 1.5, result is -1 (Condition 2) not fulfilled).\n",
    "'''"
   ]
  },
  {
   "cell_type": "code",
   "execution_count": 11,
   "metadata": {},
   "outputs": [
    {
     "data": {
      "text/plain": [
       "3"
      ]
     },
     "execution_count": 11,
     "metadata": {},
     "output_type": "execute_result"
    }
   ],
   "source": [
    "def bouncingBall(h, bounce, window):\n",
    "    if h>0 and 0<bounce<1 and window<h:\n",
    "        n = 1\n",
    "        while h*bounce >= window:\n",
    "            n += 2\n",
    "            h = h * bounce\n",
    "        return n\n",
    "    return -1\n",
    "\n",
    "bouncingBall(3, 0.66, 1.5)    "
   ]
  },
  {
   "cell_type": "code",
   "execution_count": 12,
   "metadata": {},
   "outputs": [
    {
     "data": {
      "text/plain": [
       "3"
      ]
     },
     "execution_count": 12,
     "metadata": {},
     "output_type": "execute_result"
    }
   ],
   "source": [
    "def bouncingBall(h, bounce, window):\n",
    "    if h <= 0 or bounce <= 0 or bounce >= 1 or window >= h:\n",
    "        return -1\n",
    "    #递归\n",
    "    return 2 + bouncingBall(h * bounce, bounce, window)\n",
    "bouncingBall(3, 0.66, 1.5)    "
   ]
  }
 ],
 "metadata": {
  "kernelspec": {
   "display_name": "Python 3",
   "language": "python",
   "name": "python3"
  },
  "language_info": {
   "codemirror_mode": {
    "name": "ipython",
    "version": 3
   },
   "file_extension": ".py",
   "mimetype": "text/x-python",
   "name": "python",
   "nbconvert_exporter": "python",
   "pygments_lexer": "ipython3",
   "version": "3.7.1"
  }
 },
 "nbformat": 4,
 "nbformat_minor": 2
}
