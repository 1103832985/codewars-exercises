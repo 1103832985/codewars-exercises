{
 "cells": [
  {
   "cell_type": "code",
   "execution_count": null,
   "metadata": {},
   "outputs": [],
   "source": [
    "'''\n",
    "您住在Cartesia市，所有道路都布置在一个完美的网格中。你提前十分钟到达预约，所以你决定借此机会去散步。\n",
    "这个城市在他们的手机上为市民提供了一个Walk Generating App - 每次按下按钮，\n",
    "它会向你发送一系列代表行走方向的单字母字符串（例如['n'，'s'，'w'， 'E']）。\n",
    "你总是只朝一个方向走一个街区而且你知道你需要花一分钟来穿越一个城市街区，\n",
    "所以创建一个能够返回true的函数如果应用程序给你的步行将花费你十分钟（你没有想早点或晚点！）当然会让你回到起点。\n",
    "否则返回false。\n",
    "注意：您将始终收到一个包含随机分类方向字母的有效数组（仅限'n'，'s'，'e'或'w'）。\n",
    "它永远不会给你一个空阵列（这不是一个散步，那是静止的！）。\n",
    "'''"
   ]
  },
  {
   "cell_type": "code",
   "execution_count": 26,
   "metadata": {},
   "outputs": [
    {
     "data": {
      "text/plain": [
       "True"
      ]
     },
     "execution_count": 26,
     "metadata": {},
     "output_type": "execute_result"
    }
   ],
   "source": [
    "def isValidWalk(walk):\n",
    "    if (walk.count('n') == walk.count('s') and \n",
    "        walk.count('e') == walk.count('w') and\n",
    "        len(walk) == 10):\n",
    "            return True\n",
    "    return False\n",
    "isValidWalk(['n','s','e','w','n','e','s','w','n','s'])"
   ]
  },
  {
   "cell_type": "code",
   "execution_count": 28,
   "metadata": {},
   "outputs": [
    {
     "data": {
      "text/plain": [
       "False"
      ]
     },
     "execution_count": 28,
     "metadata": {},
     "output_type": "execute_result"
    }
   ],
   "source": [
    "def isValidWalk(walk):\n",
    "    if len(walk) != 10:\n",
    "        x, y = 0, 0\n",
    "        for direction in walk:\n",
    "            if direction == 'n':\n",
    "                y += 1\n",
    "            elif direction == 's':\n",
    "                y -= 1\n",
    "            elif direction == 'e':\n",
    "                x += 1\n",
    "            elif direction == 'w':\n",
    "                x -= 1\n",
    "    else:\n",
    "        return False\n",
    "    return x == 0 and y == 0\n",
    "isValidWalk(['n','s','e','w','n','e','s','w','n','s'])"
   ]
  },
  {
   "cell_type": "code",
   "execution_count": 12,
   "metadata": {},
   "outputs": [
    {
     "name": "stdout",
     "output_type": "stream",
     "text": [
      "0 n\n",
      "1 s\n",
      "2 e\n",
      "3 w\n",
      "4 n\n",
      "5 e\n",
      "6 s\n",
      "7 w\n",
      "8 n\n",
      "9 s\n",
      "10 e\n",
      "11 w\n"
     ]
    }
   ],
   "source": [
    "walk =['n','s','e','w','n','e','s','w','n','s','e','w']\n",
    "for i,m in enumerate(walk):\n",
    "    print(i,m)"
   ]
  },
  {
   "cell_type": "code",
   "execution_count": null,
   "metadata": {},
   "outputs": [],
   "source": [
    "'''\n",
    "给定一个数组，找到出现奇数次的int。\n",
    "始终只有一个整数出现奇数次。\n",
    "test.assert_equals(find_it([20,1,-1,2,-2,3,3,5,5,1,2,4,20,4,-1,-2,5]), 5)\n",
    "'''"
   ]
  },
  {
   "cell_type": "code",
   "execution_count": 36,
   "metadata": {},
   "outputs": [
    {
     "data": {
      "text/plain": [
       "5"
      ]
     },
     "execution_count": 36,
     "metadata": {},
     "output_type": "execute_result"
    }
   ],
   "source": [
    "def find_it(seq):\n",
    "    for i,n in enumerate(seq):\n",
    "        if seq.count(seq[i]) % 2 != 0:\n",
    "            return n\n",
    "        \n",
    "find_it([20,1,-1,2,-2,3,3,5,5,1,2,4,20,4,-1,-2,5])"
   ]
  },
  {
   "cell_type": "code",
   "execution_count": 37,
   "metadata": {},
   "outputs": [
    {
     "data": {
      "text/plain": [
       "5"
      ]
     },
     "execution_count": 37,
     "metadata": {},
     "output_type": "execute_result"
    }
   ],
   "source": [
    "def find_it(seq):\n",
    "    return [x for x in seq if seq.count(x) % 2][0]\n",
    "\n",
    "find_it([20,1,-1,2,-2,3,3,5,5,1,2,4,20,4,-1,-2,5])"
   ]
  },
  {
   "cell_type": "code",
   "execution_count": 32,
   "metadata": {},
   "outputs": [
    {
     "data": {
      "text/plain": [
       "3"
      ]
     },
     "execution_count": 32,
     "metadata": {},
     "output_type": "execute_result"
    }
   ],
   "source": [
    "a = [20,1,-1,2,-2,3,3,5,5,1,2,4,20,4,-1,-2,5]\n",
    "for i,n in enumerate(a):\n",
    "    if a.count(a[i]) % 2 != 0:\n",
    "        e = a.count(a[i])\n",
    "e        "
   ]
  },
  {
   "cell_type": "code",
   "execution_count": 48,
   "metadata": {},
   "outputs": [
    {
     "data": {
      "text/plain": [
       "8"
      ]
     },
     "execution_count": 48,
     "metadata": {},
     "output_type": "execute_result"
    }
   ],
   "source": [
    "def duplicateOrUnique(arr):\n",
    "    a = arr.count(arr[0])\n",
    "    b = arr.count(arr[1])\n",
    "    if a == b:\n",
    "        for i,n in enumerate (arr):\n",
    "            if arr.count(arr[i]) != a:\n",
    "                return n\n",
    "    else:\n",
    "        for i,n in enumerate (arr):\n",
    "            if arr.count(arr[i]) == a:\n",
    "                return arr[1]\n",
    "            else:\n",
    "                return arr[0]\n",
    "duplicateOrUnique([9,8,7,1,2,3,9,7,1,2,3,4,4,5,5,6,6])"
   ]
  },
  {
   "cell_type": "code",
   "execution_count": null,
   "metadata": {},
   "outputs": [],
   "source": []
  }
 ],
 "metadata": {
  "kernelspec": {
   "display_name": "Python 3",
   "language": "python",
   "name": "python3"
  },
  "language_info": {
   "codemirror_mode": {
    "name": "ipython",
    "version": 3
   },
   "file_extension": ".py",
   "mimetype": "text/x-python",
   "name": "python",
   "nbconvert_exporter": "python",
   "pygments_lexer": "ipython3",
   "version": "3.7.1"
  }
 },
 "nbformat": 4,
 "nbformat_minor": 2
}
