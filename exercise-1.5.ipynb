{
 "cells": [
  {
   "cell_type": "markdown",
   "metadata": {},
   "source": [
    "# Find the unique number"
   ]
  },
  {
   "cell_type": "code",
   "execution_count": null,
   "metadata": {},
   "outputs": [],
   "source": [
    "'''\n",
    "There is an array with some numbers. All numbers are equal except for one. Try to find it!\n",
    "find_uniq([ 1, 1, 1, 2, 1, 1 ]) == 2\n",
    "find_uniq([ 0, 0, 0.55, 0, 0 ]) == 0.55\n",
    "It’s guaranteed that array contains more than 3 numbers.\n",
    "The tests contain some very huge arrays, so think about performance.\n",
    "'''"
   ]
  },
  {
   "cell_type": "code",
   "execution_count": 1,
   "metadata": {},
   "outputs": [
    {
     "data": {
      "text/plain": [
       "1"
      ]
     },
     "execution_count": 1,
     "metadata": {},
     "output_type": "execute_result"
    }
   ],
   "source": [
    "def find_uniq(arr):\n",
    "    q = arr[0]\n",
    "    p = arr[1]\n",
    "    for i in arr[2:]:\n",
    "        if q == p:\n",
    "            if i != q:\n",
    "                return i\n",
    "        elif q != p:\n",
    "            if i == q:\n",
    "                return p\n",
    "            elif i == p:\n",
    "                return q\n",
    "\n",
    "find_uniq([ 0, 0, 0, 0, 0 ,1])"
   ]
  },
  {
   "cell_type": "code",
   "execution_count": 2,
   "metadata": {},
   "outputs": [
    {
     "data": {
      "text/plain": [
       "1"
      ]
     },
     "execution_count": 2,
     "metadata": {},
     "output_type": "execute_result"
    }
   ],
   "source": [
    "def find_uniq(arr):\n",
    "    a, b = set(arr)\n",
    "    return a if arr.count(a) == 1 else b\n",
    "find_uniq([ 0, 0, 0, 0, 0 ,1])"
   ]
  },
  {
   "cell_type": "code",
   "execution_count": 3,
   "metadata": {},
   "outputs": [
    {
     "data": {
      "text/plain": [
       "1"
      ]
     },
     "execution_count": 3,
     "metadata": {},
     "output_type": "execute_result"
    }
   ],
   "source": [
    "def find_uniq(arr):\n",
    "    arr.sort()\n",
    "    return arr[0] if arr[0] != arr[1] else arr[-1]\n",
    "find_uniq([ 0, 0, 0, 0, 0 ,1])"
   ]
  },
  {
   "cell_type": "code",
   "execution_count": 4,
   "metadata": {},
   "outputs": [
    {
     "name": "stdout",
     "output_type": "stream",
     "text": [
      "True\n",
      "False\n"
     ]
    }
   ],
   "source": [
    "a = 'abcdefg'\n",
    "b = 'bcd'\n",
    "c = 'fgh'\n",
    "print(b in a)\n",
    "print(c in a)"
   ]
  },
  {
   "cell_type": "markdown",
   "metadata": {},
   "source": [
    "# Which are in?"
   ]
  },
  {
   "cell_type": "code",
   "execution_count": null,
   "metadata": {},
   "outputs": [],
   "source": [
    "'''\n",
    "Given two arrays of strings a1 and a2 return a sorted array r in lexicographical order of the strings of a1 \n",
    "which are substrings of strings of a2.\n",
    "#Example 1: a1 = [\"arp\", \"live\", \"strong\"]\n",
    "a2 = [\"lively\", \"alive\", \"harp\", \"sharp\", \"armstrong\"]\n",
    "returns [\"arp\", \"live\", \"strong\"]\n",
    "#Example 2: a1 = [\"tarp\", \"mice\", \"bull\"]\n",
    "a2 = [\"lively\", \"alive\", \"harp\", \"sharp\", \"armstrong\"]\n",
    "returns []\n",
    "Notes:\n",
    "Arrays are written in \"general\" notation. See \"Your Test Cases\" for examples in your language.\n",
    "In Shell bash a1 and a2 are strings. The return is a string where words are separated by commas.\n",
    "Beware: r must be without duplicates.\n",
    "Don't mutate the inputs.\n",
    "'''"
   ]
  },
  {
   "cell_type": "code",
   "execution_count": 5,
   "metadata": {},
   "outputs": [
    {
     "name": "stdout",
     "output_type": "stream",
     "text": [
      "['arp', 'live', 'strong']\n"
     ]
    }
   ],
   "source": [
    "def in_array(array1, array2):\n",
    "    l = []\n",
    "    for i in array1:\n",
    "        for j in array2:\n",
    "            if i in j:\n",
    "                l.append(i)\n",
    "                break\n",
    "    l.sort()\n",
    "    if len(l) != 0:        \n",
    "        m = l[0]\n",
    "        for i in l[1:]:\n",
    "            if i == m:\n",
    "                l.remove(i)\n",
    "            else:\n",
    "                m = i\n",
    "    return l\n",
    "\n",
    "a1 = [\"live\", \"arp\",\"arp\", \"strong\"] \n",
    "a2 = [\"lively\", \"alive\", \"harp\", \"sharp\", \"armstrong\"]\n",
    "r = ['arp', 'live', 'strong']\n",
    "print(in_array(a1,a2))"
   ]
  },
  {
   "cell_type": "code",
   "execution_count": 6,
   "metadata": {},
   "outputs": [
    {
     "name": "stdout",
     "output_type": "stream",
     "text": [
      "['arp', 'live', 'strong']\n"
     ]
    }
   ],
   "source": [
    "def in_array(a1, a2):\n",
    "    return sorted({sub for sub in a1 if any(sub in s for s in a2)})\n",
    "\n",
    "a1 = [\"live\", \"arp\",\"arp\", \"strong\"] \n",
    "a2 = [\"lively\", \"alive\", \"harp\", \"sharp\", \"armstrong\"]\n",
    "r = ['arp', 'live', 'strong']\n",
    "print(in_array(a1,a2))"
   ]
  },
  {
   "cell_type": "code",
   "execution_count": 7,
   "metadata": {},
   "outputs": [
    {
     "name": "stdout",
     "output_type": "stream",
     "text": [
      "['arp', 'live', 'strong']\n"
     ]
    }
   ],
   "source": [
    "def in_array(array1, array2):\n",
    "    res = []\n",
    "    for a1 in array1:\n",
    "        for a2 in array2:\n",
    "            #这个 not in 下次得记得用\n",
    "            if a1 in a2 and not a1 in res:\n",
    "                res.append(a1)\n",
    "    res.sort()\n",
    "    return res\n",
    "\n",
    "a1 = [\"live\", \"arp\",\"arp\", \"strong\"] \n",
    "a2 = [\"lively\", \"alive\", \"harp\", \"sharp\", \"armstrong\"]\n",
    "r = ['arp', 'live', 'strong']\n",
    "print(in_array(a1,a2))"
   ]
  },
  {
   "cell_type": "code",
   "execution_count": null,
   "metadata": {},
   "outputs": [],
   "source": [
    "'''\n",
    "您将获得一个整数数组。你的工作是获取该数组并找到一个索引N，其中N左边的整数之和等于N右边的整数之和。如果没有索引可以实现这一点，则返回-1。\n",
    "例如：\n",
    "假设您得到了数组{1,2,3,4,3,2,1}：\n",
    "您的函数将返回索引3，因为在数组的第3个位置，索引（{1,2,3}）的左侧和索引（）的右侧之和的总和{3,2,1}都相等6。\n",
    "让我们看看另一个。\n",
    "你得到了数组{1,100,50,-51,1,1}：\n",
    "你的函数将返回索引1，因为在数组的第一个位置，索引（{1}）的左边和索引（）的右边的总和{50,-51,1,1}都相等1。\n",
    "最后一个：\n",
    "给你数组{20,10,-80,10,10,15,35}\n",
    "在索引0左边是{}\n",
    "右边是{10,-80,10,10,15,35}\n",
    "它们两个都等于0添加时。（此问题中的空数组等于0）\n",
    "索引0是左侧和右侧相等的位置。\n",
    "注意：请记住，在大多数编程/脚本语言中，数组的索引从0开始。\n",
    "输入：\n",
    "长度为整数的数组0 < arr < 1000。数组中的数字可以是任何整数正数或负数。\n",
    "输出：左侧的左侧等于右侧的\n",
    "最低索引。如果您没有找到符合这些规则的索引，那么您将返回。NNN-1\n",
    "注意：\n",
    "如果为您提供包含多个答案的数组，请返回最低的正确索引。\n",
    "一个空数组应该像0这个问题一样对待。\n",
    "'''"
   ]
  },
  {
   "cell_type": "code",
   "execution_count": 8,
   "metadata": {},
   "outputs": [
    {
     "data": {
      "text/plain": [
       "3"
      ]
     },
     "execution_count": 8,
     "metadata": {},
     "output_type": "execute_result"
    }
   ],
   "source": [
    "def find_even_index(arr):\n",
    "    l = len(arr)\n",
    "    for i in range(l):\n",
    "        sum1 = sum(arr[:i])\n",
    "        '''注意：sum2是从i+1开始加的'''\n",
    "        sum2 = sum(arr[i+1:])\n",
    "        if sum1 == sum2:\n",
    "            return i\n",
    "    return -1\n",
    "find_even_index([1,2,3,4,3,2,1])"
   ]
  },
  {
   "cell_type": "code",
   "execution_count": 9,
   "metadata": {},
   "outputs": [
    {
     "data": {
      "text/plain": [
       "3"
      ]
     },
     "execution_count": 9,
     "metadata": {},
     "output_type": "execute_result"
    }
   ],
   "source": [
    "def find_even_index(arr):\n",
    "    for i in range(len(arr)):\n",
    "        if sum(arr[:i]) == sum(arr[i+1:]):\n",
    "            return i\n",
    "    return -1\n",
    "\n",
    "find_even_index([1,2,3,4,3,2,1])"
   ]
  },
  {
   "cell_type": "code",
   "execution_count": 10,
   "metadata": {},
   "outputs": [
    {
     "data": {
      "text/plain": [
       "3"
      ]
     },
     "execution_count": 10,
     "metadata": {},
     "output_type": "execute_result"
    }
   ],
   "source": [
    "def find_even_index(lst):\n",
    "    left_sum = 0\n",
    "    right_sum = sum(lst)\n",
    "    #numerate() 函数用于将一个可遍历的数据对象(如列表、元组或字符串)组合为一个索引序列，同时列出数据和数据下标，一般用在 for 循环当中\n",
    "    for i, a in enumerate(lst):\n",
    "        right_sum -= a\n",
    "        if left_sum == right_sum:\n",
    "            return i\n",
    "        left_sum += a\n",
    "    return -1\n",
    "\n",
    "find_even_index([1,2,3,4,3,2,1])"
   ]
  },
  {
   "cell_type": "code",
   "execution_count": null,
   "metadata": {},
   "outputs": [],
   "source": [
    "'''将每个单词的第一个字母移动到它的末尾，然后在单词的末尾添加“ay”。保持标点符号不变'''"
   ]
  },
  {
   "cell_type": "code",
   "execution_count": 11,
   "metadata": {},
   "outputs": [
    {
     "data": {
      "text/plain": [
       "'hisTay siay ymay tringsay'"
      ]
     },
     "execution_count": 11,
     "metadata": {},
     "output_type": "execute_result"
    }
   ],
   "source": [
    "def pig_it(text):\n",
    "    s = text.split(\" \")\n",
    "    w = []\n",
    "    for i in s:\n",
    "        if len(i) > 1:\n",
    "            i = i[1:] + i[0] + \"ay\"\n",
    "            w.append(i)\n",
    "        elif len(i) == 1:\n",
    "            if i in 'abcdefghijklmnopqrstuvwxyzABCDEFGHIJKLMNOPQRSTUVWXYZ':\n",
    "                i = i[1:] + i[0] + \"ay\"\n",
    "                w.append(i)\n",
    "            else:\n",
    "                w.append(i)\n",
    "                continue\n",
    "    return(\" \".join(w))\n",
    "    \n",
    "pig_it('This is my string')"
   ]
  },
  {
   "cell_type": "code",
   "execution_count": 12,
   "metadata": {},
   "outputs": [
    {
     "data": {
      "text/plain": [
       "'hisTay siay ymay tringsay'"
      ]
     },
     "execution_count": 12,
     "metadata": {},
     "output_type": "execute_result"
    }
   ],
   "source": [
    "def pig_it(text):\n",
    "    return ' '.join([x[1:]+x[0]+'ay' if x.isalpha() else x for x in text.split()])\n",
    "\n",
    "pig_it('This is my string')"
   ]
  },
  {
   "cell_type": "code",
   "execution_count": 18,
   "metadata": {},
   "outputs": [
    {
     "data": {
      "text/plain": [
       "'hisTay siay ymay tringsay'"
      ]
     },
     "execution_count": 18,
     "metadata": {},
     "output_type": "execute_result"
    }
   ],
   "source": [
    "def pig_it(text):\n",
    "    res = []    \n",
    "    for i in text.split():\n",
    "        '''isalpha() 方法检测字符串是否只由字母组成'''\n",
    "        if i.isalpha():\n",
    "            res.append(i[1:]+i[0]+'ay')\n",
    "        else:\n",
    "            res.append(i)            \n",
    "    return ' '.join(res)\n",
    "\n",
    "pig_it('This is my string')"
   ]
  },
  {
   "cell_type": "code",
   "execution_count": 14,
   "metadata": {},
   "outputs": [
    {
     "name": "stdout",
     "output_type": "stream",
     "text": [
      "hisTay\n",
      "siay\n",
      "ymay\n",
      "tringsay\n"
     ]
    }
   ],
   "source": [
    "text = 'This is my string'\n",
    "s = text.split(\" \")\n",
    "for i in s:\n",
    "    if len(i) > 1:\n",
    "        i = i[1:] + i[0] + \"ay\"\n",
    "        print(i)"
   ]
  },
  {
   "cell_type": "code",
   "execution_count": 15,
   "metadata": {},
   "outputs": [
    {
     "name": "stdout",
     "output_type": "stream",
     "text": [
      "['hi', 'hello', 'world']\n"
     ]
    }
   ],
   "source": [
    "'''字符串转列表'''\n",
    "str1 = \"hi hello world\"\n",
    "print(str1.split(\" \"))"
   ]
  },
  {
   "cell_type": "code",
   "execution_count": 16,
   "metadata": {},
   "outputs": [
    {
     "name": "stdout",
     "output_type": "stream",
     "text": [
      "hi hello world\n"
     ]
    }
   ],
   "source": [
    "'''列表转字符串'''\n",
    "l = [\"hi\",\"hello\",\"world\"]\n",
    "print(\" \".join(l))"
   ]
  },
  {
   "cell_type": "code",
   "execution_count": null,
   "metadata": {},
   "outputs": [],
   "source": []
  }
 ],
 "metadata": {
  "kernelspec": {
   "display_name": "Python 3",
   "language": "python",
   "name": "python3"
  },
  "language_info": {
   "codemirror_mode": {
    "name": "ipython",
    "version": 3
   },
   "file_extension": ".py",
   "mimetype": "text/x-python",
   "name": "python",
   "nbconvert_exporter": "python",
   "pygments_lexer": "ipython3",
   "version": "3.7.1"
  }
 },
 "nbformat": 4,
 "nbformat_minor": 2
}
