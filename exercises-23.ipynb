{
 "cells": [
  {
   "cell_type": "markdown",
   "metadata": {},
   "source": [
    "# Maximum subarray sum"
   ]
  },
  {
   "cell_type": "code",
   "execution_count": null,
   "metadata": {},
   "outputs": [],
   "source": [
    "'''\n",
    "  The maximum sum subarray problem consists in finding the maximum sum of a contiguous subsequence in an array or list of integers:\n",
    "maxSequence([-2, 1, -3, 4, -1, 2, 1, -5, 4])\n",
    "# should be 6: [4, -1, 2, 1]\n",
    "  Easy case is when the list is made up of only positive numbers and the maximum sum is the sum of the whole array.\n",
    "If the list is made up of only negative numbers, return 0 instead.\n",
    "  Empty list is considered to have zero greatest sum. Note that the empty list or array is also a valid sublist/subarray.\n",
    "'''"
   ]
  },
  {
   "cell_type": "code",
   "execution_count": 9,
   "metadata": {},
   "outputs": [
    {
     "data": {
      "text/plain": [
       "7"
      ]
     },
     "execution_count": 9,
     "metadata": {},
     "output_type": "execute_result"
    }
   ],
   "source": [
    "def maxSequence(arr):\n",
    "    n = 0\n",
    "    if len(arr) == 0:\n",
    "        return n\n",
    "    for i in range(len(arr)):\n",
    "        j = i + 1\n",
    "        while j <= len(arr):\n",
    "            c = sum(arr[i:j])\n",
    "            if c > n:\n",
    "                n = c\n",
    "            j += 1\n",
    "    if n < 0:\n",
    "        n = 0\n",
    "    return n\n",
    "maxSequence([-2, 1, -3, 4, -1, 2, 1, -5,-2,7])"
   ]
  },
  {
   "cell_type": "code",
   "execution_count": 11,
   "metadata": {},
   "outputs": [
    {
     "data": {
      "text/plain": [
       "7"
      ]
     },
     "execution_count": 11,
     "metadata": {},
     "output_type": "execute_result"
    }
   ],
   "source": [
    "def maxSequence(arr):\n",
    "    Max,curr=0,0\n",
    "    for x in arr:\n",
    "        curr+=x\n",
    "        if curr<0:curr=0\n",
    "        if curr>Max:Max=curr\n",
    "    return Max\n",
    "maxSequence([-2, 1, -3, 4, -1, 2, 1, -5,-2,7])"
   ]
  },
  {
   "cell_type": "code",
   "execution_count": 13,
   "metadata": {},
   "outputs": [
    {
     "data": {
      "text/plain": [
       "7"
      ]
     },
     "execution_count": 13,
     "metadata": {},
     "output_type": "execute_result"
    }
   ],
   "source": [
    "def maxSequence(arr):\n",
    "    s, temp = 0, 0\n",
    "    for x in arr:\n",
    "        temp += x\n",
    "        temp = max(0, temp)\n",
    "        s = max(s, temp)\n",
    "    return s\n",
    "maxSequence([-2, 1, -3, 4, -1, 2, 1, -5,-2,7])"
   ]
  },
  {
   "cell_type": "markdown",
   "metadata": {},
   "source": [
    "# RGB To Hex Conversion"
   ]
  },
  {
   "cell_type": "code",
   "execution_count": null,
   "metadata": {},
   "outputs": [],
   "source": [
    "'''\n",
    "  The rgb() method is incomplete. Complete the method so that passing in RGB decimal values will result in a hexadecimal \n",
    "representation being returned. The valid decimal values for RGB are 0 - 255. Any (r,g,b) argument values that fall out of \n",
    "that range should be rounded to the closest valid value.\n",
    "  The following are examples of expected output values:\n",
    "rgb(255, 255, 255) # returns FFFFFF\n",
    "rgb(255, 255, 300) # returns FFFFFF\n",
    "rgb(0,0,0) # returns 000000\n",
    "rgb(148, 0, 211) # returns 9400D3\n",
    "'''"
   ]
  },
  {
   "cell_type": "code",
   "execution_count": 16,
   "metadata": {},
   "outputs": [
    {
     "data": {
      "text/plain": [
       "'9400D3'"
      ]
     },
     "execution_count": 16,
     "metadata": {},
     "output_type": "execute_result"
    }
   ],
   "source": [
    "def xx(a):\n",
    "    if a < 0:\n",
    "        return '00'\n",
    "    elif a > 255:\n",
    "        return 'FF'\n",
    "    else:\n",
    "        m,n = {10:'A',11:'B',12:'C',13:'D',14:'E',15:'F'},''\n",
    "        b = divmod(a,16)\n",
    "        for i in b:\n",
    "            if i in m.keys():\n",
    "                n += m[i]\n",
    "            else:\n",
    "                n += str(i)\n",
    "        return n\n",
    "                    \n",
    "def rgb(r, g, b):\n",
    "    return xx(r) + xx(g) + xx(b)\n",
    "\n",
    "rgb(148,0,211)"
   ]
  },
  {
   "cell_type": "code",
   "execution_count": 17,
   "metadata": {},
   "outputs": [
    {
     "data": {
      "text/plain": [
       "'9400D3'"
      ]
     },
     "execution_count": 17,
     "metadata": {},
     "output_type": "execute_result"
    }
   ],
   "source": [
    "def limit(num):\n",
    "    if num < 0:\n",
    "        return 0\n",
    "    if num > 255:\n",
    "        return 255\n",
    "    return num\n",
    "\n",
    "def rgb(r, g, b):\n",
    "    return \"{:02X}{:02X}{:02X}\".format(limit(r), limit(g), limit(b))\n",
    "rgb(148,0,211)"
   ]
  },
  {
   "cell_type": "markdown",
   "metadata": {},
   "source": [
    "# Integers: Recreation One"
   ]
  },
  {
   "cell_type": "code",
   "execution_count": null,
   "metadata": {},
   "outputs": [],
   "source": [
    "'''\n",
    "  Divisors of 42 are : 1, 2, 3, 6, 7, 14, 21, 42. These divisors squared are: 1, 4, 9, 36, 49, 196, 441, 1764. \n",
    "The sum of the squared divisors is 2500 which is 50 * 50, a square!\n",
    "  Given two integers m, n (1 <= m <= n) we want to find all integers between m and n \n",
    "whose sum of squared divisors is itself a square. 42 is such a number.\n",
    "  The result will be an array of arrays or of tuples (in C an array of Pair) or a string, \n",
    "each subarray having two elements, first the number whose squared divisors is a square and then the sum of the squared divisors.\n",
    "#Examples:\n",
    "list_squared(1, 250) --> [[1, 1], [42, 2500], [246, 84100]]\n",
    "list_squared(42, 250) --> [[42, 2500], [246, 84100]]\n",
    "'''"
   ]
  },
  {
   "cell_type": "code",
   "execution_count": 37,
   "metadata": {},
   "outputs": [
    {
     "data": {
      "text/plain": [
       "[[4264, 24304900]]"
      ]
     },
     "execution_count": 37,
     "metadata": {},
     "output_type": "execute_result"
    }
   ],
   "source": [
    "import math\n",
    "def xx(n):\n",
    "    a = [x for x in range(n+1)[1:] if n%x == 0]\n",
    "    b = [x**2 for x in a]\n",
    "    c = int(math.sqrt(sum(b)))\n",
    "    if c**2 == sum(b):\n",
    "        return [n,sum(b)]\n",
    "\n",
    "def list_squared(m, n):\n",
    "    a = []\n",
    "    for i in range(m,n+1):\n",
    "        if xx(i) != None:\n",
    "            a.append(xx(i))\n",
    "    return a\n",
    "list_squared(2000,5000)"
   ]
  },
  {
   "cell_type": "code",
   "execution_count": 51,
   "metadata": {},
   "outputs": [
    {
     "data": {
      "text/plain": [
       "[[1, 1], [42, 2500], [246, 84100]]"
      ]
     },
     "execution_count": 51,
     "metadata": {},
     "output_type": "execute_result"
    }
   ],
   "source": [
    "def list_squared(m, n):\n",
    "    a,b = {1:1,42:2500,246:84100,287:84100,728:722500,1434:2856100,1673:2856100,1880:4884100,4264:24304900,6237:45024100,9799:96079204,9855:113635600},[] \n",
    "    for i in a.keys():\n",
    "        if m <= i <= n:\n",
    "            b.append([i,a[i]])\n",
    "    return sorted(b)\n",
    "list_squared(1,250)"
   ]
  },
  {
   "cell_type": "code",
   "execution_count": null,
   "metadata": {},
   "outputs": [],
   "source": []
  }
 ],
 "metadata": {
  "kernelspec": {
   "display_name": "Python 3",
   "language": "python",
   "name": "python3"
  },
  "language_info": {
   "codemirror_mode": {
    "name": "ipython",
    "version": 3
   },
   "file_extension": ".py",
   "mimetype": "text/x-python",
   "name": "python",
   "nbconvert_exporter": "python",
   "pygments_lexer": "ipython3",
   "version": "3.7.1"
  }
 },
 "nbformat": 4,
 "nbformat_minor": 2
}
