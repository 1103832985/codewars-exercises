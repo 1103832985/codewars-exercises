{
 "cells": [
  {
   "cell_type": "markdown",
   "metadata": {},
   "source": [
    "# Bit Counting"
   ]
  },
  {
   "cell_type": "code",
   "execution_count": null,
   "metadata": {},
   "outputs": [],
   "source": [
    "'''\n",
    "Write a function that takes an integer as input, and returns the number of bits\n",
    "that are equal to one in the binary representation of that number. You can guarantee that input is non-negative.\n",
    "Example: The binary representation of 1234 is 10011010010, so the function should return 5 in this cas\n",
    "test.assert_equals(countBits(0), 0);\n",
    "test.assert_equals(countBits(4), 1);\n",
    "test.assert_equals(countBits(7), 3);\n",
    "test.assert_equals(countBits(9), 2);\n",
    "test.assert_equals(countBits(10), 2);\n",
    "'''"
   ]
  },
  {
   "cell_type": "code",
   "execution_count": 7,
   "metadata": {},
   "outputs": [
    {
     "data": {
      "text/plain": [
       "3"
      ]
     },
     "execution_count": 7,
     "metadata": {},
     "output_type": "execute_result"
    }
   ],
   "source": [
    "def countBits(n):\n",
    "    return str(bin(n)).count('1')\n",
    "countBits(7)"
   ]
  },
  {
   "cell_type": "markdown",
   "metadata": {},
   "source": [
    "# Replace With Alphabet Position"
   ]
  },
  {
   "cell_type": "code",
   "execution_count": 21,
   "metadata": {},
   "outputs": [
    {
     "data": {
      "text/plain": [
       "'\\nIn this kata you are required to, given a string, replace every letter with its position in the alphabet.\\nIf anything in the text isn\\'t a letter, ignore it and don\\'t return it.\\n\"a\" = 1, \"b\" = 2, etc.\\nExample\\nalphabet_position(\"The sunset sets at twelve o\\' clock.\")\\nShould return \"20 8 5 19 21 14 19 5 20 19 5 20 19 1 20 20 23 5 12 22 5 15 3 12 15 3 11\" (as a string)\\n'"
      ]
     },
     "execution_count": 21,
     "metadata": {},
     "output_type": "execute_result"
    }
   ],
   "source": [
    "'''\n",
    "In this kata you are required to, given a string, replace every letter with its position in the alphabet.\n",
    "If anything in the text isn't a letter, ignore it and don't return it.\n",
    "\"a\" = 1, \"b\" = 2, etc.\n",
    "Example\n",
    "alphabet_position(\"The sunset sets at twelve o' clock.\")\n",
    "Should return \"20 8 5 19 21 14 19 5 20 19 5 20 19 1 20 20 23 5 12 22 5 15 3 12 15 3 11\" (as a string)\n",
    "'''"
   ]
  },
  {
   "cell_type": "code",
   "execution_count": 3,
   "metadata": {},
   "outputs": [
    {
     "data": {
      "text/plain": [
       "'20 8 5 19 21 14 19 5 20 19 5 20 19 1 20 20 23 5 12 22 5 15 3 12 15 3 11'"
      ]
     },
     "execution_count": 3,
     "metadata": {},
     "output_type": "execute_result"
    }
   ],
   "source": [
    "def alphabet_position(text):\n",
    "    n = []\n",
    "    for i in text:\n",
    "        if i.isalpha():\n",
    "            m = ord(i.lower()) - 96\n",
    "            n.append(str(m))\n",
    "    return ' '.join(n)\n",
    "alphabet_position(\"The sunset sets at twelve o' clock.\")    "
   ]
  },
  {
   "cell_type": "code",
   "execution_count": 4,
   "metadata": {},
   "outputs": [
    {
     "data": {
      "text/plain": [
       "'20 8 5 19 21 14 19 5 20 19 5 20 19 1 20 20 23 5 12 22 5 15 3 12 15 3 11'"
      ]
     },
     "execution_count": 4,
     "metadata": {},
     "output_type": "execute_result"
    }
   ],
   "source": [
    "def alphabet_position(text):\n",
    "    return ' '.join(str(ord(c) - 96) for c in text.lower() if c.isalpha())\n",
    "alphabet_position(\"The sunset sets at twelve o' clock.\")   "
   ]
  },
  {
   "cell_type": "markdown",
   "metadata": {},
   "source": [
    "# Array.diff"
   ]
  },
  {
   "cell_type": "code",
   "execution_count": null,
   "metadata": {},
   "outputs": [],
   "source": [
    "'''\n",
    "Your goal in this kata is to implement a difference function, which subtracts one list from another and returns the result.\n",
    "It should remove all values from list a, which are present in list b.\n",
    "array_diff([1,2],[1]) == [2]\n",
    "If a value is present in b, all of its occurrences must be removed from the other:\n",
    "array_diff([1,2,2,2,3],[2]) == [1,3]\n",
    "'''"
   ]
  },
  {
   "cell_type": "code",
   "execution_count": 9,
   "metadata": {},
   "outputs": [
    {
     "data": {
      "text/plain": [
       "[1, 3, 4, 5]"
      ]
     },
     "execution_count": 9,
     "metadata": {},
     "output_type": "execute_result"
    }
   ],
   "source": [
    "def array_diff(a, b):\n",
    "    n = []\n",
    "    for i in a:\n",
    "        if i not in b:\n",
    "            n.append(i)\n",
    "    return n\n",
    "\n",
    "array_diff([1,2,2,3,4,5], [2])"
   ]
  },
  {
   "cell_type": "code",
   "execution_count": 10,
   "metadata": {},
   "outputs": [
    {
     "data": {
      "text/plain": [
       "[1, 3, 4, 5]"
      ]
     },
     "execution_count": 10,
     "metadata": {},
     "output_type": "execute_result"
    }
   ],
   "source": [
    "def array_diff(a, b):\n",
    "    return [x for x in a if x not in b]\n",
    "array_diff([1,2,2,3,4,5], [2])"
   ]
  },
  {
   "cell_type": "code",
   "execution_count": null,
   "metadata": {},
   "outputs": [],
   "source": []
  }
 ],
 "metadata": {
  "kernelspec": {
   "display_name": "Python 3",
   "language": "python",
   "name": "python3"
  },
  "language_info": {
   "codemirror_mode": {
    "name": "ipython",
    "version": 3
   },
   "file_extension": ".py",
   "mimetype": "text/x-python",
   "name": "python",
   "nbconvert_exporter": "python",
   "pygments_lexer": "ipython3",
   "version": "3.7.1"
  }
 },
 "nbformat": 4,
 "nbformat_minor": 2
}
